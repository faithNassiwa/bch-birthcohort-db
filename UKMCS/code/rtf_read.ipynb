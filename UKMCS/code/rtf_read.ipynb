{
 "cells": [
  {
   "cell_type": "code",
   "execution_count": 15,
   "outputs": [
    {
     "name": "stdout",
     "output_type": "stream",
     "text": [
      "Requirement already satisfied: pyth in /Users/faith/opt/anaconda3/lib/python3.8/site-packages (0.6.0)\r\n"
     ]
    },
    {
     "ename": "SyntaxError",
     "evalue": "invalid syntax (reader.py, line 653)",
     "output_type": "error",
     "traceback": [
      "Traceback \u001B[0;36m(most recent call last)\u001B[0m:\n",
      "  File \u001B[1;32m\"/Users/faith/opt/anaconda3/lib/python3.8/site-packages/IPython/core/interactiveshell.py\"\u001B[0m, line \u001B[1;32m3457\u001B[0m, in \u001B[1;35mrun_code\u001B[0m\n    exec(code_obj, self.user_global_ns, self.user_ns)\n",
      "\u001B[0;36m  File \u001B[0;32m\"/var/folders/1x/c9ycntqx5y5cqfx0f1c27dh80000gn/T/ipykernel_63556/2733018484.py\"\u001B[0;36m, line \u001B[0;32m5\u001B[0;36m, in \u001B[0;35m<module>\u001B[0;36m\u001B[0m\n\u001B[0;31m    from pyth.plugins.rtf15.reader import Rtf15Reader\u001B[0m\n",
      "\u001B[0;36m  File \u001B[0;32m\"/Users/faith/opt/anaconda3/lib/python3.8/site-packages/pyth/plugins/rtf15/reader.py\"\u001B[0;36m, line \u001B[0;32m653\u001B[0m\n\u001B[0;31m    match = re.match(ur'HYPERLINK \"(.*)\"', destination)\u001B[0m\n\u001B[0m                       ^\u001B[0m\n\u001B[0;31mSyntaxError\u001B[0m\u001B[0;31m:\u001B[0m invalid syntax\n"
     ]
    }
   ],
   "source": [
    "import re\n",
    "import pandas as pd\n",
    "import os\n",
    "!pip install pyth\n",
    "from pyth.plugins.rtf15.reader import Rtf15Reader\n",
    "from pyth.plugins.plaintext.writer import PlaintextWriter\n",
    "\n",
    "def read_rtf(file_path):\n",
    "    \"\"\"Read RTF file and convert it to plain text.\"\"\"\n",
    "    with open(file_path, 'rb') as file:\n",
    "        doc = Rtf15Reader.read(file)\n",
    "        text = PlaintextWriter.write(doc).getvalue()\n",
    "    return text\n",
    "\n",
    "def parse_rtf_content(text):\n",
    "    \"\"\"Parse RTF content to extract variable information.\"\"\"\n",
    "    # Extract the file name\n",
    "    file_name_match = re.search(r\"File Name =\\s+([^\\n]+)\", text)\n",
    "    file_name = file_name_match.group(1).strip() if file_name_match else \"Unknown\"\n",
    "\n",
    "    # Extract variables\n",
    "    data = []\n",
    "    # Regex to find each variable block\n",
    "    variable_blocks = re.finditer(r\"Pos\\. = (\\d+).*?Variable = (.*?)\\s+Variable label = (.*?)(?=\\n\\nPos\\. = |\\Z)\", text, re.DOTALL)\n",
    "    for block in variable_blocks:\n",
    "        position = block.group(1).strip()\n",
    "        variable = block.group(2).strip()\n",
    "        variable_label = block.group(3).strip()\n",
    "\n",
    "        # Find data type and measurement level\n",
    "        data_type_match = re.search(r\"This variable is\\s+(\\w+), the SPSS measurement level is (\\w+)\", block.group(0))\n",
    "        data_type = f\"{data_type_match.group(1)}, {data_type_match.group(2)}\" if data_type_match else \"Unknown\"\n",
    "\n",
    "        # Find value labels\n",
    "        value_labels = []\n",
    "        value_label_matches = re.finditer(r\"Value = (.*?)\\s+Label = (.*?)\\n\", block.group(0))\n",
    "        for vl_match in value_label_matches:\n",
    "            value = vl_match.group(1).strip()\n",
    "            label = vl_match.group(2).strip()\n",
    "            value_labels.append(f\"{value} = {label}\")\n",
    "\n",
    "        value_label_info = \"; \".join(value_labels)\n",
    "\n",
    "        data.append({\n",
    "            \"file_name\": file_name,\n",
    "            \"position\": position,\n",
    "            \"variable\": variable,\n",
    "            \"variable_label\": variable_label,\n",
    "            \"data_type\": data_type,\n",
    "            \"value_label_info\": value_label_info\n",
    "        })\n",
    "\n",
    "    return data\n",
    "\n",
    "# Paths to the RTF files\n",
    "#directory_9m = '/Users/faith/Desktop/Work/Boston Childrens Hospital/birth-cohort-db/UKMCS/data_dump/UKDA-4683-tab-9m/mrdoc/ukda_data_dictionaries'\n",
    "#file_paths = [os.path.join(directory_9m, file) for file in os.listdir(directory_9m) if os.path.isfile(os.path.join(directory_9m, file))]\n",
    "file_paths =['/Users/faith/Desktop/Work/Boston Childrens Hospital/birth-cohort-db/UKMCS/data_dump/UKDA-4683-tab-9m/mrdoc/ukda_data_dictionaries/mcs1_cm_derived_ukda_data_dictionary.rtf', '/Users/faith/Desktop/Work/Boston Childrens Hospital/birth-cohort-db/UKMCS/data_dump/UKDA-4683-tab-9m/mrdoc/ukda_data_dictionaries/mcs1_cm_derived_ukda_data_dictionary.rtf', '/Users/faith/Desktop/Work/Boston Childrens Hospital/birth-cohort-db/UKMCS/data_dump/UKDA-4683-tab-9m/mrdoc/ukda_data_dictionaries/mcs1_cm_derived_ukda_data_dictionary.rtf']\n",
    "all_data = []\n",
    "\n",
    "for file_path in file_paths:\n",
    "    content = read_rtf(file_path)\n",
    "    all_data.extend(parse_rtf_content(content))\n",
    "\n",
    "# Create a DataFrame and save to CSV\n",
    "df = pd.DataFrame(all_data)\n",
    "csv_path = '/Users/faith/Desktop/Work/Boston Childrens Hospital/birth-cohort-db/UKMCS/code/extracted_data.csv'\n",
    "df.to_csv(csv_path, index=False)"
   ],
   "metadata": {
    "collapsed": false,
    "ExecuteTime": {
     "end_time": "2024-05-28T02:20:34.810582Z",
     "start_time": "2024-05-28T02:20:27.426667Z"
    }
   },
   "id": "e9664a706ef8df67"
  },
  {
   "cell_type": "code",
   "execution_count": null,
   "outputs": [],
   "source": [],
   "metadata": {
    "collapsed": false
   },
   "id": "32f16e6f0d8593d0"
  }
 ],
 "metadata": {
  "kernelspec": {
   "display_name": "Python 3",
   "language": "python",
   "name": "python3"
  },
  "language_info": {
   "codemirror_mode": {
    "name": "ipython",
    "version": 2
   },
   "file_extension": ".py",
   "mimetype": "text/x-python",
   "name": "python",
   "nbconvert_exporter": "python",
   "pygments_lexer": "ipython2",
   "version": "2.7.6"
  }
 },
 "nbformat": 4,
 "nbformat_minor": 5
}
