{
 "cells": [
  {
   "cell_type": "code",
   "execution_count": 1,
   "outputs": [
    {
     "name": "stdout",
     "output_type": "stream",
     "text": [
      "Requirement already satisfied: pypandoc in /Users/faith/opt/anaconda3/lib/python3.8/site-packages (1.13)\r\n",
      "Requirement already satisfied: pandoc in /Users/faith/opt/anaconda3/lib/python3.8/site-packages (2.3)\r\n",
      "Requirement already satisfied: plumbum in /Users/faith/opt/anaconda3/lib/python3.8/site-packages (from pandoc) (1.8.3)\r\n",
      "Requirement already satisfied: ply in /Users/faith/opt/anaconda3/lib/python3.8/site-packages (from pandoc) (3.11)\r\n"
     ]
    }
   ],
   "source": [
    "!pip install pypandoc\n",
    "!pip install pandoc\n",
    "import re\n",
    "import pandas as pd\n",
    "import os\n",
    "import pypandoc"
   ],
   "metadata": {
    "collapsed": false,
    "ExecuteTime": {
     "end_time": "2024-06-11T16:29:02.235646Z",
     "start_time": "2024-06-11T16:28:49.623646Z"
    }
   },
   "id": "e9664a706ef8df67"
  },
  {
   "cell_type": "code",
   "execution_count": 16,
   "outputs": [],
   "source": [
    "# Read RTF File and convert to plain text\n",
    "def read_rtf(file_path):\n",
    "    \"\"\"Read RTF file and convert it to plain text using pypandoc.\"\"\"\n",
    "    try:\n",
    "        with open(file_path, 'r', encoding='utf-8') as file:\n",
    "            rtf_content = file.read()\n",
    "    except UnicodeDecodeError:\n",
    "        with open(file_path, 'r', encoding='latin1') as file:\n",
    "            rtf_content = file.read()\n",
    "\n",
    "    text = pypandoc.convert_text(rtf_content, 'plain', format='rtf')\n",
    "    #text = pypandoc.convert_file(file_path, 'plain')\n",
    "    return text"
   ],
   "metadata": {
    "collapsed": false,
    "ExecuteTime": {
     "end_time": "2024-06-11T23:17:19.433316Z",
     "start_time": "2024-06-11T23:17:19.425933Z"
    }
   },
   "id": "42744f34ea4bb3b7"
  },
  {
   "cell_type": "code",
   "execution_count": 17,
   "outputs": [],
   "source": [
    "def parse_rtf_content(text):\n",
    "    \"\"\"Parse RTF content to extract variable information.\"\"\"\n",
    "    # Extract the filename\n",
    "    file_name_match = re.search(r'File Name\\s*=\\s*([^\\n]+)', text)\n",
    "    file_name =file_name_match.group(1).strip() if file_name_match else 'Unknown'\n",
    "    \n",
    "    # Debugging output for file name \n",
    "    print(f\"Parsing file: {file_name} from {file_path}\")\n",
    "    \n",
    "    # Extract Variables \n",
    "    data = []\n",
    "    # Regex to find each variable block\n",
    "    variable_blocks = re.finditer(r\"Pos\\. = (\\d+).*?Variable = (.*?)\\s+Variable label = (.*?)(?=\\n+Pos\\. = |\\Z)\", text, re.DOTALL)\n",
    "    block_count = 0\n",
    "    for block in variable_blocks:\n",
    "        block_count += 1\n",
    "        position = block.group(1).strip()\n",
    "        variable = block.group(2).strip()\n",
    "        variable_label = block.group(3).strip()\n",
    "\n",
    "        # Find data type and measurement level\n",
    "        data_type_match = re.search(r\"This variable is\\s+(\\w+), the SPSS measurement level is (\\w+)\", block.group(0))\n",
    "        data_type = f\"{data_type_match.group(1)}, {data_type_match.group(2)}\" if data_type_match else \"Unknown\"\n",
    "\n",
    "        # Find value labels\n",
    "        value_labels = []\n",
    "        value_label_matches = re.finditer(r\"Value = (.*?)\\s+Label = (.*?)\\n\", block.group(0))\n",
    "        for vl_match in value_label_matches:\n",
    "            value = vl_match.group(1).strip()\n",
    "            label = vl_match.group(2).strip()\n",
    "            value_labels.append(f\"{value} = {label}\")\n",
    "\n",
    "        value_label_options = \"; \".join(value_labels)\n",
    "\n",
    "        data.append({\n",
    "            \"file_name\": file_name,\n",
    "            \"position\": position,\n",
    "            \"variable\": variable,\n",
    "            \"variable_label\": variable_label,\n",
    "            \"data_type\": data_type,\n",
    "            \"value_label_options\": value_label_options\n",
    "        })\n",
    "\n",
    "    # Debugging output for number of blocks parsed\n",
    "    print(f\"Parsed {block_count} variable blocks from {file_name}\")\n",
    "        \n",
    "    return data\n"
   ],
   "metadata": {
    "collapsed": false,
    "ExecuteTime": {
     "end_time": "2024-06-11T23:17:26.969329Z",
     "start_time": "2024-06-11T23:17:26.937181Z"
    }
   },
   "id": "7e7bcc8e20151460"
  },
  {
   "cell_type": "code",
   "execution_count": 20,
   "outputs": [
    {
     "name": "stdout",
     "output_type": "stream",
     "text": [
      "Parsing file: mcs1_parent_interview from /Users/faith/Desktop/Work/Boston Childrens Hospital/birth-cohort-db/UKMCS/data_dump/UKDA-4683-tab-9m/mrdoc/ukda_data_dictionaries/mcs1_parent_interview_ukda_data_dictionary.rtf\n",
      "Parsed 665 variable blocks from mcs1_parent_interview\n",
      "Parsing file: mcs1_parent_derived from /Users/faith/Desktop/Work/Boston Childrens Hospital/birth-cohort-db/UKMCS/data_dump/UKDA-4683-tab-9m/mrdoc/ukda_data_dictionaries/mcs1_parent_derived_ukda_data_dictionary.rtf\n",
      "Parsed 39 variable blocks from mcs1_parent_derived\n",
      "Parsing file: mcs1_cm_derived from /Users/faith/Desktop/Work/Boston Childrens Hospital/birth-cohort-db/UKMCS/data_dump/UKDA-4683-tab-9m/mrdoc/ukda_data_dictionaries/mcs1_cm_derived_ukda_data_dictionary.rtf\n",
      "Parsed 15 variable blocks from mcs1_cm_derived\n",
      "Parsing file: mcs1_geographically_linked_data from /Users/faith/Desktop/Work/Boston Childrens Hospital/birth-cohort-db/UKMCS/data_dump/UKDA-4683-tab-9m/mrdoc/ukda_data_dictionaries/mcs1_geographically_linked_data_ukda_data_dictionary.rtf\n",
      "Parsed 42 variable blocks from mcs1_geographically_linked_data\n",
      "Parsing file: mcs1_proxy_partner_interview from /Users/faith/Desktop/Work/Boston Childrens Hospital/birth-cohort-db/UKMCS/data_dump/UKDA-4683-tab-9m/mrdoc/ukda_data_dictionaries/mcs1_proxy_partner_interview_ukda_data_dictionary.rtf\n",
      "Parsed 68 variable blocks from mcs1_proxy_partner_interview\n",
      "Parsing file: mcs1_cm_interview from /Users/faith/Desktop/Work/Boston Childrens Hospital/birth-cohort-db/UKMCS/data_dump/UKDA-4683-tab-9m/mrdoc/ukda_data_dictionaries/mcs1_cm_interview_ukda_data_dictionary.rtf\n",
      "Parsed 4 variable blocks from mcs1_cm_interview\n",
      "Parsing file: mcs1_family_interview from /Users/faith/Desktop/Work/Boston Childrens Hospital/birth-cohort-db/UKMCS/data_dump/UKDA-4683-tab-9m/mrdoc/ukda_data_dictionaries/mcs1_family_interview_ukda_data_dictionary.rtf\n",
      "Parsed 23 variable blocks from mcs1_family_interview\n",
      "Parsing file: mcs1_family_derived from /Users/faith/Desktop/Work/Boston Childrens Hospital/birth-cohort-db/UKMCS/data_dump/UKDA-4683-tab-9m/mrdoc/ukda_data_dictionaries/mcs1_family_derived_ukda_data_dictionary.rtf\n",
      "Parsed 51 variable blocks from mcs1_family_derived\n",
      "Parsing file: mcs1_parent_cm_interview from /Users/faith/Desktop/Work/Boston Childrens Hospital/birth-cohort-db/UKMCS/data_dump/UKDA-4683-tab-9m/mrdoc/ukda_data_dictionaries/mcs1_parent_cm_interview_ukda_data_dictionary.rtf\n",
      "Parsed 176 variable blocks from mcs1_parent_cm_interview\n",
      "Parsing file: mcs1_hhgrid from /Users/faith/Desktop/Work/Boston Childrens Hospital/birth-cohort-db/UKMCS/data_dump/UKDA-4683-tab-9m/mrdoc/ukda_data_dictionaries/mcs1_hhgrid_ukda_data_dictionary.rtf\n",
      "Parsed 33 variable blocks from mcs1_hhgrid\n"
     ]
    }
   ],
   "source": [
    "# Paths to the RTF files\n",
    "month_9_dir = '/Users/faith/Desktop/Work/Boston Childrens Hospital/birth-cohort-db/UKMCS/data_dump/UKDA-4683-tab-9m/mrdoc/ukda_data_dictionaries' \n",
    "file_paths = [os.path.join(month_9_dir, file) for file in os.listdir(month_9_dir) if\n",
    "              os.path.isfile(os.path.join(month_9_dir, file))]\n",
    "all_data = []\n",
    "\n",
    "for file_path in file_paths:\n",
    "    content = read_rtf(file_path)\n",
    "    all_data.extend(parse_rtf_content(content))\n",
    "\n",
    "# Create a DataFrame and save to CSV\n",
    "df = pd.DataFrame(all_data)\n",
    "csv_path = '/Users/faith/Desktop/Work/Boston Childrens Hospital/birth-cohort-db/UKMCS/code/extracted_data9m.csv'\n",
    "df.to_csv(csv_path, index=False)"
   ],
   "metadata": {
    "collapsed": false,
    "ExecuteTime": {
     "end_time": "2024-06-11T23:26:40.694528Z",
     "start_time": "2024-06-11T23:26:14.692055Z"
    }
   },
   "id": "9809a8fb249dff42"
  },
  {
   "cell_type": "code",
   "execution_count": 21,
   "outputs": [
    {
     "data": {
      "text/plain": "file_name\nmcs1_cm_derived                     15\nmcs1_cm_interview                    4\nmcs1_family_derived                 51\nmcs1_family_interview               23\nmcs1_geographically_linked_data     42\nmcs1_hhgrid                         33\nmcs1_parent_cm_interview           176\nmcs1_parent_derived                 39\nmcs1_parent_interview              665\nmcs1_proxy_partner_interview        68\nName: variable, dtype: int64"
     },
     "execution_count": 21,
     "metadata": {},
     "output_type": "execute_result"
    }
   ],
   "source": [
    "df.groupby('file_name')['variable'].count()"
   ],
   "metadata": {
    "collapsed": false,
    "ExecuteTime": {
     "end_time": "2024-06-11T23:27:08.766851Z",
     "start_time": "2024-06-11T23:27:08.742666Z"
    }
   },
   "id": "a171a03ee7ea9a74"
  },
  {
   "cell_type": "code",
   "execution_count": 13,
   "outputs": [
    {
     "data": {
      "text/plain": "                 file_name position      variable  \\\n0    mcs1_parent_interview        1         MCSID   \n1    mcs1_parent_interview        2       APNUM00   \n2    mcs1_parent_interview        3       AELIG00   \n3    mcs1_parent_interview        4       ARESP00   \n4    mcs1_parent_interview        5      ACBAGE00   \n..                     ...      ...           ...   \n660  mcs1_parent_interview      661      APPART0R   \n661  mcs1_parent_interview      662      APPANI0R   \n662  mcs1_parent_interview      663  apnete00_r30   \n663  mcs1_parent_interview      664  apnetw00_r30   \n664  mcs1_parent_interview      665  apnets00_r30   \n\n                                        variable_label         data_type  \\\n0    MCS Research ID - Anonymised\\nFamily/Household...           Unknown   \n1    Person number within an MCS\\nfamily (excl Coho...  numeric, NOMINAL   \n2    Eligibility for survey:\\nWhether resp eligible...  numeric, NOMINAL   \n3    Response in survey: Whether\\nrespondent (of EL...  numeric, NOMINAL   \n4    Baby s age in months\\nThis variable is numeric...  numeric, NOMINAL   \n..                                                 ...               ...   \n660  Party voted for recoded\\nThis variable is nume...  numeric, NOMINAL   \n661  Party voted for (NI)\\nrecoded\\nThis variable i...  numeric, NOMINAL   \n662  Non-res. parents\\nEthnic Group (England) [coun...  numeric, NOMINAL   \n663  Non-res. parents\\nEthnic Group (Wales) [counts...  numeric, NOMINAL   \n664  Non-res. parents\\nEthnic Group (Scotland) [cou...  numeric, NOMINAL   \n\n                                   value_label_options  \n0                                                       \n1                                                       \n2    1.0 = Main Interview; 2.0 = Partner Interview;...  \n3    1.0 = Main Interview; 2.0 = Partner Interview;...  \n4                    -9.0 = Refusal; -8.0 = Don't Know  \n..                                                 ...  \n660  -9.0 = Refusal; -8.0 = Dont Know; -1.0 = Not a...  \n661  -9.0 = Refusal; -8.0 = Dont Know; -1.0 = Not a...  \n662  -9.0 = Refusal; -8.0 = Don't Know; -1.0 = Not ...  \n663  -9.0 = Refusal; -8.0 = Don't Know; -1.0 = Not ...  \n664  -9.0 = Refusal; -8.0 = Don't Know; -1.0 = Not ...  \n\n[665 rows x 6 columns]",
      "text/html": "<div>\n<style scoped>\n    .dataframe tbody tr th:only-of-type {\n        vertical-align: middle;\n    }\n\n    .dataframe tbody tr th {\n        vertical-align: top;\n    }\n\n    .dataframe thead th {\n        text-align: right;\n    }\n</style>\n<table border=\"1\" class=\"dataframe\">\n  <thead>\n    <tr style=\"text-align: right;\">\n      <th></th>\n      <th>file_name</th>\n      <th>position</th>\n      <th>variable</th>\n      <th>variable_label</th>\n      <th>data_type</th>\n      <th>value_label_options</th>\n    </tr>\n  </thead>\n  <tbody>\n    <tr>\n      <th>0</th>\n      <td>mcs1_parent_interview</td>\n      <td>1</td>\n      <td>MCSID</td>\n      <td>MCS Research ID - Anonymised\\nFamily/Household...</td>\n      <td>Unknown</td>\n      <td></td>\n    </tr>\n    <tr>\n      <th>1</th>\n      <td>mcs1_parent_interview</td>\n      <td>2</td>\n      <td>APNUM00</td>\n      <td>Person number within an MCS\\nfamily (excl Coho...</td>\n      <td>numeric, NOMINAL</td>\n      <td></td>\n    </tr>\n    <tr>\n      <th>2</th>\n      <td>mcs1_parent_interview</td>\n      <td>3</td>\n      <td>AELIG00</td>\n      <td>Eligibility for survey:\\nWhether resp eligible...</td>\n      <td>numeric, NOMINAL</td>\n      <td>1.0 = Main Interview; 2.0 = Partner Interview;...</td>\n    </tr>\n    <tr>\n      <th>3</th>\n      <td>mcs1_parent_interview</td>\n      <td>4</td>\n      <td>ARESP00</td>\n      <td>Response in survey: Whether\\nrespondent (of EL...</td>\n      <td>numeric, NOMINAL</td>\n      <td>1.0 = Main Interview; 2.0 = Partner Interview;...</td>\n    </tr>\n    <tr>\n      <th>4</th>\n      <td>mcs1_parent_interview</td>\n      <td>5</td>\n      <td>ACBAGE00</td>\n      <td>Baby s age in months\\nThis variable is numeric...</td>\n      <td>numeric, NOMINAL</td>\n      <td>-9.0 = Refusal; -8.0 = Don't Know</td>\n    </tr>\n    <tr>\n      <th>...</th>\n      <td>...</td>\n      <td>...</td>\n      <td>...</td>\n      <td>...</td>\n      <td>...</td>\n      <td>...</td>\n    </tr>\n    <tr>\n      <th>660</th>\n      <td>mcs1_parent_interview</td>\n      <td>661</td>\n      <td>APPART0R</td>\n      <td>Party voted for recoded\\nThis variable is nume...</td>\n      <td>numeric, NOMINAL</td>\n      <td>-9.0 = Refusal; -8.0 = Dont Know; -1.0 = Not a...</td>\n    </tr>\n    <tr>\n      <th>661</th>\n      <td>mcs1_parent_interview</td>\n      <td>662</td>\n      <td>APPANI0R</td>\n      <td>Party voted for (NI)\\nrecoded\\nThis variable i...</td>\n      <td>numeric, NOMINAL</td>\n      <td>-9.0 = Refusal; -8.0 = Dont Know; -1.0 = Not a...</td>\n    </tr>\n    <tr>\n      <th>662</th>\n      <td>mcs1_parent_interview</td>\n      <td>663</td>\n      <td>apnete00_r30</td>\n      <td>Non-res. parents\\nEthnic Group (England) [coun...</td>\n      <td>numeric, NOMINAL</td>\n      <td>-9.0 = Refusal; -8.0 = Don't Know; -1.0 = Not ...</td>\n    </tr>\n    <tr>\n      <th>663</th>\n      <td>mcs1_parent_interview</td>\n      <td>664</td>\n      <td>apnetw00_r30</td>\n      <td>Non-res. parents\\nEthnic Group (Wales) [counts...</td>\n      <td>numeric, NOMINAL</td>\n      <td>-9.0 = Refusal; -8.0 = Don't Know; -1.0 = Not ...</td>\n    </tr>\n    <tr>\n      <th>664</th>\n      <td>mcs1_parent_interview</td>\n      <td>665</td>\n      <td>apnets00_r30</td>\n      <td>Non-res. parents\\nEthnic Group (Scotland) [cou...</td>\n      <td>numeric, NOMINAL</td>\n      <td>-9.0 = Refusal; -8.0 = Don't Know; -1.0 = Not ...</td>\n    </tr>\n  </tbody>\n</table>\n<p>665 rows × 6 columns</p>\n</div>"
     },
     "execution_count": 13,
     "metadata": {},
     "output_type": "execute_result"
    }
   ],
   "source": [
    "df[df['file_name'] == 'mcs1_parent_interview']"
   ],
   "metadata": {
    "collapsed": false,
    "ExecuteTime": {
     "end_time": "2024-06-11T18:23:46.932304Z",
     "start_time": "2024-06-11T18:23:46.904241Z"
    }
   },
   "id": "7fcb195708fb13c1"
  },
  {
   "cell_type": "code",
   "execution_count": 18,
   "outputs": [
    {
     "name": "stdout",
     "output_type": "stream",
     "text": [
      "Parsing file: mcs2_geographically_linked_data from /Users/faith/Desktop/Work/Boston Childrens Hospital/birth-cohort-db/UKMCS/data_dump/UKDA-5350-tab-3y/mrdoc/ukda_data_dictionaries/mcs2_geographically_linked_data_ukda_data_dictionary.rtf\n",
      "Parsed 43 variable blocks from mcs2_geographically_linked_data\n",
      "Parsing file: mcs2_parent_derived from /Users/faith/Desktop/Work/Boston Childrens Hospital/birth-cohort-db/UKMCS/data_dump/UKDA-5350-tab-3y/mrdoc/ukda_data_dictionaries/mcs2_parent_derived_ukda_data_dictionary.rtf\n",
      "Parsed 36 variable blocks from mcs2_parent_derived\n",
      "Parsing file: mcs2_proxy_partner_interview from /Users/faith/Desktop/Work/Boston Childrens Hospital/birth-cohort-db/UKMCS/data_dump/UKDA-5350-tab-3y/mrdoc/ukda_data_dictionaries/mcs2_proxy_partner_interview_ukda_data_dictionary.rtf\n",
      "Parsed 107 variable blocks from mcs2_proxy_partner_interview\n",
      "Parsing file: mcs2_cm_derived from /Users/faith/Desktop/Work/Boston Childrens Hospital/birth-cohort-db/UKMCS/data_dump/UKDA-5350-tab-3y/mrdoc/ukda_data_dictionaries/mcs2_cm_derived_ukda_data_dictionary.rtf\n",
      "Parsed 29 variable blocks from mcs2_cm_derived\n",
      "Parsing file: mcs2_parent_cm_interview from /Users/faith/Desktop/Work/Boston Childrens Hospital/birth-cohort-db/UKMCS/data_dump/UKDA-5350-tab-3y/mrdoc/ukda_data_dictionaries/mcs2_parent_cm_interview_ukda_data_dictionary.rtf\n",
      "Parsed 455 variable blocks from mcs2_parent_cm_interview\n",
      "Parsing file: mcs2_hhgrid from /Users/faith/Desktop/Work/Boston Childrens Hospital/birth-cohort-db/UKMCS/data_dump/UKDA-5350-tab-3y/mrdoc/ukda_data_dictionaries/mcs2_hhgrid_ukda_data_dictionary.rtf\n",
      "Parsed 40 variable blocks from mcs2_hhgrid\n",
      "Parsing file: mcs2_parent_interview from /Users/faith/Desktop/Work/Boston Childrens Hospital/birth-cohort-db/UKMCS/data_dump/UKDA-5350-tab-3y/mrdoc/ukda_data_dictionaries/mcs2_parent_interview_ukda_data_dictionary.rtf\n",
      "Parsed 960 variable blocks from mcs2_parent_interview\n",
      "Parsing file: mcs2_cm_interview from /Users/faith/Desktop/Work/Boston Childrens Hospital/birth-cohort-db/UKMCS/data_dump/UKDA-5350-tab-3y/mrdoc/ukda_data_dictionaries/mcs2_cm_interview_ukda_data_dictionary.rtf\n",
      "Parsed 56 variable blocks from mcs2_cm_interview\n",
      "Parsing file: mcs2_cm_oral_fluid from /Users/faith/Desktop/Work/Boston Childrens Hospital/birth-cohort-db/UKMCS/data_dump/UKDA-5350-tab-3y/mrdoc/ukda_data_dictionaries/mcs2_cm_oral_fluid_ukda_data_dictionary.rtf\n",
      "Parsed 15 variable blocks from mcs2_cm_oral_fluid\n",
      "Parsing file: mcs2_older_siblings_questionnaire from /Users/faith/Desktop/Work/Boston Childrens Hospital/birth-cohort-db/UKMCS/data_dump/UKDA-5350-tab-3y/mrdoc/ukda_data_dictionaries/mcs2_older_siblings_questionnaire_ukda_data_dictionary.rtf\n",
      "Parsed 471 variable blocks from mcs2_older_siblings_questionnaire\n",
      "Parsing file: mcs2_cm_cognitive_assessment from /Users/faith/Desktop/Work/Boston Childrens Hospital/birth-cohort-db/UKMCS/data_dump/UKDA-5350-tab-3y/mrdoc/ukda_data_dictionaries/mcs2_cm_cognitive_assessment_ukda_data_dictionary.rtf\n",
      "Parsed 553 variable blocks from mcs2_cm_cognitive_assessment\n",
      "Parsing file: mcs2_neighbourhood_observations from /Users/faith/Desktop/Work/Boston Childrens Hospital/birth-cohort-db/UKMCS/data_dump/UKDA-5350-tab-3y/mrdoc/ukda_data_dictionaries/mcs2_neighbourhood_observations_ukda_data_dictionary.rtf\n",
      "Parsed 17 variable blocks from mcs2_neighbourhood_observations\n",
      "Parsing file: mcs2_family_derived from /Users/faith/Desktop/Work/Boston Childrens Hospital/birth-cohort-db/UKMCS/data_dump/UKDA-5350-tab-3y/mrdoc/ukda_data_dictionaries/mcs2_family_derived_ukda_data_dictionary.rtf\n",
      "Parsed 58 variable blocks from mcs2_family_derived\n"
     ]
    }
   ],
   "source": [
    "# Paths to the RTF files\n",
    "years_3_dir = '/Users/faith/Desktop/Work/Boston Childrens Hospital/birth-cohort-db/UKMCS/data_dump/UKDA-5350-tab-3y/mrdoc/ukda_data_dictionaries'\n",
    "file_paths = [os.path.join(years_3_dir, file) for file in os.listdir(years_3_dir) if\n",
    "              os.path.isfile(os.path.join(years_3_dir, file))]\n",
    "all_data = []\n",
    "\n",
    "for file_path in file_paths:\n",
    "    content = read_rtf(file_path)\n",
    "    all_data.extend(parse_rtf_content(content))\n",
    "\n",
    "# Create a DataFrame and save to CSV\n",
    "df = pd.DataFrame(all_data)\n",
    "csv_path = '/Users/faith/Desktop/Work/Boston Childrens Hospital/birth-cohort-db/UKMCS/code/extracted_data3y.csv'\n",
    "df.to_csv(csv_path, index=False)"
   ],
   "metadata": {
    "collapsed": false,
    "ExecuteTime": {
     "end_time": "2024-06-11T23:20:40.267201Z",
     "start_time": "2024-06-11T23:17:41.742593Z"
    }
   },
   "id": "93318365a0bdadd5"
  },
  {
   "cell_type": "code",
   "execution_count": 19,
   "outputs": [
    {
     "data": {
      "text/plain": "file_name\nmcs2_cm_cognitive_assessment         553\nmcs2_cm_derived                       29\nmcs2_cm_interview                     56\nmcs2_cm_oral_fluid                    15\nmcs2_family_derived                   58\nmcs2_geographically_linked_data       43\nmcs2_hhgrid                           40\nmcs2_neighbourhood_observations       17\nmcs2_older_siblings_questionnaire    471\nmcs2_parent_cm_interview             455\nmcs2_parent_derived                   36\nmcs2_parent_interview                960\nmcs2_proxy_partner_interview         107\nName: variable, dtype: int64"
     },
     "execution_count": 19,
     "metadata": {},
     "output_type": "execute_result"
    }
   ],
   "source": [
    "df.groupby('file_name')['variable'].count()"
   ],
   "metadata": {
    "collapsed": false,
    "ExecuteTime": {
     "end_time": "2024-06-11T23:25:27.687102Z",
     "start_time": "2024-06-11T23:25:27.635869Z"
    }
   },
   "id": "eb4a92531d9f8db1"
  },
  {
   "cell_type": "code",
   "execution_count": 22,
   "outputs": [
    {
     "name": "stdout",
     "output_type": "stream",
     "text": [
      "Parsing file: mcs3_parent_derived from /Users/faith/Desktop/Work/Boston Childrens Hospital/birth-cohort-db/UKMCS/data_dump/UKDA-5795-tab-5y/mrdoc/ukda_data_dictionaries/mcs3_parent_derived_ukda_data_dictionary.rtf\n",
      "Parsed 90 variable blocks from mcs3_parent_derived\n",
      "Parsing file: mcs3_geographically_linked_data from /Users/faith/Desktop/Work/Boston Childrens Hospital/birth-cohort-db/UKMCS/data_dump/UKDA-5795-tab-5y/mrdoc/ukda_data_dictionaries/mcs3_geographically_linked_data_ukda_data_dictionary.rtf\n",
      "Parsed 43 variable blocks from mcs3_geographically_linked_data\n",
      "Parsing file: mcs3_family_interview from /Users/faith/Desktop/Work/Boston Childrens Hospital/birth-cohort-db/UKMCS/data_dump/UKDA-5795-tab-5y/mrdoc/ukda_data_dictionaries/mcs3_family_interview_ukda_data_dictionary.rtf\n",
      "Parsed 56 variable blocks from mcs3_family_interview\n",
      "Parsing file: mcs3_hhgrid from /Users/faith/Desktop/Work/Boston Childrens Hospital/birth-cohort-db/UKMCS/data_dump/UKDA-5795-tab-5y/mrdoc/ukda_data_dictionaries/mcs3_hhgrid_ukda_data_dictionary.rtf\n",
      "Parsed 59 variable blocks from mcs3_hhgrid\n",
      "Parsing file: mcs3_cm_cognitive_assessment from /Users/faith/Desktop/Work/Boston Childrens Hospital/birth-cohort-db/UKMCS/data_dump/UKDA-5795-tab-5y/mrdoc/ukda_data_dictionaries/mcs3_cm_cognitive_assessment_ukda_data_dictionary.rtf\n",
      "Parsed 341 variable blocks from mcs3_cm_cognitive_assessment\n",
      "Parsing file: mcs3_older_siblings_questionnaire from /Users/faith/Desktop/Work/Boston Childrens Hospital/birth-cohort-db/UKMCS/data_dump/UKDA-5795-tab-5y/mrdoc/ukda_data_dictionaries/mcs3_older_siblings_questionnaire_ukda_data_dictionary.rtf\n",
      "Parsed 142 variable blocks from mcs3_older_siblings_questionnaire\n",
      "Parsing file: mcs3_cm_teacher_survey from /Users/faith/Desktop/Work/Boston Childrens Hospital/birth-cohort-db/UKMCS/data_dump/UKDA-5795-tab-5y/mrdoc/ukda_data_dictionaries/mcs3_cm_teacher_survey_ukda_data_dictionary.rtf\n",
      "Parsed 143 variable blocks from mcs3_cm_teacher_survey\n",
      "Parsing file: mcs3_parent_cm_interview from /Users/faith/Desktop/Work/Boston Childrens Hospital/birth-cohort-db/UKMCS/data_dump/UKDA-5795-tab-5y/mrdoc/ukda_data_dictionaries/mcs3_parent_cm_interview_ukda_data_dictionary.rtf\n",
      "Parsed 674 variable blocks from mcs3_parent_cm_interview\n",
      "Parsing file: mcs3_parent_interview from /Users/faith/Desktop/Work/Boston Childrens Hospital/birth-cohort-db/UKMCS/data_dump/UKDA-5795-tab-5y/mrdoc/ukda_data_dictionaries/mcs3_parent_interview_ukda_data_dictionary.rtf\n",
      "Parsed 1019 variable blocks from mcs3_parent_interview\n",
      "Parsing file: mcs3_cm_interview from /Users/faith/Desktop/Work/Boston Childrens Hospital/birth-cohort-db/UKMCS/data_dump/UKDA-5795-tab-5y/mrdoc/ukda_data_dictionaries/mcs3_cm_interview_ukda_data_dictionary.rtf\n",
      "Parsed 113 variable blocks from mcs3_cm_interview\n",
      "Parsing file: mcs3_proxy_partner_interview from /Users/faith/Desktop/Work/Boston Childrens Hospital/birth-cohort-db/UKMCS/data_dump/UKDA-5795-tab-5y/mrdoc/ukda_data_dictionaries/mcs3_proxy_partner_interview_ukda_data_dictionary.rtf\n",
      "Parsed 63 variable blocks from mcs3_proxy_partner_interview\n",
      "Parsing file: mcs3_cm_derived from /Users/faith/Desktop/Work/Boston Childrens Hospital/birth-cohort-db/UKMCS/data_dump/UKDA-5795-tab-5y/mrdoc/ukda_data_dictionaries/mcs3_cm_derived_ukda_data_dictionary.rtf\n",
      "Parsed 16 variable blocks from mcs3_cm_derived\n",
      "Parsing file: mcs3_family_derived from /Users/faith/Desktop/Work/Boston Childrens Hospital/birth-cohort-db/UKMCS/data_dump/UKDA-5795-tab-5y/mrdoc/ukda_data_dictionaries/mcs3_family_derived_ukda_data_dictionary.rtf\n",
      "Parsed 45 variable blocks from mcs3_family_derived\n"
     ]
    }
   ],
   "source": [
    "# Paths to the RTF files\n",
    "years_5_dir = '/Users/faith/Desktop/Work/Boston Childrens Hospital/birth-cohort-db/UKMCS/data_dump/UKDA-5795-tab-5y/mrdoc/ukda_data_dictionaries'\n",
    "file_paths = [os.path.join(years_5_dir, file) for file in os.listdir(years_5_dir) if\n",
    "              os.path.isfile(os.path.join(years_5_dir, file))]\n",
    "all_data = []\n",
    "\n",
    "for file_path in file_paths:\n",
    "    content = read_rtf(file_path)\n",
    "    all_data.extend(parse_rtf_content(content))\n",
    "\n",
    "# Create a DataFrame and save to CSV\n",
    "df = pd.DataFrame(all_data)\n",
    "csv_path = '/Users/faith/Desktop/Work/Boston Childrens Hospital/birth-cohort-db/UKMCS/code/extracted_data5y.csv'\n",
    "df.to_csv(csv_path, index=False)"
   ],
   "metadata": {
    "collapsed": false,
    "ExecuteTime": {
     "end_time": "2024-06-11T23:38:05.781130Z",
     "start_time": "2024-06-11T23:30:36.708077Z"
    }
   },
   "id": "ae87afc8001bb346"
  },
  {
   "cell_type": "code",
   "execution_count": 23,
   "outputs": [
    {
     "data": {
      "text/plain": "file_name\nmcs3_cm_cognitive_assessment          341\nmcs3_cm_derived                        16\nmcs3_cm_interview                     113\nmcs3_cm_teacher_survey                143\nmcs3_family_derived                    45\nmcs3_family_interview                  56\nmcs3_geographically_linked_data        43\nmcs3_hhgrid                            59\nmcs3_older_siblings_questionnaire     142\nmcs3_parent_cm_interview              674\nmcs3_parent_derived                    90\nmcs3_parent_interview                1019\nmcs3_proxy_partner_interview           63\nName: variable, dtype: int64"
     },
     "execution_count": 23,
     "metadata": {},
     "output_type": "execute_result"
    }
   ],
   "source": [
    "df.groupby('file_name')['variable'].count() #13 files"
   ],
   "metadata": {
    "collapsed": false,
    "ExecuteTime": {
     "end_time": "2024-06-11T23:39:41.637542Z",
     "start_time": "2024-06-11T23:39:41.619199Z"
    }
   },
   "id": "b4b0b95850a89486"
  },
  {
   "cell_type": "code",
   "execution_count": 24,
   "outputs": [
    {
     "name": "stdout",
     "output_type": "stream",
     "text": [
      "Parsing file: mcs4_cm_derived from /Users/faith/Desktop/Work/Boston Childrens Hospital/birth-cohort-db/UKMCS/data_dump/UKDA-6411-tab-7y/mrdoc/ukda_data_dictionaries/mcs4_cm_derived_ukda_data_dictionary.rtf\n",
      "Parsed 24 variable blocks from mcs4_cm_derived\n",
      "Parsing file: mcs4_geographically_linked_data from /Users/faith/Desktop/Work/Boston Childrens Hospital/birth-cohort-db/UKMCS/data_dump/UKDA-6411-tab-7y/mrdoc/ukda_data_dictionaries/mcs4_geographically_linked_data_ukda_data_dictionary.rtf\n",
      "Parsed 43 variable blocks from mcs4_geographically_linked_data\n",
      "Parsing file: mcs4_proxy_partner_interview from /Users/faith/Desktop/Work/Boston Childrens Hospital/birth-cohort-db/UKMCS/data_dump/UKDA-6411-tab-7y/mrdoc/ukda_data_dictionaries/mcs4_proxy_partner_interview_ukda_data_dictionary.rtf\n",
      "Parsed 125 variable blocks from mcs4_proxy_partner_interview\n",
      "Parsing file: mcs4_family_interview from /Users/faith/Desktop/Work/Boston Childrens Hospital/birth-cohort-db/UKMCS/data_dump/UKDA-6411-tab-7y/mrdoc/ukda_data_dictionaries/mcs4_family_interview_ukda_data_dictionary.rtf\n",
      "Parsed 36 variable blocks from mcs4_family_interview\n",
      "Parsing file: mcs4_parent_derived from /Users/faith/Desktop/Work/Boston Childrens Hospital/birth-cohort-db/UKMCS/data_dump/UKDA-6411-tab-7y/mrdoc/ukda_data_dictionaries/mcs4_parent_derived_ukda_data_dictionary.rtf\n",
      "Parsed 94 variable blocks from mcs4_parent_derived\n",
      "Parsing file: mcs4_cm_aspirations from /Users/faith/Desktop/Work/Boston Childrens Hospital/birth-cohort-db/UKMCS/data_dump/UKDA-6411-tab-7y/mrdoc/ukda_data_dictionaries/mcs4_cm_aspirations_ukda_data_dictionary.rtf\n",
      "Parsed 34 variable blocks from mcs4_cm_aspirations\n",
      "Parsing file: mcs4_parent_interview from /Users/faith/Desktop/Work/Boston Childrens Hospital/birth-cohort-db/UKMCS/data_dump/UKDA-6411-tab-7y/mrdoc/ukda_data_dictionaries/mcs4_parent_interview_ukda_data_dictionary.rtf\n",
      "Parsed 1780 variable blocks from mcs4_parent_interview\n",
      "Parsing file: mcs4_family_derived from /Users/faith/Desktop/Work/Boston Childrens Hospital/birth-cohort-db/UKMCS/data_dump/UKDA-6411-tab-7y/mrdoc/ukda_data_dictionaries/mcs4_family_derived_ukda_data_dictionary.rtf\n",
      "Parsed 49 variable blocks from mcs4_family_derived\n",
      "Parsing file: mcs4_cm_interview from /Users/faith/Desktop/Work/Boston Childrens Hospital/birth-cohort-db/UKMCS/data_dump/UKDA-6411-tab-7y/mrdoc/ukda_data_dictionaries/mcs4_cm_interview_ukda_data_dictionary.rtf\n",
      "Parsed 184 variable blocks from mcs4_cm_interview\n",
      "Parsing file: mcs4_parent_cm_interview from /Users/faith/Desktop/Work/Boston Childrens Hospital/birth-cohort-db/UKMCS/data_dump/UKDA-6411-tab-7y/mrdoc/ukda_data_dictionaries/mcs4_parent_cm_interview_ukda_data_dictionary.rtf\n",
      "Parsed 1093 variable blocks from mcs4_parent_cm_interview\n",
      "Parsing file: mcs4_cm_cognitive_assessment from /Users/faith/Desktop/Work/Boston Childrens Hospital/birth-cohort-db/UKMCS/data_dump/UKDA-6411-tab-7y/mrdoc/ukda_data_dictionaries/mcs4_cm_cognitive_assessment_ukda_data_dictionary.rtf\n",
      "Parsed 502 variable blocks from mcs4_cm_cognitive_assessment\n",
      "Parsing file: mcs4_cm_teacher_survey from /Users/faith/Desktop/Work/Boston Childrens Hospital/birth-cohort-db/UKMCS/data_dump/UKDA-6411-tab-7y/mrdoc/ukda_data_dictionaries/mcs4_cm_teacher_survey_ukda_data_dictionary.rtf\n",
      "Parsed 175 variable blocks from mcs4_cm_teacher_survey\n",
      "Parsing file: mcs4_hhgrid from /Users/faith/Desktop/Work/Boston Childrens Hospital/birth-cohort-db/UKMCS/data_dump/UKDA-6411-tab-7y/mrdoc/ukda_data_dictionaries/mcs4_hhgrid_ukda_data_dictionary.rtf\n",
      "Parsed 60 variable blocks from mcs4_hhgrid\n"
     ]
    }
   ],
   "source": [
    "# Paths to the RTF files\n",
    "years_7_dir = '/Users/faith/Desktop/Work/Boston Childrens Hospital/birth-cohort-db/UKMCS/data_dump/UKDA-6411-tab-7y/mrdoc/ukda_data_dictionaries'\n",
    "file_paths = [os.path.join(years_7_dir, file) for file in os.listdir(years_7_dir) if\n",
    "              os.path.isfile(os.path.join(years_7_dir, file))]\n",
    "all_data = []\n",
    "\n",
    "for file_path in file_paths:\n",
    "    content = read_rtf(file_path)\n",
    "    all_data.extend(parse_rtf_content(content))\n",
    "\n",
    "# Create a DataFrame and save to CSV\n",
    "df = pd.DataFrame(all_data)\n",
    "csv_path = '/Users/faith/Desktop/Work/Boston Childrens Hospital/birth-cohort-db/UKMCS/code/extracted_data7y.csv'\n",
    "df.to_csv(csv_path, index=False)"
   ],
   "metadata": {
    "collapsed": false,
    "ExecuteTime": {
     "end_time": "2024-06-12T00:13:47.113019Z",
     "start_time": "2024-06-11T23:42:08.934431Z"
    }
   },
   "id": "9c02ee2a1bef9d67"
  },
  {
   "cell_type": "code",
   "execution_count": 25,
   "outputs": [
    {
     "data": {
      "text/plain": "file_name\nmcs4_cm_aspirations                  34\nmcs4_cm_cognitive_assessment        502\nmcs4_cm_derived                      24\nmcs4_cm_interview                   184\nmcs4_cm_teacher_survey              175\nmcs4_family_derived                  49\nmcs4_family_interview                36\nmcs4_geographically_linked_data      43\nmcs4_hhgrid                          60\nmcs4_parent_cm_interview           1093\nmcs4_parent_derived                  94\nmcs4_parent_interview              1780\nmcs4_proxy_partner_interview        125\nName: variable, dtype: int64"
     },
     "execution_count": 25,
     "metadata": {},
     "output_type": "execute_result"
    }
   ],
   "source": [
    "df.groupby('file_name')['variable'].count()"
   ],
   "metadata": {
    "collapsed": false,
    "ExecuteTime": {
     "end_time": "2024-06-12T00:16:19.565817Z",
     "start_time": "2024-06-12T00:16:19.500495Z"
    }
   },
   "id": "3620954ba52b741d"
  },
  {
   "cell_type": "code",
   "execution_count": 26,
   "outputs": [
    {
     "name": "stdout",
     "output_type": "stream",
     "text": [
      "Parsing file: mcs5_family_interview from /Users/faith/Desktop/Work/Boston Childrens Hospital/birth-cohort-db/UKMCS/data_dump/UKDA-7464-tab-11y/mrdoc/ukda_data_dictionaries/mcs5_family_interview_ukda_data_dictionary.rtf\n",
      "Parsed 13 variable blocks from mcs5_family_interview\n",
      "Parsing file: mcs5_geographically_linked_data from /Users/faith/Desktop/Work/Boston Childrens Hospital/birth-cohort-db/UKMCS/data_dump/UKDA-7464-tab-11y/mrdoc/ukda_data_dictionaries/mcs5_geographically_linked_data_ukda_data_dictionary.rtf\n",
      "Parsed 42 variable blocks from mcs5_geographically_linked_data\n",
      "Parsing file: mcs5_parent_cm_interview from /Users/faith/Desktop/Work/Boston Childrens Hospital/birth-cohort-db/UKMCS/data_dump/UKDA-7464-tab-11y/mrdoc/ukda_data_dictionaries/mcs5_parent_cm_interview_ukda_data_dictionary.rtf\n",
      "Parsed 862 variable blocks from mcs5_parent_cm_interview\n",
      "Parsing file: mcs5_hhgrid from /Users/faith/Desktop/Work/Boston Childrens Hospital/birth-cohort-db/UKMCS/data_dump/UKDA-7464-tab-11y/mrdoc/ukda_data_dictionaries/mcs5_hhgrid_ukda_data_dictionary.rtf\n",
      "Parsed 60 variable blocks from mcs5_hhgrid\n",
      "Parsing file: mcs5_cm_cognitive_assessment from /Users/faith/Desktop/Work/Boston Childrens Hospital/birth-cohort-db/UKMCS/data_dump/UKDA-7464-tab-11y/mrdoc/ukda_data_dictionaries/mcs5_cm_cognitive_assessment_ukda_data_dictionary.rtf\n",
      "Parsed 204 variable blocks from mcs5_cm_cognitive_assessment\n",
      "Parsing file: mcs5_parent_derived from /Users/faith/Desktop/Work/Boston Childrens Hospital/birth-cohort-db/UKMCS/data_dump/UKDA-7464-tab-11y/mrdoc/ukda_data_dictionaries/mcs5_parent_derived_ukda_data_dictionary.rtf\n",
      "Parsed 28 variable blocks from mcs5_parent_derived\n",
      "Parsing file: mcs5_parent_income_brackets from /Users/faith/Desktop/Work/Boston Childrens Hospital/birth-cohort-db/UKMCS/data_dump/UKDA-7464-tab-11y/mrdoc/ukda_data_dictionaries/mcs5_parent_income_brackets_ukda_data_dictionary.rtf\n",
      "Parsed 455 variable blocks from mcs5_parent_income_brackets\n",
      "Parsing file: mcs5_proxy_partner_interview from /Users/faith/Desktop/Work/Boston Childrens Hospital/birth-cohort-db/UKMCS/data_dump/UKDA-7464-tab-11y/mrdoc/ukda_data_dictionaries/mcs5_proxy_partner_interview_ukda_data_dictionary.rtf\n",
      "Parsed 151 variable blocks from mcs5_proxy_partner_interview\n",
      "Parsing file: mcs5_cm_derived from /Users/faith/Desktop/Work/Boston Childrens Hospital/birth-cohort-db/UKMCS/data_dump/UKDA-7464-tab-11y/mrdoc/ukda_data_dictionaries/mcs5_cm_derived_ukda_data_dictionary.rtf\n",
      "Parsed 42 variable blocks from mcs5_cm_derived\n",
      "Parsing file: mcs5_cm_teacher_survey from /Users/faith/Desktop/Work/Boston Childrens Hospital/birth-cohort-db/UKMCS/data_dump/UKDA-7464-tab-11y/mrdoc/ukda_data_dictionaries/mcs5_cm_teacher_survey_ukda_data_dictionary.rtf\n",
      "Parsed 214 variable blocks from mcs5_cm_teacher_survey\n",
      "Parsing file: mcs5_family_derived from /Users/faith/Desktop/Work/Boston Childrens Hospital/birth-cohort-db/UKMCS/data_dump/UKDA-7464-tab-11y/mrdoc/ukda_data_dictionaries/mcs5_family_derived_ukda_data_dictionary.rtf\n",
      "Parsed 34 variable blocks from mcs5_family_derived\n",
      "Parsing file: mcs5_proxy_partner_income_brackets from /Users/faith/Desktop/Work/Boston Childrens Hospital/birth-cohort-db/UKMCS/data_dump/UKDA-7464-tab-11y/mrdoc/ukda_data_dictionaries/mcs5_proxy_partner_income_brackets_ukda_data_dictionary.rtf\n",
      "Parsed 40 variable blocks from mcs5_proxy_partner_income_brackets\n",
      "Parsing file: mcs5_parent_interview from /Users/faith/Desktop/Work/Boston Childrens Hospital/birth-cohort-db/UKMCS/data_dump/UKDA-7464-tab-11y/mrdoc/ukda_data_dictionaries/mcs5_parent_interview_ukda_data_dictionary.rtf\n",
      "Parsed 1386 variable blocks from mcs5_parent_interview\n",
      "Parsing file: mcs5_cm_interview from /Users/faith/Desktop/Work/Boston Childrens Hospital/birth-cohort-db/UKMCS/data_dump/UKDA-7464-tab-11y/mrdoc/ukda_data_dictionaries/mcs5_cm_interview_ukda_data_dictionary.rtf\n",
      "Parsed 289 variable blocks from mcs5_cm_interview\n"
     ]
    }
   ],
   "source": [
    "# Paths to the RTF files\n",
    "years_11_dir = '/Users/faith/Desktop/Work/Boston Childrens Hospital/birth-cohort-db/UKMCS/data_dump/UKDA-7464-tab-11y/mrdoc/ukda_data_dictionaries'\n",
    "file_paths = [os.path.join(years_11_dir, file) for file in os.listdir(years_11_dir) if\n",
    "              os.path.isfile(os.path.join(years_11_dir, file))]\n",
    "all_data = []\n",
    "\n",
    "for file_path in file_paths:\n",
    "    content = read_rtf(file_path)\n",
    "    all_data.extend(parse_rtf_content(content))\n",
    "\n",
    "# Create a DataFrame and save to CSV\n",
    "df = pd.DataFrame(all_data)\n",
    "csv_path = '/Users/faith/Desktop/Work/Boston Childrens Hospital/birth-cohort-db/UKMCS/code/extracted_data11y.csv'\n",
    "df.to_csv(csv_path, index=False)"
   ],
   "metadata": {
    "collapsed": false,
    "ExecuteTime": {
     "end_time": "2024-06-12T00:23:47.754872Z",
     "start_time": "2024-06-12T00:18:39.059386Z"
    }
   },
   "id": "1f794b4d34b58f76"
  },
  {
   "cell_type": "code",
   "execution_count": 27,
   "outputs": [
    {
     "data": {
      "text/plain": "file_name\nmcs5_cm_cognitive_assessment           204\nmcs5_cm_derived                         42\nmcs5_cm_interview                      289\nmcs5_cm_teacher_survey                 214\nmcs5_family_derived                     34\nmcs5_family_interview                   13\nmcs5_geographically_linked_data         42\nmcs5_hhgrid                             60\nmcs5_parent_cm_interview               862\nmcs5_parent_derived                     28\nmcs5_parent_income_brackets            455\nmcs5_parent_interview                 1386\nmcs5_proxy_partner_income_brackets      40\nmcs5_proxy_partner_interview           151\nName: variable, dtype: int64"
     },
     "execution_count": 27,
     "metadata": {},
     "output_type": "execute_result"
    }
   ],
   "source": [
    "df.groupby('file_name')['variable'].count() #14 files"
   ],
   "metadata": {
    "collapsed": false,
    "ExecuteTime": {
     "end_time": "2024-06-12T00:24:18.579058Z",
     "start_time": "2024-06-12T00:24:18.545767Z"
    }
   },
   "id": "a638ac564773484d"
  },
  {
   "cell_type": "code",
   "execution_count": 28,
   "outputs": [
    {
     "name": "stdout",
     "output_type": "stream",
     "text": [
      "Parsing file: mcs6_parent_income_brackets from /Users/faith/Desktop/Work/Boston Childrens Hospital/birth-cohort-db/UKMCS/data_dump/UKDA-8156-tab-14y/mrdoc/ukda_data_dictionaries/mcs6_parent_income_brackets_ukda_data_dictionary.rtf\n",
      "Parsed 1460 variable blocks from mcs6_parent_income_brackets\n",
      "Parsing file: mcs6_proxy_partner_interview from /Users/faith/Desktop/Work/Boston Childrens Hospital/birth-cohort-db/UKMCS/data_dump/UKDA-8156-tab-14y/mrdoc/ukda_data_dictionaries/mcs6_proxy_partner_interview_ukda_data_dictionary.rtf\n",
      "Parsed 308 variable blocks from mcs6_proxy_partner_interview\n",
      "Parsing file: mcs_sweep6_imd_e_2004 from /Users/faith/Desktop/Work/Boston Childrens Hospital/birth-cohort-db/UKMCS/data_dump/UKDA-8156-tab-14y/mrdoc/ukda_data_dictionaries/mcs_sweep6_imd_e_2004_ukda_data_dictionary.rtf\n",
      "Parsed 11 variable blocks from mcs_sweep6_imd_e_2004\n",
      "Parsing file: mcs6_parent_interview from /Users/faith/Desktop/Work/Boston Childrens Hospital/birth-cohort-db/UKMCS/data_dump/UKDA-8156-tab-14y/mrdoc/ukda_data_dictionaries/mcs6_parent_interview_ukda_data_dictionary.rtf\n",
      "Parsed 1036 variable blocks from mcs6_parent_interview\n",
      "Parsing file: mcs6_tud_parsed_data_paper_calendar_format from /Users/faith/Desktop/Work/Boston Childrens Hospital/birth-cohort-db/UKMCS/data_dump/UKDA-8156-tab-14y/mrdoc/ukda_data_dictionaries/mcs6_tud_parsed_data_paper_calendar_format_ukda_data_dictionary.rtf\n",
      "Parsed 33 variable blocks from mcs6_tud_parsed_data_paper_calendar_format\n",
      "Parsing file: mcs_sweep6_imd_w_2004 from /Users/faith/Desktop/Work/Boston Childrens Hospital/birth-cohort-db/UKMCS/data_dump/UKDA-8156-tab-14y/mrdoc/ukda_data_dictionaries/mcs_sweep6_imd_w_2004_ukda_data_dictionary.rtf\n",
      "Parsed 11 variable blocks from mcs_sweep6_imd_w_2004\n",
      "Parsing file: mcs6_hhgrid from /Users/faith/Desktop/Work/Boston Childrens Hospital/birth-cohort-db/UKMCS/data_dump/UKDA-8156-tab-14y/mrdoc/ukda_data_dictionaries/mcs6_hhgrid_ukda_data_dictionary.rtf\n",
      "Parsed 54 variable blocks from mcs6_hhgrid\n",
      "Parsing file: mcs6_tud_parsed_data_web_calendar_format from /Users/faith/Desktop/Work/Boston Childrens Hospital/birth-cohort-db/UKMCS/data_dump/UKDA-8156-tab-14y/mrdoc/ukda_data_dictionaries/mcs6_tud_parsed_data_web_calendar_format_ukda_data_dictionary.rtf\n",
      "Parsed 33 variable blocks from mcs6_tud_parsed_data_web_calendar_format\n",
      "Parsing file: mcs6_parent_derived from /Users/faith/Desktop/Work/Boston Childrens Hospital/birth-cohort-db/UKMCS/data_dump/UKDA-8156-tab-14y/mrdoc/ukda_data_dictionaries/mcs6_parent_derived_ukda_data_dictionary.rtf\n",
      "Parsed 37 variable blocks from mcs6_parent_derived\n",
      "Parsing file: mcs6_tud_parsed_data_app_episode_format from /Users/faith/Desktop/Work/Boston Childrens Hospital/birth-cohort-db/UKMCS/data_dump/UKDA-8156-tab-14y/mrdoc/ukda_data_dictionaries/mcs6_tud_parsed_data_app_episode_format_ukda_data_dictionary.rtf\n",
      "Parsed 21 variable blocks from mcs6_tud_parsed_data_app_episode_format\n",
      "Parsing file: mcs_sweep6_imd_s_2004 from /Users/faith/Desktop/Work/Boston Childrens Hospital/birth-cohort-db/UKMCS/data_dump/UKDA-8156-tab-14y/mrdoc/ukda_data_dictionaries/mcs_sweep6_imd_s_2004_ukda_data_dictionary.rtf\n",
      "Parsed 10 variable blocks from mcs_sweep6_imd_s_2004\n",
      "Parsing file: mcs6_family_derived from /Users/faith/Desktop/Work/Boston Childrens Hospital/birth-cohort-db/UKMCS/data_dump/UKDA-8156-tab-14y/mrdoc/ukda_data_dictionaries/mcs6_family_derived_ukda_data_dictionary.rtf\n",
      "Parsed 32 variable blocks from mcs6_family_derived\n",
      "Parsing file: mcs6_parent_cm_interview from /Users/faith/Desktop/Work/Boston Childrens Hospital/birth-cohort-db/UKMCS/data_dump/UKDA-8156-tab-14y/mrdoc/ukda_data_dictionaries/mcs6_parent_cm_interview_ukda_data_dictionary.rtf\n",
      "Parsed 406 variable blocks from mcs6_parent_cm_interview\n",
      "Parsing file: mcs6_cm_derived from /Users/faith/Desktop/Work/Boston Childrens Hospital/birth-cohort-db/UKMCS/data_dump/UKDA-8156-tab-14y/mrdoc/ukda_data_dictionaries/mcs6_cm_derived_ukda_data_dictionary.rtf\n",
      "Parsed 41 variable blocks from mcs6_cm_derived\n",
      "Parsing file: mcs6_cm_interview from /Users/faith/Desktop/Work/Boston Childrens Hospital/birth-cohort-db/UKMCS/data_dump/UKDA-8156-tab-14y/mrdoc/ukda_data_dictionaries/mcs6_cm_interview_ukda_data_dictionary.rtf\n",
      "Parsed 412 variable blocks from mcs6_cm_interview\n",
      "Parsing file: mcs6_cm_cognitive_assessment from /Users/faith/Desktop/Work/Boston Childrens Hospital/birth-cohort-db/UKMCS/data_dump/UKDA-8156-tab-14y/mrdoc/ukda_data_dictionaries/mcs6_cm_cognitive_assessment_ukda_data_dictionary.rtf\n",
      "Parsed 75 variable blocks from mcs6_cm_cognitive_assessment\n",
      "Parsing file: mcs6_cm_accelerometer_derived from /Users/faith/Desktop/Work/Boston Childrens Hospital/birth-cohort-db/UKMCS/data_dump/UKDA-8156-tab-14y/mrdoc/ukda_data_dictionaries/mcs6_cm_accelerometer_derived_ukda_data_dictionary.rtf\n",
      "Parsed 13 variable blocks from mcs6_cm_accelerometer_derived\n",
      "Parsing file: mcs6_cm_tud_harmonised from /Users/faith/Desktop/Work/Boston Childrens Hospital/birth-cohort-db/UKMCS/data_dump/UKDA-8156-tab-14y/mrdoc/ukda_data_dictionaries/mcs6_cm_tud_harmonised_ukda_data_dictionary.rtf\n",
      "Parsed 9 variable blocks from mcs6_cm_tud_harmonised\n",
      "Parsing file: mcs6_parent_assessment from /Users/faith/Desktop/Work/Boston Childrens Hospital/birth-cohort-db/UKMCS/data_dump/UKDA-8156-tab-14y/mrdoc/ukda_data_dictionaries/mcs6_parent_assessment_ukda_data_dictionary.rtf\n",
      "Parsed 83 variable blocks from mcs6_parent_assessment\n",
      "Parsing file: mcs_sweep6_imd_n_2004 from /Users/faith/Desktop/Work/Boston Childrens Hospital/birth-cohort-db/UKMCS/data_dump/UKDA-8156-tab-14y/mrdoc/ukda_data_dictionaries/mcs_sweep6_imd_n_2004_ukda_data_dictionary.rtf\n",
      "Parsed 10 variable blocks from mcs_sweep6_imd_n_2004\n"
     ]
    }
   ],
   "source": [
    "# Paths to the RTF files\n",
    "years_14_dir = '/Users/faith/Desktop/Work/Boston Childrens Hospital/birth-cohort-db/UKMCS/data_dump/UKDA-8156-tab-14y/mrdoc/ukda_data_dictionaries'\n",
    "file_paths = [os.path.join(years_14_dir, file) for file in os.listdir(years_14_dir) if\n",
    "              os.path.isfile(os.path.join(years_14_dir, file))]\n",
    "all_data = []\n",
    "\n",
    "for file_path in file_paths:\n",
    "    content = read_rtf(file_path)\n",
    "    all_data.extend(parse_rtf_content(content))\n",
    "\n",
    "# Create a DataFrame and save to CSV\n",
    "df = pd.DataFrame(all_data)\n",
    "csv_path = '/Users/faith/Desktop/Work/Boston Childrens Hospital/birth-cohort-db/UKMCS/code/extracted_data14y.csv'\n",
    "df.to_csv(csv_path, index=False)"
   ],
   "metadata": {
    "collapsed": false,
    "ExecuteTime": {
     "end_time": "2024-06-12T00:31:36.943794Z",
     "start_time": "2024-06-12T00:24:45.673312Z"
    }
   },
   "id": "2588751277d740aa"
  },
  {
   "cell_type": "code",
   "execution_count": 29,
   "outputs": [
    {
     "data": {
      "text/plain": "file_name\nmcs6_cm_accelerometer_derived                   13\nmcs6_cm_cognitive_assessment                    75\nmcs6_cm_derived                                 41\nmcs6_cm_interview                              412\nmcs6_cm_tud_harmonised                           9\nmcs6_family_derived                             32\nmcs6_hhgrid                                     54\nmcs6_parent_assessment                          83\nmcs6_parent_cm_interview                       406\nmcs6_parent_derived                             37\nmcs6_parent_income_brackets                   1460\nmcs6_parent_interview                         1036\nmcs6_proxy_partner_interview                   308\nmcs6_tud_parsed_data_app_episode_format         21\nmcs6_tud_parsed_data_paper_calendar_format      33\nmcs6_tud_parsed_data_web_calendar_format        33\nmcs_sweep6_imd_e_2004                           11\nmcs_sweep6_imd_n_2004                           10\nmcs_sweep6_imd_s_2004                           10\nmcs_sweep6_imd_w_2004                           11\nName: variable, dtype: int64"
     },
     "execution_count": 29,
     "metadata": {},
     "output_type": "execute_result"
    }
   ],
   "source": [
    "df.groupby('file_name')['variable'].count() # 20 files"
   ],
   "metadata": {
    "collapsed": false,
    "ExecuteTime": {
     "end_time": "2024-06-12T00:34:19.787693Z",
     "start_time": "2024-06-12T00:34:19.743929Z"
    }
   },
   "id": "e2d45c65027f3ccf"
  },
  {
   "cell_type": "code",
   "execution_count": 30,
   "outputs": [
    {
     "name": "stdout",
     "output_type": "stream",
     "text": [
      "Parsing file: mcs7_cm_derived from /Users/faith/Desktop/Work/Boston Childrens Hospital/birth-cohort-db/UKMCS/data_dump/UKDA-8682-tab-17y/mrdoc/ukda_data_dictionaries/mcs7_cm_derived_ukda_data_dictionary.rtf\n",
      "Parsed 31 variable blocks from mcs7_cm_derived\n",
      "Parsing file: mcs7_parent_interview from /Users/faith/Desktop/Work/Boston Childrens Hospital/birth-cohort-db/UKMCS/data_dump/UKDA-8682-tab-17y/mrdoc/ukda_data_dictionaries/mcs7_parent_interview_ukda_data_dictionary.rtf\n",
      "Parsed 279 variable blocks from mcs7_parent_interview\n",
      "Parsing file: mcs7_cm_cognitive_assessment from /Users/faith/Desktop/Work/Boston Childrens Hospital/birth-cohort-db/UKMCS/data_dump/UKDA-8682-tab-17y/mrdoc/ukda_data_dictionaries/mcs7_cm_cognitive_assessment_ukda_data_dictionary.rtf\n",
      "Parsed 17 variable blocks from mcs7_cm_cognitive_assessment\n",
      "Parsing file: mcs7_parent_cm_interview from /Users/faith/Desktop/Work/Boston Childrens Hospital/birth-cohort-db/UKMCS/data_dump/UKDA-8682-tab-17y/mrdoc/ukda_data_dictionaries/mcs7_parent_cm_interview_ukda_data_dictionary.rtf\n",
      "Parsed 56 variable blocks from mcs7_parent_cm_interview\n",
      "Parsing file: mcs7_cm_qualifications from /Users/faith/Desktop/Work/Boston Childrens Hospital/birth-cohort-db/UKMCS/data_dump/UKDA-8682-tab-17y/mrdoc/ukda_data_dictionaries/mcs7_cm_qualifications_ukda_data_dictionary.rtf\n",
      "Parsed 105 variable blocks from mcs7_cm_qualifications\n",
      "Parsing file: mcs7_parent_derived from /Users/faith/Desktop/Work/Boston Childrens Hospital/birth-cohort-db/UKMCS/data_dump/UKDA-8682-tab-17y/mrdoc/ukda_data_dictionaries/mcs7_parent_derived_ukda_data_dictionary.rtf\n",
      "Parsed 15 variable blocks from mcs7_parent_derived\n",
      "Parsing file: mcs7_family_interview from /Users/faith/Desktop/Work/Boston Childrens Hospital/birth-cohort-db/UKMCS/data_dump/UKDA-8682-tab-17y/mrdoc/ukda_data_dictionaries/mcs7_family_interview_ukda_data_dictionary.rtf\n",
      "Parsed 113 variable blocks from mcs7_family_interview\n",
      "Parsing file: mcs7_hhgrid from /Users/faith/Desktop/Work/Boston Childrens Hospital/birth-cohort-db/UKMCS/data_dump/UKDA-8682-tab-17y/mrdoc/ukda_data_dictionaries/mcs7_hhgrid_ukda_data_dictionary.rtf\n",
      "Parsed 65 variable blocks from mcs7_hhgrid\n",
      "Parsing file: mcs7_family_derived from /Users/faith/Desktop/Work/Boston Childrens Hospital/birth-cohort-db/UKMCS/data_dump/UKDA-8682-tab-17y/mrdoc/ukda_data_dictionaries/mcs7_family_derived_ukda_data_dictionary.rtf\n",
      "Parsed 20 variable blocks from mcs7_family_derived\n",
      "Parsing file: mcs7_cm_interview from /Users/faith/Desktop/Work/Boston Childrens Hospital/birth-cohort-db/UKMCS/data_dump/UKDA-8682-tab-17y/mrdoc/ukda_data_dictionaries/mcs7_cm_interview_ukda_data_dictionary.rtf\n",
      "Parsed 793 variable blocks from mcs7_cm_interview\n"
     ]
    }
   ],
   "source": [
    "# Paths to the RTF files\n",
    "years_17_dir = '/Users/faith/Desktop/Work/Boston Childrens Hospital/birth-cohort-db/UKMCS/data_dump/UKDA-8682-tab-17y/mrdoc/ukda_data_dictionaries'\n",
    "file_paths = [os.path.join(years_17_dir, file) for file in os.listdir(years_17_dir) if\n",
    "              os.path.isfile(os.path.join(years_17_dir, file))]\n",
    "all_data = []\n",
    "\n",
    "for file_path in file_paths:\n",
    "    content = read_rtf(file_path)\n",
    "    all_data.extend(parse_rtf_content(content))\n",
    "\n",
    "# Create a DataFrame and save to CSV\n",
    "df = pd.DataFrame(all_data)\n",
    "csv_path = '/Users/faith/Desktop/Work/Boston Childrens Hospital/birth-cohort-db/UKMCS/code/extracted_data17y.csv'\n",
    "df.to_csv(csv_path, index=False)"
   ],
   "metadata": {
    "collapsed": false,
    "ExecuteTime": {
     "end_time": "2024-06-12T00:40:58.083893Z",
     "start_time": "2024-06-12T00:38:57.837357Z"
    }
   },
   "id": "20b8587d8fb9fcb3"
  },
  {
   "cell_type": "code",
   "execution_count": 31,
   "outputs": [
    {
     "data": {
      "text/plain": "file_name\nmcs7_cm_cognitive_assessment     17\nmcs7_cm_derived                  31\nmcs7_cm_interview               793\nmcs7_cm_qualifications          105\nmcs7_family_derived              20\nmcs7_family_interview           113\nmcs7_hhgrid                      65\nmcs7_parent_cm_interview         56\nmcs7_parent_derived              15\nmcs7_parent_interview           279\nName: variable, dtype: int64"
     },
     "execution_count": 31,
     "metadata": {},
     "output_type": "execute_result"
    }
   ],
   "source": [
    "df.groupby('file_name')['variable'].count() # 10 files"
   ],
   "metadata": {
    "collapsed": false,
    "ExecuteTime": {
     "end_time": "2024-06-12T00:42:56.249821Z",
     "start_time": "2024-06-12T00:42:56.220721Z"
    }
   },
   "id": "55efacaf410ba999"
  },
  {
   "cell_type": "code",
   "execution_count": null,
   "outputs": [],
   "source": [],
   "metadata": {
    "collapsed": false
   },
   "id": "35694b4424c258c9"
  }
 ],
 "metadata": {
  "kernelspec": {
   "display_name": "Python 3",
   "language": "python",
   "name": "python3"
  },
  "language_info": {
   "codemirror_mode": {
    "name": "ipython",
    "version": 2
   },
   "file_extension": ".py",
   "mimetype": "text/x-python",
   "name": "python",
   "nbconvert_exporter": "python",
   "pygments_lexer": "ipython2",
   "version": "2.7.6"
  }
 },
 "nbformat": 4,
 "nbformat_minor": 5
}
