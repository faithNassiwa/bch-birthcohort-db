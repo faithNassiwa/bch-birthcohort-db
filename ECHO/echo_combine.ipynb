{
 "cells": [
  {
   "cell_type": "code",
   "execution_count": 1,
   "id": "initial_id",
   "metadata": {
    "collapsed": true,
    "ExecuteTime": {
     "end_time": "2024-05-19T21:25:48.127927Z",
     "start_time": "2024-05-19T21:25:46.749575Z"
    }
   },
   "outputs": [],
   "source": [
    "import pandas as pd\n",
    "import os\n",
    "import logging\n",
    "import numpy as np"
   ]
  },
  {
   "cell_type": "code",
   "execution_count": 4,
   "outputs": [],
   "source": [
    "# Logging events \n",
    "logging.basicConfig(format='%(asctime)s - %(message)s', level=logging.INFO)"
   ],
   "metadata": {
    "collapsed": false,
    "ExecuteTime": {
     "end_time": "2024-05-19T21:45:16.391122Z",
     "start_time": "2024-05-19T21:45:16.382350Z"
    }
   },
   "id": "eb7f629d0cf2f33"
  },
  {
   "cell_type": "code",
   "execution_count": 6,
   "outputs": [],
   "source": [
    "# Set directory to files to get list of file_paths excluding subdirectories\n",
    "directory = '/Users/faith/Desktop/Work/Boston Childrens Hospital/birth-cohort-db/ECHO/data_dump/Data_CSVDownloaded/02_forms'\n",
    "file_paths = [os.path.join(directory, file) for file in os.listdir(directory) if os.path.isfile(os.path.join(directory, file))]"
   ],
   "metadata": {
    "collapsed": false,
    "ExecuteTime": {
     "end_time": "2024-05-19T21:52:30.535673Z",
     "start_time": "2024-05-19T21:52:30.490338Z"
    }
   },
   "id": "64f960af74f7335f"
  },
  {
   "cell_type": "code",
   "execution_count": 244,
   "outputs": [
    {
     "data": {
      "text/plain": "340"
     },
     "execution_count": 244,
     "metadata": {},
     "output_type": "execute_result"
    }
   ],
   "source": [
    "# Make PtReg file the first item in the list since we shall need it to be set as the base with all the participant registrations\n",
    "PtReg = os.path.join(directory, 'PtReg.csv')\n",
    "file_paths.insert(0, file_paths.pop(file_paths.index(PtReg)))\n",
    "len(file_paths)"
   ],
   "metadata": {
    "collapsed": false,
    "ExecuteTime": {
     "end_time": "2024-04-19T12:48:06.028399Z",
     "start_time": "2024-04-19T12:48:06.002412Z"
    }
   },
   "id": "bd2a6d01f8e44841"
  },
  {
   "cell_type": "code",
   "execution_count": 36,
   "outputs": [],
   "source": [
    "# Define the aggregation functions\n",
    "def custom_agg(series):\n",
    "    # Filter out NaN values before joining\n",
    "    return ', '.join(series.dropna().astype(str))\n",
    "\n",
    "def list_agg(series):\n",
    "    return list(series.dropna())\n",
    "\n",
    "# Specify the columns you want to group by\n",
    "group_columns = ['xCohortID', 'xParticipantID']\n",
    "drop_columns = ['ProtocolID', 'xSiteID']\n",
    "\n",
    "def aggregate_data(grouping_columns, grouping_df): \n",
    "    # Create an empty aggregation dictionary\n",
    "    agg_dict = {}\n",
    "    \n",
    "    # Dynamically add columns to the dictionary with the appropriate function\n",
    "    for col in grouping_df.columns:\n",
    "        if col in grouping_columns:\n",
    "            continue  # Skip group by columns\n",
    "        #if df[col].dtype == 'float64' or df[col].dtype == 'int64':\n",
    "        #agg_dict[col] = ['mean', 'max']  # Apply both mean and max\n",
    "        elif grouping_df[col].dtype in [np.float64, np.int64]:\n",
    "            agg_dict[col] = list_agg  # Use list aggregation for numeric columns\n",
    "    \n",
    "        else:\n",
    "            agg_dict[col] = custom_agg  # Apply custom concatenation\n",
    "    \n",
    "    # Apply the aggregation to the DataFrame\n",
    "    grouped_df = grouping_df.groupby(group_columns).agg(agg_dict)\n",
    "\n",
    "    # Flatten the multi-level columns if necessary\n",
    "    grouped_df.columns = ['_'.join(col) if isinstance(col, tuple) else col for col in grouped_df.columns.values]\n",
    "\n",
    "    grouped_df.reset_index(inplace=True)\n",
    "    return grouped_df\n",
    "    \n",
    "def combine_echo_files(files):\n",
    "    # Initialize an empty DataFrame and trackers\n",
    "    base_df = pd.DataFrame()\n",
    "    file_count = 0\n",
    "    merged_files = []\n",
    "    # Process each file\n",
    "    for index, file in enumerate(files):\n",
    "        if file.endswith('.csv'):\n",
    "            # Read the current file into a DataFrame\n",
    "            temp_df = pd.read_csv(file, low_memory=False)\n",
    "\n",
    "            # Dynamic suffixes based on the file names\n",
    "            base_file = files[index-1].replace(directory, '')\n",
    "            base_form_name = os.path.splitext(base_file)[0]\n",
    "            temp_file = file.replace(directory, '')\n",
    "            temp_form_name = os.path.splitext(temp_file)[0]\n",
    "            suffixes = (f'_{base_form_name }', f'_{temp_form_name}')\n",
    "            \n",
    "            logging.info('Reading %s - %s', file, suffixes)\n",
    "        \n",
    "            # Add the first file(PtReg)\n",
    "            if base_df.empty:\n",
    "                base_df = temp_df\n",
    "            else:\n",
    "               # Remove columns that are repeated and/or not relevant \n",
    "                temp_df = temp_df.drop(columns=[col for col in drop_columns if col in temp_df.columns])\n",
    "               \n",
    "                # Aggregate the data in the form to combine with the PtReg \n",
    "                temp_df = aggregate_data(group_columns, temp_df)\n",
    "            \n",
    "                # Merge the new DataFrame with the base DataFrame on the join key\n",
    "                base_df = pd.merge(base_df, temp_df, on=['xCohortID', 'xParticipantID'], how='left', suffixes=suffixes)\n",
    "        file_count += 1\n",
    "        merged_files.append(file)\n",
    "        logging.info('Files processed: %s', file_count)\n",
    "    # Remove PtReg file from merged files so that it can be used as base in next batch\n",
    "    merged_files.remove(PtReg)\n",
    "    return base_df, merged_files, file_count"
   ],
   "metadata": {
    "collapsed": false,
    "ExecuteTime": {
     "end_time": "2024-05-19T22:47:33.816466Z",
     "start_time": "2024-05-19T22:47:33.777827Z"
    }
   },
   "id": "74ee184932f6b9fd"
  },
  {
   "cell_type": "code",
   "execution_count": 238,
   "outputs": [
    {
     "name": "stderr",
     "output_type": "stream",
     "text": [
      "2024-04-18 22:04:57,436 - Reading /Users/faith/Desktop/ECHO/raw_downloaded/csv_files/PtReg.csv - ('_Ess_HSE_HOME_EC', '_PtReg')\n",
      "2024-04-18 22:04:57,437 - Files processed: 1\n",
      "2024-04-18 22:04:57,481 - Reading /Users/faith/Desktop/ECHO/raw_downloaded/csv_files/Ess_CNH_SDQ_4.csv - ('_PtReg', '_Ess_CNH_SDQ_4')\n",
      "2024-04-18 22:05:11,794 - Files processed: 2\n",
      "2024-04-18 22:05:11,812 - Reading /Users/faith/Desktop/ECHO/raw_downloaded/csv_files/Ess_HSE_HOME_EC.csv - ('_Ess_CNH_SDQ_4', '_Ess_HSE_HOME_EC')\n",
      "2024-04-18 22:05:17,047 - Files processed: 3\n"
     ]
    }
   ],
   "source": [
    "combined_df, merged_files, files_count= combine_echo_files(file_paths[0:3]) "
   ],
   "metadata": {
    "collapsed": false,
    "ExecuteTime": {
     "end_time": "2024-04-19T02:05:17.107561Z",
     "start_time": "2024-04-19T02:04:57.203245Z"
    }
   },
   "id": "86122d73eec97b25"
  },
  {
   "cell_type": "code",
   "execution_count": 240,
   "outputs": [],
   "source": [
    "combined_df.to_csv('combined_echo_data_3.csv', index=False)"
   ],
   "metadata": {
    "collapsed": false,
    "ExecuteTime": {
     "end_time": "2024-04-19T04:15:12.449234Z",
     "start_time": "2024-04-19T04:15:07.898318Z"
    }
   },
   "id": "c06fca54391a30b1"
  },
  {
   "cell_type": "code",
   "execution_count": 221,
   "outputs": [
    {
     "data": {
      "text/plain": "(63215, 159)"
     },
     "execution_count": 221,
     "metadata": {},
     "output_type": "execute_result"
    }
   ],
   "source": [
    "combined_df.shape"
   ],
   "metadata": {
    "collapsed": false,
    "ExecuteTime": {
     "end_time": "2024-04-19T01:38:14.302735Z",
     "start_time": "2024-04-19T01:38:14.296532Z"
    }
   },
   "id": "28e48805723c7028"
  },
  {
   "cell_type": "code",
   "execution_count": 192,
   "outputs": [],
   "source": [
    "merged_files_30 = merged_files"
   ],
   "metadata": {
    "collapsed": false,
    "ExecuteTime": {
     "end_time": "2024-04-19T01:06:35.894310Z",
     "start_time": "2024-04-19T01:06:35.878539Z"
    }
   },
   "id": "11acc2cd86a0656f"
  },
  {
   "cell_type": "code",
   "execution_count": 194,
   "outputs": [
    {
     "data": {
      "text/plain": "['/Users/faith/Desktop/ECHO/raw_downloaded/csv_files/Ess_CNH_SDQ_4.csv',\n '/Users/faith/Desktop/ECHO/raw_downloaded/csv_files/Ess_HSE_HOME_EC.csv',\n '/Users/faith/Desktop/ECHO/raw_downloaded/csv_files/Rec_RCh_TSR_6_12.csv',\n '/Users/faith/Desktop/ECHO/raw_downloaded/csv_files/Rec_RCh_SESC_6_12.csv',\n '/Users/faith/Desktop/ECHO/raw_downloaded/csv_files/Ess_CWB_PGLS5a_A.csv',\n '/Users/faith/Desktop/ECHO/raw_downloaded/csv_files/Ess_CHB_BLOCK2.csv',\n '/Users/faith/Desktop/ECHO/raw_downloaded/csv_files/Rec_RCh_NDSR04_C.csv',\n '/Users/faith/Desktop/ECHO/raw_downloaded/csv_files/Ess_CPH_PDS.csv',\n '/Users/faith/Desktop/ECHO/raw_downloaded/csv_files/Ess_CNP_PPVT3a.csv',\n '/Users/faith/Desktop/ECHO/raw_downloaded/csv_files/Ess_CNH_ASQ_18.csv',\n '/Users/faith/Desktop/ECHO/raw_downloaded/csv_files/Ess_CHB_CFSP.csv',\n '/Users/faith/Desktop/ECHO/raw_downloaded/csv_files/Rec_RCh_CPrU_PR.csv',\n '/Users/faith/Desktop/ECHO/raw_downloaded/csv_files/Ess_CNH_ASQ_24.csv',\n '/Users/faith/Desktop/ECHO/raw_downloaded/csv_files/Ess_SRP_EAC_PR.csv',\n '/Users/faith/Desktop/ECHO/raw_downloaded/csv_files/Ess_CNH_ASQ_30.csv',\n '/Users/faith/Desktop/ECHO/raw_downloaded/csv_files/Ess_CNH_SCQ.csv',\n '/Users/faith/Desktop/ECHO/raw_downloaded/csv_files/Ess_CWB_PLS8b_Ped.csv',\n '/Users/faith/Desktop/ECHO/raw_downloaded/csv_files/Rec_RCg_CTS.csv',\n '/Users/faith/Desktop/ECHO/raw_downloaded/csv_files/Ess_HSE_ACE_aPV_A.csv',\n '/Users/faith/Desktop/ECHO/raw_downloaded/csv_files/Rec_RCh_Caff_PR.csv',\n '/Users/faith/Desktop/ECHO/raw_downloaded/csv_files/Rec_RCg_PSOC.csv',\n '/Users/faith/Desktop/ECHO/raw_downloaded/csv_files/Ess_CNH_SB5.csv',\n '/Users/faith/Desktop/ECHO/raw_downloaded/csv_files/Ess_CNH_RECBQvSF.csv',\n '/Users/faith/Desktop/ECHO/raw_downloaded/csv_files/Ess_CNH_PPSE4a_Ped.csv',\n '/Users/faith/Desktop/ECHO/raw_downloaded/csv_files/Ess_Prg_MMRAaG.csv',\n '/Users/faith/Desktop/ECHO/raw_downloaded/csv_files/import.py',\n '/Users/faith/Desktop/ECHO/raw_downloaded/csv_files/Ess_HSE_FES_Coh.csv',\n '/Users/faith/Desktop/ECHO/raw_downloaded/csv_files/Rec_RCh_C19SSD_cPR.csv',\n '/Users/faith/Desktop/ECHO/raw_downloaded/csv_files/Ess_CHB_BLOCK3.csv']"
     },
     "execution_count": 194,
     "metadata": {},
     "output_type": "execute_result"
    }
   ],
   "source": [
    "merged_files_30"
   ],
   "metadata": {
    "collapsed": false,
    "ExecuteTime": {
     "end_time": "2024-04-19T01:06:53.079082Z",
     "start_time": "2024-04-19T01:06:53.071482Z"
    }
   },
   "id": "384a7748e70c2236"
  },
  {
   "cell_type": "code",
   "execution_count": 246,
   "outputs": [
    {
     "data": {
      "text/plain": "98"
     },
     "execution_count": 246,
     "metadata": {},
     "output_type": "execute_result"
    }
   ],
   "source": [
    "file_paths.index('/Users/faith/Desktop/ECHO/raw_downloaded/csv_files/Ess_CPH_CG_CAPE.csv')"
   ],
   "metadata": {
    "collapsed": false,
    "ExecuteTime": {
     "end_time": "2024-04-19T12:53:30.302090Z",
     "start_time": "2024-04-19T12:53:30.281747Z"
    }
   },
   "id": "ee5207b38e1d2e34"
  },
  {
   "cell_type": "code",
   "execution_count": 248,
   "outputs": [
    {
     "data": {
      "text/plain": "'/Users/faith/Desktop/ECHO/raw_downloaded/csv_files/Ess_Dem_GI.csv'"
     },
     "execution_count": 248,
     "metadata": {},
     "output_type": "execute_result"
    }
   ],
   "source": [
    "file_paths[99]"
   ],
   "metadata": {
    "collapsed": false,
    "ExecuteTime": {
     "end_time": "2024-04-19T12:54:27.149162Z",
     "start_time": "2024-04-19T12:54:27.140111Z"
    }
   },
   "id": "91b90e144984ae52"
  },
  {
   "cell_type": "code",
   "execution_count": 251,
   "outputs": [
    {
     "data": {
      "text/plain": "'/Users/faith/Desktop/ECHO/raw_downloaded/csv_files/Ess_CNH_ASQ_54.csv'"
     },
     "execution_count": 251,
     "metadata": {},
     "output_type": "execute_result"
    }
   ],
   "source": [
    "file_paths[149]"
   ],
   "metadata": {
    "collapsed": false,
    "ExecuteTime": {
     "end_time": "2024-04-19T15:39:28.037803Z",
     "start_time": "2024-04-19T15:39:28.026625Z"
    }
   },
   "id": "c370d49918ce838b"
  },
  {
   "cell_type": "markdown",
   "source": [
    "Notes:  file Rec_RCh_NDSR02_C.csv is large file number 54 and takes a while to execute ... over an hour on local computer resources "
   ],
   "metadata": {
    "collapsed": false
   },
   "id": "d9a6ba1126bac68"
  },
  {
   "cell_type": "code",
   "execution_count": 39,
   "outputs": [],
   "source": [
    "batch1 = pd.read_csv('/Users/faith/Desktop/Work/Boston Childrens Hospital/birth-cohort-db/ECHO/data_dump/raw_combined_batches/combined_echo_data_batch_1.csv', low_memory=False)"
   ],
   "metadata": {
    "collapsed": false,
    "ExecuteTime": {
     "end_time": "2024-05-14T00:24:43.507790Z",
     "start_time": "2024-05-14T00:24:08.783517Z"
    }
   },
   "id": "ed9f19e8fdec4d71"
  },
  {
   "cell_type": "code",
   "execution_count": 17,
   "outputs": [
    {
     "data": {
      "text/plain": "['xParticipantID',\n 'xOthPtID1',\n 'ProtocolID',\n 'xCohortID',\n 'xSiteID',\n 'xCohortID_UH3',\n 'ExplicitRegistration',\n 'ParticipantType',\n 'ParticipationLevel',\n 'PregnancyNumber',\n 'DeliveryOrder',\n 'Ethnicity',\n 'Race',\n 'Sex',\n 'xDateOfBirth',\n 'YearOfBirth',\n 'xExpectedDueDate',\n 'ExpectedYearOfBirth',\n 'xCohortEnrollmentDate',\n 'YearOfCohortEnrollment',\n 'xProtocolEnrollmentDate',\n 'FinalParticipationLevel',\n 'FinalLevelReason',\n 'xOtherfinalReason',\n 'Withdrawn',\n 'xWithdrawnReason',\n 'VisitName_Ess_CNH_SDQ_4',\n 'xFormDT_Ess_CNH_SDQ_4',\n 'SequenceNum_Ess_CNH_SDQ_4',\n 'respondent_Ess_CNH_SDQ_4',\n 'otherresp_Ess_CNH_SDQ_4',\n 'sdq_4_1',\n 'sdq_4_2',\n 'sdq_4_3',\n 'sdq_4_4',\n 'sdq_4_5',\n 'sdq_4_6',\n 'sdq_4_7',\n 'sdq_4_8',\n 'sdq_4_9',\n 'sdq_4_10',\n 'sdq_4_11',\n 'sdq_4_12',\n 'sdq_4_13',\n 'sdq_4_14',\n 'sdq_4_15',\n 'sdq_4_16',\n 'sdq_4_17',\n 'sdq_4_18',\n 'sdq_4_19',\n 'sdq_4_20',\n 'sdq_4_21',\n 'sdq_4_22',\n 'sdq_4_23',\n 'sdq_4_24',\n 'sdq_4_25',\n 'sdq_4_emotional',\n 'sdq_4_conduct',\n 'sdq_4_hyperactivity',\n 'sdq_4_peer_problems',\n 'sdq_4_prosocial',\n 'sdq_4_total_difficulties',\n 'sdq_4_externalising',\n 'sdq_4_internalising',\n 'sdq_4_emotional_3band',\n 'sdq_4_conduct_3band',\n 'sdq_4_hyper_3band',\n 'sdq_4_peer_prob_3band',\n 'sdq_4_prosocial_3band',\n 'sdq_4_total_diff_3band',\n 'sdq_4_emotional_4band',\n 'sdq_4_conduct_4band',\n 'sdq_4_hyper_4band',\n 'sdq_4_peer_prob_4band',\n 'sdq_4_prosocial_4band',\n 'sdq_4_total_diff_4band',\n 'sdq_4_setting',\n 'sdq_4_mode',\n 'sdq_4_version',\n 'sdq_4_language',\n 'SDQ_4_EmanifestSource',\n 'SDQ_4_AgeInDays',\n 'SDQ_4_AgeInYears',\n 'VisitName_Ess_HSE_HOME_EC',\n 'xFormDT_Ess_HSE_HOME_EC',\n 'SequenceNum_Ess_HSE_HOME_EC',\n 'respondent_Ess_HSE_HOME_EC',\n 'otherresp_Ess_HSE_HOME_EC',\n 'home_ec_childage',\n 'xhome_ec_date',\n 'home_ec_childsex',\n 'home_ec_learningstim1',\n 'home_ec_learningstim2',\n 'home_ec_learningstim3',\n 'home_ec_learningstim4',\n 'home_ec_learningstim5',\n 'home_ec_learningstim6',\n 'home_ec_learningstim7',\n 'home_ec_learningstim8',\n 'home_ec_learningstim9',\n 'home_ec_learningstim10',\n 'home_ec_learningstim11',\n 'home_ec_languagestim1',\n 'home_ec_languagestim2',\n 'home_ec_languagestim3',\n 'home_ec_languagestim4',\n 'home_ec_languagestim5',\n 'home_ec_languagestim6',\n 'home_ec_languagestim7',\n 'home_ec_physicalenviron1',\n 'home_ec_physicalenviron2',\n 'home_ec_physicalenviron3',\n 'home_ec_physicalenviron4',\n 'home_ec_physicalenviron5',\n 'home_ec_physicalenviron6',\n 'home_ec_physicalenviron7',\n 'home_ec_warmth1',\n 'home_ec_warmth2',\n 'home_ec_warmth3',\n 'home_ec_warmth4',\n 'home_ec_warmth5',\n 'home_ec_warmth6',\n 'home_ec_warmth7',\n 'home_ec_academicstim1',\n 'home_ec_academicstim2',\n 'home_ec_academicstim3',\n 'home_ec_academicstim4',\n 'home_ec_academicstim5',\n 'home_ec_model1',\n 'home_ec_model2',\n 'home_ec_model3',\n 'home_ec_model4',\n 'home_ec_model5',\n 'home_ec_variety1',\n 'home_ec_variety2',\n 'home_ec_variety3',\n 'home_ec_variety4',\n 'home_ec_variety5',\n 'home_ec_variety6',\n 'home_ec_variety7',\n 'home_ec_variety8',\n 'home_ec_variety9',\n 'home_ec_acceptance1',\n 'home_ec_acceptance2',\n 'home_ec_acceptance3',\n 'home_ec_acceptance4',\n 'home_ec_total_learningstim',\n 'home_ec_total_languagestim',\n 'home_ec_total_warmth',\n 'home_ec_total_academicstim',\n 'home_ec_total_model',\n 'home_ec_total_variety',\n 'home_ec_total_acceptance',\n 'home_ec_total_overall',\n 'ftr_setting_Ess_CPH_PDS',\n 'ftr_mode_Ess_CPH_PDS',\n 'HOME_EC_EmanifestSource',\n 'HOME_EC_AgeInDays',\n 'HOME_EC_AgeInYears',\n 'VisitName_Rec_RCh_TSR_6_12',\n 'xFormDT_Rec_RCh_TSR_6_12',\n 'SequenceNum_Rec_RCh_TSR_6_12',\n 'respondent_Rec_RCh_TSR_6_12',\n 'otherresp_Rec_RCh_TSR_6_12',\n 'tsr_6_12_1',\n 'tsr_6_12_2',\n 'tsr_6_12_3',\n 'tsr_6_12_4',\n 'tsr_6_12_5',\n 'tsr_6_12_setting',\n 'tsr_6_12_mode',\n 'tsr_6_12_version',\n 'tsr_6_12_language',\n 'TSR_6_12_EmanifestSource',\n 'TSR_6_12_AgeInDays',\n 'TSR_6_12_AgeInYears',\n 'VisitName_Rec_RCh_SESC_6_12',\n 'xFormDT_Rec_RCh_SESC_6_12',\n 'SequenceNum_Rec_RCh_SESC_6_12',\n 'respondent_Rec_RCh_SESC_6_12',\n 'otherresp_Rec_RCh_SESC_6_12',\n 'sesc_6_12_01',\n 'sesc_6_12_02',\n 'sesc_6_12_03',\n 'sesc_6_12_04',\n 'sesc_6_12_05',\n 'sesc_6_12_06',\n 'sesc_6_12_07',\n 'sesc_6_12_08',\n 'sesc_6_12_09',\n 'sesc_6_12_10',\n 'sesc_6_12_11',\n 'sesc_6_12_12',\n 'sesc_6_12_13',\n 'sesc_6_12_14',\n 'sesc_6_12_15',\n 'sesc_6_12_16',\n 'sesc_6_12_17',\n 'sesc_6_12_18',\n 'sesc_6_12_19',\n 'sesc_6_12_20',\n 'sesc_6_12_21',\n 'sesc_6_12_22',\n 'sesc_6_12_23',\n 'sesc_6_12_24',\n 'sesc_6_12_25',\n 'sesc_6_12_26',\n 'sesc_6_12_27',\n 'sesc_6_12_28',\n 'sesc_6_12_29',\n 'sesc_6_12_30',\n 'sesc_6_12_31',\n 'sesc_6_12_32',\n 'sesc_6_12_33',\n 'sesc_6_12_34',\n 'sesc_6_12_setting',\n 'sesc_6_12_mode',\n 'sesc_6_12_version',\n 'sesc_6_12_language',\n 'SESC_6_12_EmanifestSource',\n 'SESC_6_12_AgeInDays',\n 'SESC_6_12_AgeInYears',\n 'VisitName_Ess_CWB_PGLS5a_A',\n 'xFormDT_Ess_CWB_PGLS5a_A',\n 'SequenceNum_Ess_CWB_PGLS5a_A',\n 'pgls5a_a_tscore',\n 'pgls5a_a_std_error',\n 'respondent_Ess_CWB_PGLS5a_A',\n 'otherresp_Ess_CWB_PGLS5a_A',\n 'pgls5a_a_1',\n 'pgls5a_a_2',\n 'pgls5a_a_3',\n 'pgls5a_a_4',\n 'pgls5a_a_5',\n 'pgls5a_a_setting',\n 'pgls5a_a_mode',\n 'pgls5a_a_version',\n 'pgls5a_a_language',\n 'pgls5a_a_tscore_auto',\n 'pgls5a_a_stderror_auto',\n 'pgls5a_a_paramtotal_auto',\n 'pgls5a_a_paramavailable_auto',\n 'pgls5a_a_oid_auto',\n 'pgls5a_a_version_auto',\n 'PGLS5a_A_EmanifestSource',\n 'PGLS5a_A_AgeInDays',\n 'PGLS5a_A_AgeInYears',\n 'VisitName_Ess_CHB_BLOCK2',\n 'xFormDT_Ess_CHB_BLOCK2',\n 'SequenceNum_Ess_CHB_BLOCK2',\n 'respondent_Ess_CHB_BLOCK2',\n 'otherresp_Ess_CHB_BLOCK2',\n 'block2_sex',\n 'block2_age',\n 'block2_weight',\n 'block2_heightfeet',\n 'block2_heightinches',\n 'block2_blackafrican',\n 'block2_white',\n 'block2_hispanic',\n 'block2_asian',\n 'block2_nativeindian',\n 'block2_otherethnicity',\n 'block2_booknum',\n 'block2_dt_kcal',\n 'block2_dt_prot',\n 'block2_dt_tfat',\n 'block2_dt_carb',\n 'block2_dt_calc',\n 'block2_dt_phos',\n 'block2_dt_iron',\n 'block2_dt_sodi',\n 'block2_dt_pota',\n 'block2_dt_thia',\n 'block2_dt_ribo',\n 'block2_dt_niac',\n 'block2_dt_vitc',\n 'block2_dt_sfat',\n 'block2_dt_mfat',\n 'block2_dt_pfat',\n 'block2_dt_chol',\n 'block2_dt_fibe',\n 'block2_dt_folfd',\n 'block2_dt_zinc',\n 'block2_dt_an_zinc',\n 'block2_dt_vit_b6',\n 'block2_dt_magn',\n 'block2_dt_acaro',\n 'block2_dt_bcaro',\n 'block2_dt_crypt',\n 'block2_dt_lutein',\n 'block2_dt_lycopene',\n 'block2_dt_retinol',\n 'block2_dt_carotene',\n 'block2_dt_vit_a_rae',\n 'block2_dt_vit_e_atoc',\n 'block2_dt_vit_b12',\n 'block2_dt_copper',\n 'block2_dt_selenium',\n 'block2_dt_fol_fort',\n 'block2_dt_fol_food',\n 'block2_dt_fol_dfe',\n 'block2_dt_vit_k',\n 'block2_dt_theobromn',\n 'block2_dt_tot_sugar',\n 'block2_dt_fruct',\n 'block2_dt_lact',\n 'block2_dt_malt',\n 'block2_dt_galac',\n 'block2_dt_sucr',\n 'block2_dt_gluc',\n 'block2_dt_omega_3',\n 'block2_dt_omega_6',\n 'block2_dt_vit_d',\n 'block2_dt_trans_fat',\n 'block2_pctfat',\n 'block2_pctprot',\n 'block2_pctcarb',\n 'block2_pctsweet',\n 'block2_gp_sugarybevg_tot_grams',\n 'block2_gp_sugarybevg_tot_kcal',\n 'block2_gp_beanfiber_tot_fibe',\n 'block2_gr_vegfruitfiber_tot_fibe',\n 'block2_gp_grainfiber_tot_fibe',\n 'block2_gp_solid_count',\n 'block2_gp_solid_tot_frequency',\n 'block2_gp_solid_tot_grams',\n 'block2_addsugar',\n 'block2_dfat_oil',\n 'block2_dfat_sol',\n 'block2_cheese',\n 'block2_milk',\n 'block2_totdairy',\n 'block2_yogurt',\n 'block2_fruit_tot',\n 'block2_f_juice',\n 'block2_juice100',\n 'block2_citrmelonbery',\n 'block2_othfruit',\n 'block2_nwhlgran',\n 'block2_totgrain',\n 'block2_whlgrain',\n 'block2_drybeans',\n 'block2_justeggs',\n 'block2_fish_hi',\n 'block2_fish_lo',\n 'block2_lnchmeat',\n 'block2_redmeat',\n 'block2_meat_mfp',\n 'block2_nutseeds',\n 'block2_orgmeat',\n 'block2_poultry',\n 'block2_soyfoods',\n 'block2_vegorang',\n 'block2_vegleafy',\n 'block2_vegother',\n 'block2_whtpotat',\n 'block2_vegstarchy',\n 'block2_vegtomat',\n 'block2_totveg',\n 'block2_sup_vita',\n 'block2_sup_vitc',\n 'block2_sup_vitd',\n 'block2_sup_vite',\n 'block2_sup_iron',\n 'block2_sup_ca',\n 'block2_sup_zinc',\n 'block2_sup_bcar',\n 'block2_sup_b1',\n 'block2_sup_b6',\n 'block2_sup_b12',\n 'block2_sup_fol',\n 'block2_sup_cu',\n 'block2_sup_se',\n 'block2_sup_b2',\n 'block2_sup_mg',\n 'block2_sup_niac',\n 'block2_pancakefreq',\n 'block2_pancakequan',\n 'block2_barsfreq',\n 'block2_barsquan',\n 'block2_eggsfreq',\n 'block2_eggsquan',\n 'block2_baconfreq',\n 'block2_cookedcerealfreq',\n 'block2_cookedcerealquan',\n 'block2_coldcerealfreq',\n 'block2_coldcerealquan',\n 'block2_coldcerealcode',\n 'block2_milkoncerealfreq',\n 'block2_yogurtfreq',\n 'block2_yogurtquan',\n 'block2_bananasfreq',\n 'block2_bananasquan',\n 'block2_applespearsfreq',\n 'block2_applespearsquan',\n 'block2_orangesfreq',\n 'block2_orangesquan',\n 'block2_strawberryfreq',\n 'block2_strawberryquan',\n 'block2_cannedfruitfreq',\n 'block2_cannedfruitquan',\n 'block2_otherfruitfreq',\n 'block2_otherfruitquan',\n 'block2_burgerfreq',\n 'block2_burgerquan',\n 'block2_burgertype',\n 'block2_tacosfreq',\n 'block2_tacosquan',\n 'block2_tacotype',\n 'block2_tamalefreq',\n 'block2_tamalequan',\n 'block2_hotpocketfreq',\n 'block2_beeffreq',\n 'block2_beefquan',\n 'block2_hamburgerhelperfreq',\n 'block2_hamburgerhelperquan',\n 'block2_porkfreq',\n 'block2_porkquan',\n 'block2_friedchickenfreq',\n 'block2_friedchickenquan',\n 'block2_notfriedchickenfreq',\n 'block2_notfriedchickenquan',\n 'block2_anyfishfreq',\n 'block2_anyfishquan',\n 'block2_spaghettifreq',\n 'block2_spaghettiquan',\n 'block2_cheesedishfreq',\n 'block2_cheesedishquan',\n 'block2_pizzafreq',\n 'block2_pizzaquan',\n 'block2_hotdogfreq',\n 'block2_hotdogquan',\n 'block2_hamfreq',\n 'block2_hamquan',\n 'block2_refriedbeansfreq',\n 'block2_refriedbeansquan',\n 'block2_veggiesoupfreq',\n 'block2_veggiesoupquan',\n 'block2_othersoupfreq',\n 'block2_othersoupquan',\n 'block2_wholewheatbreadfreq',\n 'block2_wholewheatbreadquan',\n 'block2_whitebreadfreq',\n 'block2_whitebreadquan',\n 'block2_biscuitsfreq',\n 'block2_biscuitsquan',\n 'block2_corntortillasfreq',\n 'block2_corntortillasquan',\n 'block2_flourtortillasfreq',\n 'block2_flourtortillasquan',\n 'block2_margarinefreq',\n 'block2_margarinequan',\n 'block2_cheesefreq',\n 'block2_cheesequan',\n 'block2_mayofreq',\n 'block2_peanutbutterfreq',\n 'block2_peanutbutterquan',\n 'block2_jellyfreq',\n 'block2_nutsfreq',\n 'block2_nutsquan',\n 'block2_greensaladfreq',\n 'block2_greensaladquan',\n 'block2_saladdressingfreq',\n 'block2_avocadofreq',\n 'block2_avocadoquan',\n 'block2_beanspeasfreq',\n 'block2_beanspeasquan',\n 'block2_pintobeansfreq',\n 'block2_pintobeansquan',\n 'block2_cornfreq',\n 'block2_cornquan',\n 'block2_tomatoesfreq',\n 'block2_tomatoesquan',\n 'block2_greensfreq',\n 'block2_greensquan',\n 'block2_broccolifreq',\n 'block2_broccoliquan',\n 'block2_carrotsfreq',\n 'block2_carrotsquan',\n 'block2_sweetpotatoesfreq',\n 'block2_sweetpotatoesquan',\n 'block2_cookedpeppersfreq',\n 'block2_cookedpeppersquan',\n 'block2_friesfreq',\n 'block2_friesquan',\n 'block2_whitepotatoesfreq',\n 'block2_whitepotatoesquan',\n 'block2_yuccafreq',\n 'block2_yuccaquan',\n 'block2_otherveggiesfreq',\n 'block2_otherveggiesquan',\n 'block2_ricefreq',\n 'block2_ricequan',\n 'block2_salsafreq',\n 'block2_saltysnacksfreq',\n 'block2_saltysnacksquan',\n 'block2_crackersfreq',\n 'block2_crackersquan',\n 'block2_nachosfreq',\n 'block2_nachosquan',\n 'block2_puddingfreq',\n 'block2_puddingquan',\n 'block2_icecreamfreq',\n 'block2_icecreamquan',\n 'block2_cookiesfreq',\n 'block2_cookiesquan',\n 'block2_doughnutsfreq',\n 'block2_doughnutsquan',\n 'block2_cakefreq',\n 'block2_cakequan',\n 'block2_piefreq',\n 'block2_piequan',\n 'block2_chocolatecandyfreq',\n 'block2_chocolatecandyquan',\n 'block2_candyfreq',\n 'block2_candyquan',\n 'block2_chocmilkfreq',\n 'block2_chocmilkquan',\n 'block2_reducedfatmilkfreq',\n 'block2_reducedfatmilkquan',\n 'block2_typeofmilk',\n 'block2_softdrinksfreq',\n 'block2_softdrinksquan',\n 'block2_sodaamount',\n 'block2_slurpeefreq',\n 'block2_hawaiianpunchfreq',\n 'block2_hawaiianpunchquan',\n 'block2_hicfreq',\n 'block2_hicquan',\n 'block2_orangejuicefreq',\n 'block2_orangejuicequan',\n 'block2_otherjuicefreq',\n 'block2_otherjuicequan',\n 'block2_vitaminregularuse',\n 'block2_vitaminpilldaysamount',\n 'block2_veggiesfreq',\n 'block2_fruitsfreq',\n 'block2_setting',\n 'block2_mode',\n 'block2_version',\n 'block2_language',\n 'BLOCK2_EmanifestSource',\n 'BLOCK2_AgeInDays',\n 'BLOCK2_AgeInYears',\n 'VisitName_Rec_RCh_NDSR04_C',\n 'xFormDT_Rec_RCh_NDSR04_C',\n 'SequenceNum_Rec_RCh_NDSR04_C',\n 'respondent_Rec_RCh_NDSR04_C',\n 'otherresp_Rec_RCh_NDSR04_C',\n 'xndsr04_c_cdbvers',\n 'xndsr04_c_cswvers',\n 'xndsr04_c_cnote',\n 'xndsr04_c_cgdbvers',\n 'xndsr04_c_cgswvers',\n 'xndsr04_c_ctnote',\n 'xndsr04_c_dintake',\n 'ndsr04_c_irectype',\n 'ndsr04_c_igender',\n 'xndsr04_c_dentry',\n 'ndsr04_c_idow',\n 'ndsr04_c_irdacat',\n 'ndsr04_c_iamount',\n 'ndsr04_c_ireliabl',\n 'ndsr04_c_rigrams',\n 'ndsr04_c_rikcal',\n 'ndsr04_c_rifat',\n 'ndsr04_c_ritcho',\n 'ndsr04_c_ripro',\n 'ndsr04_c_riapro',\n 'ndsr04_c_rivpro',\n 'ndsr04_c_rialc',\n 'ndsr04_c_richol',\n 'ndsr04_c_risfa',\n 'ndsr04_c_rimfa',\n 'ndsr04_c_ripfa',\n 'ndsr04_c_rifruc',\n 'ndsr04_c_rigala',\n 'ndsr04_c_rigluc',\n 'ndsr04_c_rilact',\n 'ndsr04_c_rimalt',\n 'ndsr04_c_risucr',\n 'ndsr04_c_ristar',\n 'ndsr04_c_ridfib',\n 'ndsr04_c_riwsdf',\n 'ndsr04_c_riifib',\n 'ndsr04_c_ripect',\n 'ndsr04_c_riva',\n 'ndsr04_c_ribceq',\n 'ndsr04_c_rirl',\n 'ndsr04_c_rivd',\n 'ndsr04_c_rittc',\n 'ndsr04_c_riatc',\n 'ndsr04_c_ribtc',\n 'ndsr04_c_rigtc',\n 'ndsr04_c_ridtc',\n 'ndsr04_c_rivk',\n 'ndsr04_c_rivc',\n 'ndsr04_c_rithi',\n 'ndsr04_c_ririb',\n 'ndsr04_c_rinia',\n 'ndsr04_c_ripant',\n 'ndsr04_c_rivb6',\n 'ndsr04_c_rifol',\n 'ndsr04_c_rivb12',\n 'ndsr04_c_rica',\n 'ndsr04_c_rip',\n 'ndsr04_c_rimg',\n 'ndsr04_c_rife',\n 'ndsr04_c_rizn',\n 'ndsr04_c_ricu',\n 'ndsr04_c_rise',\n 'ndsr04_c_rina',\n 'ndsr04_c_rik',\n 'ndsr04_c_ris04_0',\n 'ndsr04_c_ris06_0',\n 'ndsr04_c_ris08_0',\n 'ndsr04_c_ris10_0',\n 'ndsr04_c_ris12_0',\n 'ndsr04_c_ris14_0',\n 'ndsr04_c_ris16_0',\n 'ndsr04_c_ris17_0',\n 'ndsr04_c_ris18_0',\n 'ndsr04_c_ris20_0',\n 'ndsr04_c_ris22_0',\n 'ndsr04_c_rim14_1',\n 'ndsr04_c_rim16_1',\n 'ndsr04_c_rim18_1',\n 'ndsr04_c_rim20_1',\n 'ndsr04_c_rim22_1',\n 'ndsr04_c_rip18_2',\n 'ndsr04_c_rip18_3',\n 'ndsr04_c_rip18_4',\n 'ndsr04_c_rip20_4',\n 'ndsr04_c_rip20_5',\n 'ndsr04_c_rip22_5',\n 'ndsr04_c_rip22_6',\n 'ndsr04_c_ritryp',\n 'ndsr04_c_rithre',\n 'ndsr04_c_riisol',\n 'ndsr04_c_rileuc',\n 'ndsr04_c_rilysi',\n 'ndsr04_c_rimeth',\n 'ndsr04_c_ricyst',\n 'ndsr04_c_riphen',\n 'ndsr04_c_rityro',\n 'ndsr04_c_rivali',\n 'ndsr04_c_riargi',\n 'ndsr04_c_rihist',\n 'ndsr04_c_rialan',\n 'ndsr04_c_riaspa',\n 'ndsr04_c_riglut',\n 'ndsr04_c_riglyc',\n 'ndsr04_c_riprol',\n 'ndsr04_c_riseri',\n 'ndsr04_c_riaspt',\n 'ndsr04_c_risacc',\n 'ndsr04_c_ricaf',\n 'ndsr04_c_riphyt',\n 'ndsr04_c_rioxal',\n 'ndsr04_c_rimh3',\n 'ndsr04_c_risp',\n 'ndsr04_c_riash',\n 'ndsr04_c_riw',\n 'ndsr04_c_ripctfat',\n 'ndsr04_c_ripctcho',\n 'ndsr04_c_ripctpro',\n 'ndsr04_c_ripctalc',\n 'ndsr04_c_ripctsfa',\n 'ndsr04_c_ripctmfa',\n 'ndsr04_c_ripctpfa',\n 'ndsr04_c_rips',\n 'ndsr04_c_ricsi',\n 'ndsr04_c_rivare',\n 'ndsr04_c_rif181t',\n 'ndsr04_c_rif182t',\n 'ndsr04_c_rif161t',\n 'ndsr04_c_rittfa',\n 'ndsr04_c_riunut1',\n 'ndsr04_c_riunut2',\n 'ndsr04_c_riunut3',\n 'ndsr04_c_riunut4',\n 'ndsr04_c_riunut5',\n 'ndsr04_c_riunut6',\n 'ndsr04_c_riunut7',\n 'ndsr04_c_riunut8',\n 'ndsr04_c_riunut9',\n 'ndsr04_c_riunut10',\n 'ndsr04_c_ribcar',\n 'ndsr04_c_riacar',\n 'ndsr04_c_ribcry',\n 'ndsr04_c_rilz',\n 'ndsr04_c_rilyco',\n 'ndsr04_c_ridfe',\n 'ndsr04_c_rinfol',\n 'ndsr04_c_risfol',\n 'ndsr04_c_riunut11',\n 'ndsr04_c_riunut12',\n 'ndsr04_c_riunut13',\n 'ndsr04_c_riunut14',\n 'ndsr04_c_riunut15',\n 'ndsr04_c_riunut16',\n 'ndsr04_c_riunut17',\n 'ndsr04_c_riunut18',\n 'ndsr04_c_riunut19',\n 'ndsr04_c_riunut20',\n 'ndsr04_c_rivarae',\n 'ndsr04_c_rikj',\n 'ndsr04_c_riniaeq',\n 'ndsr04_c_ritsugar',\n 'ndsr04_c_riomega3',\n 'ndsr04_c_rimn',\n 'ndsr04_c_rivite',\n 'ndsr04_c_rinatatoc',\n 'ndsr04_c_risynatoc',\n 'ndsr04_c_ridaid',\n 'ndsr04_c_rigeni',\n 'ndsr04_c_riglyt',\n 'ndsr04_c_ricoum',\n 'ndsr04_c_ribioa',\n 'ndsr04_c_riformon',\n 'ndsr04_c_riasugar',\n 'ndsr04_c_riacesk',\n 'ndsr04_c_risucl',\n 'ndsr04_c_riacho',\n 'ndsr04_c_rigig',\n 'ndsr04_c_rigib',\n 'ndsr04_c_riglg',\n 'ndsr04_c_riglb',\n 'ndsr04_c_richoline',\n 'ndsr04_c_ribetaine',\n 'ndsr04_c_rieryth',\n 'ndsr04_c_riinos',\n 'ndsr04_c_riisom',\n 'ndsr04_c_rilactl',\n 'ndsr04_c_rimaltitol',\n 'ndsr04_c_rimani',\n 'ndsr04_c_ripini',\n 'ndsr04_c_risorb',\n 'ndsr04_c_rixyli',\n 'ndsr04_c_rinitrogen',\n 'ndsr04_c_ricla_total',\n 'ndsr04_c_ricla_c9t11',\n 'ndsr04_c_ricla_t10c12',\n 'ndsr04_c_ritag',\n 'ndsr04_c_rivd2',\n 'ndsr04_c_rivd3',\n 'ndsr04_c_rias_ts',\n 'ndsr04_c_ritotalgrains',\n 'ndsr04_c_riwholegrains',\n 'ndsr04_c_rirefinedgrains',\n 'ndsr04_c_rip18_3n3',\n 'ndsr04_c_risof',\n 'ndsr04_c_rigluten',\n 'ndsr04_c_setting',\n 'ndsr04_c_mode',\n 'ndsr04_c_version',\n 'ndsr04_c_language',\n 'NDSR04_C_EmanifestSource',\n 'NDSR04_C_AgeInDays',\n 'NDSR04_C_AgeInYears',\n 'VisitName_Ess_CPH_PDS',\n 'xFormDT_Ess_CPH_PDS',\n 'SequenceNum_Ess_CPH_PDS',\n 'respondent_Ess_CPH_PDS',\n 'otherresp_Ess_CPH_PDS',\n 'pds_1_ft',\n 'pds_1_in',\n 'pds_1_cm',\n 'pds_2_lbs',\n 'pds_2_kg',\n 'pds_3',\n 'pds_4',\n 'pds_5',\n 'pds_6a',\n 'pds_7a',\n 'pds_7a1',\n 'pds_8a',\n 'pds_6b',\n 'pds_7b',\n 'pds_8b',\n 'pds_setting',\n 'pds_mode',\n 'pds_version',\n 'pds_language',\n 'PDS_EmanifestSource',\n 'PDS_AgeInDays',\n 'PDS_AgeInYears',\n 'VisitName_Ess_CNP_PPVT3a',\n 'xFormDT_Ess_CNP_PPVT3a',\n 'SequenceNum_Ess_CNP_PPVT3a',\n 'respondent_Ess_CNP_PPVT3a',\n 'otherresp_Ess_CNP_PPVT3a',\n 'xppvt3a_dateofbirth',\n 'xppvt3a_dateoftesting',\n 'ppvt3a_examineeage',\n 'ppvt3a_form',\n 'ppvt3a_raw',\n 'ppvt3a_ss',\n 'ftr_setting_Ess_CNP_PPVT3a',\n 'ftr_mode_Ess_CNP_PPVT3a',\n 'PPVT3a_EmanifestSource',\n 'PPVT3a_GAInDays',\n 'PPVT3a_GAInWks',\n 'PPVT3a_AgeInDays',\n 'PPVT3a_AgeInYears',\n 'VisitName_Ess_CNH_ASQ_18',\n 'xFormDT_Ess_CNH_ASQ_18',\n 'SequenceNum_Ess_CNH_ASQ_18',\n 'respondent_Ess_CNH_ASQ_18',\n 'otherresp_Ess_CNH_ASQ_18',\n 'asq_18_c29a',\n 'asq_18_c17a',\n 'asq_18_c42',\n 'asq_18_c12',\n 'asq_18_c35',\n 'asq_18_c41',\n 'xasq_18_c41_sp',\n 'asq_18_z_ctotal',\n 'asq_18_z_cnum',\n 'asq_18_total_communication',\n 'asq_18_g12a',\n 'asq_18_g3a',\n 'asq_18_g10',\n 'asq_18_g34',\n 'asq_18_g16',\n 'asq_18_g48',\n 'asq_18_z_gtotal',\n 'asq_18_z_gnum',\n 'asq_18_total_grossmotor',\n 'asq_18_f18a',\n 'asq_18_f43a',\n 'asq_18_f33a',\n 'asq_18_f31a',\n 'asq_18_f48',\n 'asq_18_f26',\n 'asq_18_z_ftotal',\n 'asq_18_z_fnum',\n 'asq_18_total_finemotor',\n 'asq_18_p49a',\n 'asq_18_p10a',\n 'asq_18_p11',\n 'asq_18_p22',\n 'asq_18_p12',\n 'asq_18_p27',\n 'asq_18_z_ptotal',\n 'asq_18_z_pnum',\n 'asq_18_total_problemsolving',\n 'asq_18_s43',\n 'asq_18_s24a',\n 'asq_18_s7a',\n 'asq_18_s25',\n 'asq_18_s16',\n 'asq_18_s26',\n 'asq_18_z_stotal',\n 'asq_18_z_snum',\n 'asq_18_total_personal_social',\n 'asq_18_o11',\n 'xasq_18_o11_sp',\n 'asq_18_o9',\n 'xasq_18_o9_sp',\n 'asq_18_o5',\n 'xasq_18_o5_sp',\n 'asq_18_o10',\n 'xasq_18_o10_sp',\n 'asq_18_o2',\n 'xasq_18_o2_sp',\n 'asq_18_o4a',\n 'xasq_18_o4a_sp',\n 'asq_18_o6a',\n 'xasq_18_o6a_sp',\n 'asq_18_o21a',\n 'xasq_18_o21a_sp',\n 'asq_18_o3a',\n 'xasq_18_o3a_sp',\n 'asq_18_setting',\n 'asq_18_mode',\n 'asq_18_version',\n 'asq_18_language',\n 'ASQ_18_EmanifestSource',\n 'ASQ_18_AgeInDays',\n 'ASQ_18_AgeInYears',\n 'VisitName_Ess_CHB_CFSP',\n 'xFormDT_Ess_CHB_CFSP',\n 'SequenceNum_Ess_CHB_CFSP',\n 'respondent_Ess_CHB_CFSP',\n 'otherresp_Ess_CHB_CFSP',\n 'cfsp_01',\n 'cfsp_02',\n 'cfsp_03',\n 'cfsp_04',\n 'cfsp_05',\n 'cfsp_06',\n 'cfsp_07',\n 'cfsp_08',\n 'cfsp_09',\n 'cfsp_10',\n 'cfsp_11',\n 'cfsp_12a',\n 'cfsp_12b',\n 'cfsp_12c',\n 'cfsp_12d',\n 'cfsp_13',\n 'cfsp_14',\n 'cfsp_15',\n 'cfsp_16',\n 'cfsp_17',\n 'cfsp_18',\n 'cfsp_18a___1',\n 'cfsp_18a___2',\n 'cfsp_18a___3',\n 'cfsp_18a___4',\n 'cfsp_18a___5',\n 'cfsp_18a___6',\n 'cfsp_18a___7',\n 'cfsp_18a___8',\n 'cfsp_18a___9',\n 'cfsp_18a___10',\n 'cfsp_18a___11',\n 'cfsp_18a___12',\n 'cfsp_18a___13',\n 'cfsp_18a___14',\n 'cfsp_18a___15',\n 'cfsp_18a___16',\n 'cfsp_18a___17',\n 'cfsp_18a___18',\n 'cfsp_18a___19',\n 'cfsp_18a___20',\n 'cfsp_18a___21',\n 'cfsp_18a___22',\n 'cfsp_18a___23',\n 'cfsp_18a___24',\n 'cfsp_18a___25',\n 'cfsp_18a____8',\n 'xcfsp_18a_sp',\n 'cfsp_19',\n 'cfsp_20',\n 'cfsp_21',\n 'cfsp_setting',\n 'cfsp_mode',\n 'cfsp_version',\n 'cfsp_language',\n 'CFSP_EmanifestSource',\n 'CFSP_AgeInDays',\n 'CFSP_AgeInYears',\n 'VisitName_Rec_RCh_CPrU_PR',\n 'xFormDT_Rec_RCh_CPrU_PR',\n 'SequenceNum_Rec_RCh_CPrU_PR',\n 'respondent_Rec_RCh_CPrU_PR',\n 'otherresp_Rec_RCh_CPrU_PR',\n 'cpru_pr_1',\n 'cpru_pr_2',\n 'cpru_pr_3',\n 'cpru_pr_4',\n 'cpru_pr_5',\n 'cpru_pr_6',\n 'cpru_pr_7',\n 'cpru_pr_8',\n 'cpru_pr_9',\n 'cpru_pr_setting',\n 'cpru_pr_mode',\n 'cpru_pr_version',\n 'cpru_pr_language',\n 'CPrU_PR_EmanifestSource',\n 'CPrU_PR_AgeInDays',\n 'CPrU_PR_AgeInYears',\n 'VisitName_Ess_CNH_ASQ_24',\n 'xFormDT_Ess_CNH_ASQ_24',\n 'SequenceNum_Ess_CNH_ASQ_24',\n 'respondent_Ess_CNH_ASQ_24',\n 'otherresp_Ess_CNH_ASQ_24',\n 'asq_24_c35',\n 'asq_24_c12',\n 'asq_24_c19',\n 'asq_24_c19_sp___1',\n 'asq_24_c19_sp___2',\n 'asq_24_c19_sp___3',\n 'asq_24_c19_sp___4',\n 'asq_24_c19_sp___5',\n 'asq_24_c19_sp___6',\n 'asq_24_c9',\n 'asq_24_c41',\n 'xasq_24_c41_sp',\n 'asq_24_c6',\n 'asq_24_z_ctotal',\n 'asq_24_z_cnum',\n 'asq_24_total_communication',\n 'asq_24_g16',\n 'asq_24_g48',\n 'asq_24_g17a',\n 'asq_24_g36',\n 'asq_24_g25',\n 'asq_24_g28',\n 'asq_24_z_gtotal',\n 'asq_24_z_gnum',\n 'asq_24_total_grossmotor',\n 'asq_24_f26',\n 'asq_24_f48',\n 'asq_24_f4',\n 'asq_24_f42',\n ...]"
     },
     "execution_count": 17,
     "metadata": {},
     "output_type": "execute_result"
    }
   ],
   "source": [
    "batch1.columns.to_list()"
   ],
   "metadata": {
    "collapsed": false,
    "ExecuteTime": {
     "end_time": "2024-05-13T23:23:19.955591Z",
     "start_time": "2024-05-13T23:23:19.932176Z"
    }
   },
   "id": "e0ce2ff67b3f957f"
  },
  {
   "cell_type": "code",
   "execution_count": 35,
   "outputs": [],
   "source": [
    "def get_form_names(columns_list):\n",
    "    forms = []\n",
    "    for item in columns_list: \n",
    "        if 'VisitName' in item: \n",
    "            print(item)\n",
    "            form_name = item.strip('VisitName_')\n",
    "            forms.append(form_name)\n",
    "    return forms\n",
    "    \n"
   ],
   "metadata": {
    "collapsed": false,
    "ExecuteTime": {
     "end_time": "2024-05-13T23:50:40.873228Z",
     "start_time": "2024-05-13T23:50:40.864143Z"
    }
   },
   "id": "47746cbb406fe56"
  },
  {
   "cell_type": "code",
   "execution_count": 40,
   "outputs": [
    {
     "name": "stdout",
     "output_type": "stream",
     "text": [
      "VisitName_Ess_CNH_SDQ_4\n",
      "VisitName_Ess_HSE_HOME_EC\n",
      "VisitName_Rec_RCh_TSR_6_12\n",
      "VisitName_Rec_RCh_SESC_6_12\n",
      "VisitName_Ess_CWB_PGLS5a_A\n",
      "VisitName_Ess_CHB_BLOCK2\n",
      "VisitName_Rec_RCh_NDSR04_C\n",
      "VisitName_Ess_CPH_PDS\n",
      "VisitName_Ess_CNP_PPVT3a\n",
      "VisitName_Ess_CNH_ASQ_18\n",
      "VisitName_Ess_CHB_CFSP\n",
      "VisitName_Rec_RCh_CPrU_PR\n",
      "VisitName_Ess_CNH_ASQ_24\n",
      "VisitName_Ess_SRP_EAC_PR\n",
      "VisitName_Ess_CNH_ASQ_30\n",
      "VisitName_Ess_CNH_SCQ\n",
      "VisitName_Ess_CWB_PLS8b_Ped\n",
      "VisitName_Rec_RCg_CTS\n",
      "VisitName_Ess_HSE_ACE_aPV_A\n",
      "VisitName_Rec_RCh_Caff_PR\n",
      "VisitName_Rec_RCg_PSOC\n",
      "VisitName_Ess_CNH_SB5\n",
      "VisitName_Ess_CNH_RECBQvSF\n",
      "VisitName_Ess_CNH_PPSE4a_Ped\n",
      "VisitName_Ess_Prg_MMRAaG\n",
      "VisitName_Ess_HSE_FES_Coh\n",
      "VisitName_Rec_RCh_C19SSD_cPR\n",
      "VisitName_Ess_CHB_BLOCK3\n",
      "VisitName_Rec_RCg_SRS2CG\n",
      "VisitName_Ess_CHB_PPA8a_PP\n",
      "VisitName_Rec_RCh_NTES_SR\n",
      "VisitName_Ess_CNH_WISC5\n",
      "VisitName_Rec_RCh_CADHD_PR\n",
      "VisitName_Rec_Mat_PUQE\n",
      "VisitName_Ess_SRP_HPAP_CR\n",
      "VisitName_Ess_HSE_HOME_IT\n",
      "VisitName_Rec_RCg_PGLS5a\n",
      "VisitName_Ess_CNP_PGHM2a\n",
      "VisitName_Ess_CNP_PSS14\n",
      "VisitName_Ess_CNH_WASI2\n",
      "VisitName_Ess_CNH_ASQ_33\n",
      "VisitName_Ess_CNH_ASQ_27\n",
      "VisitName_Ess_HSE_ACE_CR\n",
      "VisitName_Rec_RCh_PDS8a_Ped\n",
      "VisitName_Ess_HHx_C19Vac_A\n",
      "VisitName_Ess_HHx_C19_2_pAV\n",
      "VisitName_Rec_RCg_NE_CE_C\n",
      "VisitName_Rec_RCh_PDS4a_ECPR\n",
      "48\n",
      "['Ess_CNH_SDQ_4', 'Ess_HSE_HOME_EC', 'Rec_RCh_TSR_6_12', 'Rec_RCh_SESC_6_12', 'Ess_CWB_PGLS5a_A', 'Ess_CHB_BLOCK2', 'Rec_RCh_NDSR04_C', 'Ess_CPH_PDS', 'Ess_CNP_PPVT3', 'Ess_CNH_ASQ_18', 'Ess_CHB_CFSP', 'Rec_RCh_CPrU_PR', 'Ess_CNH_ASQ_24', 'Ess_SRP_EAC_PR', 'Ess_CNH_ASQ_30', 'Ess_CNH_SCQ', 'Ess_CWB_PLS8b_Ped', 'Rec_RCg_CTS', 'Ess_HSE_ACE_aPV_A', 'Rec_RCh_Caff_PR', 'Rec_RCg_PSOC', 'Ess_CNH_SB5', 'Ess_CNH_RECBQvSF', 'Ess_CNH_PPSE4a_Ped', 'Ess_Prg_MMRAaG', 'Ess_HSE_FES_Coh', 'Rec_RCh_C19SSD_cPR', 'Ess_CHB_BLOCK3', 'Rec_RCg_SRS2CG', 'Ess_CHB_PPA8a_PP', 'Rec_RCh_NTES_SR', 'Ess_CNH_WISC5', 'Rec_RCh_CADHD_PR', 'Rec_Mat_PUQE', 'Ess_SRP_HPAP_CR', 'Ess_HSE_HOME_IT', 'Rec_RCg_PGLS5', 'Ess_CNP_PGHM2', 'Ess_CNP_PSS14', 'Ess_CNH_WASI2', 'Ess_CNH_ASQ_33', 'Ess_CNH_ASQ_27', 'Ess_HSE_ACE_CR', 'Rec_RCh_PDS8a_Ped', 'Ess_HHx_C19Vac_A', 'Ess_HHx_C19_2_pA', 'Rec_RCg_NE_CE_C', 'Rec_RCh_PDS4a_ECPR']\n"
     ]
    }
   ],
   "source": [
    "batch1_forms = get_form_names(batch1.columns.to_list())\n",
    "print(len(batch1_forms))\n",
    "print(batch1_forms)"
   ],
   "metadata": {
    "collapsed": false,
    "ExecuteTime": {
     "end_time": "2024-05-14T00:25:37.733478Z",
     "start_time": "2024-05-14T00:25:37.722100Z"
    }
   },
   "id": "d1df54eb0f904331"
  },
  {
   "cell_type": "code",
   "execution_count": 41,
   "outputs": [
    {
     "data": {
      "text/plain": "True"
     },
     "execution_count": 41,
     "metadata": {},
     "output_type": "execute_result"
    }
   ],
   "source": [
    "'VisitName_Ess_Prg_MMRAaG' in batch1.columns.to_list() #PtReg"
   ],
   "metadata": {
    "collapsed": false,
    "ExecuteTime": {
     "end_time": "2024-05-14T00:25:59.225275Z",
     "start_time": "2024-05-14T00:25:59.215194Z"
    }
   },
   "id": "fad66b0e14084265"
  },
  {
   "cell_type": "code",
   "execution_count": 42,
   "outputs": [],
   "source": [
    "batch1_forms.append('PtReg')"
   ],
   "metadata": {
    "collapsed": false,
    "ExecuteTime": {
     "end_time": "2024-05-14T13:41:02.341288Z",
     "start_time": "2024-05-14T13:41:02.301381Z"
    }
   },
   "id": "7782e92fbe596c34"
  },
  {
   "cell_type": "code",
   "execution_count": 44,
   "outputs": [
    {
     "name": "stdout",
     "output_type": "stream",
     "text": [
      "['Ess_CNH_SDQ_4', 'Ess_HSE_HOME_EC', 'Rec_RCh_TSR_6_12', 'Rec_RCh_SESC_6_12', 'Ess_CWB_PGLS5a_A', 'Ess_CHB_BLOCK2', 'Rec_RCh_NDSR04_C', 'Ess_CPH_PDS', 'Ess_CNP_PPVT3', 'Ess_CNH_ASQ_18', 'Ess_CHB_CFSP', 'Rec_RCh_CPrU_PR', 'Ess_CNH_ASQ_24', 'Ess_SRP_EAC_PR', 'Ess_CNH_ASQ_30', 'Ess_CNH_SCQ', 'Ess_CWB_PLS8b_Ped', 'Rec_RCg_CTS', 'Ess_HSE_ACE_aPV_A', 'Rec_RCh_Caff_PR', 'Rec_RCg_PSOC', 'Ess_CNH_SB5', 'Ess_CNH_RECBQvSF', 'Ess_CNH_PPSE4a_Ped', 'Ess_Prg_MMRAaG', 'Ess_HSE_FES_Coh', 'Rec_RCh_C19SSD_cPR', 'Ess_CHB_BLOCK3', 'Rec_RCg_SRS2CG', 'Ess_CHB_PPA8a_PP', 'Rec_RCh_NTES_SR', 'Ess_CNH_WISC5', 'Rec_RCh_CADHD_PR', 'Rec_Mat_PUQE', 'Ess_SRP_HPAP_CR', 'Ess_HSE_HOME_IT', 'Rec_RCg_PGLS5', 'Ess_CNP_PGHM2', 'Ess_CNP_PSS14', 'Ess_CNH_WASI2', 'Ess_CNH_ASQ_33', 'Ess_CNH_ASQ_27', 'Ess_HSE_ACE_CR', 'Rec_RCh_PDS8a_Ped', 'Ess_HHx_C19Vac_A', 'Ess_HHx_C19_2_pA', 'Rec_RCg_NE_CE_C', 'Rec_RCh_PDS4a_ECPR', 'PtReg']\n"
     ]
    }
   ],
   "source": [
    "print(batch1_forms)"
   ],
   "metadata": {
    "collapsed": false,
    "ExecuteTime": {
     "end_time": "2024-05-14T13:42:10.224692Z",
     "start_time": "2024-05-14T13:42:10.204854Z"
    }
   },
   "id": "fe016e5974629dc2"
  },
  {
   "cell_type": "code",
   "execution_count": 26,
   "outputs": [],
   "source": [
    "batch2 = pd.read_csv('/Users/faith/Desktop/Work/Boston Childrens Hospital/birth-cohort-db/ECHO/data_dump/raw_combined_batches/combined_echo_data_batch_2.csv', low_memory=False)"
   ],
   "metadata": {
    "collapsed": false,
    "ExecuteTime": {
     "end_time": "2024-05-13T23:28:22.906467Z",
     "start_time": "2024-05-13T23:27:31.839479Z"
    }
   },
   "id": "7a72fef68c624bb1"
  },
  {
   "cell_type": "code",
   "execution_count": 27,
   "outputs": [
    {
     "name": "stdout",
     "output_type": "stream",
     "text": [
      "49\n",
      "['Rec_RCh_PDS6a_PP', 'Ess_CWB_PGH8a_ECPR', 'Ess_Prg_MSupp_R', 'Ess_CNH_ASQ_2', 'Ess_CNH_WISC4', 'Ess_CNH_ASQ_6', 'Ess_CSH_PSRI4a_A', 'Ess_CNH_SDQ_2', 'Rec_RCh_NDSR02_C', 'Rec_RCh_MCHATR', 'Ess_CPH_PAI8a_PP', 'Rec_RCh_FES_Con', 'Rec_RCh_ASA_TS', 'Ess_HHx_C19_4_pP', 'Ess_CNH_ASQ_36', 'Ess_CNH_ASQ_22', 'Rec_RCg_NE_CE_P', 'Rec_RCh_HGSW_14_21', 'Rec_RCg_PAnx8', 'Ess_CPH_Air2_Adol', 'Ess_CSH_PSD4a_Ped', 'Ess_CSH_PSRI4a_PP', 'Ess_CNP_PSS10', 'Ess_CSH_SHCA2_SR', 'Ess_CNH_WISC3', 'Ess_CWB_CGB', 'Rec_RCh_SEco_PR', 'Ess_CNP_CRISYS', 'Rec_RCg_FES_Con2', 'Ess_CPH_Air2_MC', 'Ess_CNH_PPSE4a_PP', 'Ess_HSE_CHAOS', 'Ess_Prg_Life_PP', 'Ess_CWB_PLS8b_PP', 'Ess_CNP_ESSI', 'Ess_CPH_Air_MC', 'Ess_CNP_PGHP2', 'Ess_CHB_DSQ_SR2', 'Ess_HHx_MH_BF', 'Ess_CWB_PMP8a_Ped', 'Ess_CNH_ASQ_20', 'Ess_CNP_CESD', 'Rec_RCh_SPIRO', 'Ess_HSE_APQ_P9', 'Rec_RCh_Dent_SR', 'Ess_CPH_DXA', 'Ess_CNP_PInfS4', 'Ess_CPH_CG_CAPE', 'Ess_Dem_GI']\n"
     ]
    }
   ],
   "source": [
    "batch2_forms = get_form_names(batch2.columns.to_list())\n",
    "print(len(batch2_forms))\n",
    "print(batch2_forms)"
   ],
   "metadata": {
    "collapsed": false,
    "ExecuteTime": {
     "end_time": "2024-05-13T23:28:33.122360Z",
     "start_time": "2024-05-13T23:28:33.095552Z"
    }
   },
   "id": "6ac40987c246a6bc"
  },
  {
   "cell_type": "code",
   "execution_count": 45,
   "outputs": [
    {
     "name": "stdout",
     "output_type": "stream",
     "text": [
      "['Rec_RCh_PDS6a_PP', 'Ess_CWB_PGH8a_ECPR', 'Ess_Prg_MSupp_R', 'Ess_CNH_ASQ_2', 'Ess_CNH_WISC4', 'Ess_CNH_ASQ_6', 'Ess_CSH_PSRI4a_A', 'Ess_CNH_SDQ_2', 'Rec_RCh_NDSR02_C', 'Rec_RCh_MCHATR', 'Ess_CPH_PAI8a_PP', 'Rec_RCh_FES_Con', 'Rec_RCh_ASA_TS', 'Ess_HHx_C19_4_pP', 'Ess_CNH_ASQ_36', 'Ess_CNH_ASQ_22', 'Rec_RCg_NE_CE_P', 'Rec_RCh_HGSW_14_21', 'Rec_RCg_PAnx8', 'Ess_CPH_Air2_Adol', 'Ess_CSH_PSD4a_Ped', 'Ess_CSH_PSRI4a_PP', 'Ess_CNP_PSS10', 'Ess_CSH_SHCA2_SR', 'Ess_CNH_WISC3', 'Ess_CWB_CGB', 'Rec_RCh_SEco_PR', 'Ess_CNP_CRISYS', 'Rec_RCg_FES_Con2', 'Ess_CPH_Air2_MC', 'Ess_CNH_PPSE4a_PP', 'Ess_HSE_CHAOS', 'Ess_Prg_Life_PP', 'Ess_CWB_PLS8b_PP', 'Ess_CNP_ESSI', 'Ess_CPH_Air_MC', 'Ess_CNP_PGHP2', 'Ess_CHB_DSQ_SR2', 'Ess_HHx_MH_BF', 'Ess_CWB_PMP8a_Ped', 'Ess_CNH_ASQ_20', 'Ess_CNP_CESD', 'Rec_RCh_SPIRO', 'Ess_HSE_APQ_P9', 'Rec_RCh_Dent_SR', 'Ess_CPH_DXA', 'Ess_CNP_PInfS4', 'Ess_CPH_CG_CAPE', 'Ess_Dem_GI']\n"
     ]
    }
   ],
   "source": [
    "print(batch2_forms)"
   ],
   "metadata": {
    "collapsed": false,
    "ExecuteTime": {
     "end_time": "2024-05-14T13:44:20.326490Z",
     "start_time": "2024-05-14T13:44:20.282492Z"
    }
   },
   "id": "b432641caf613572"
  },
  {
   "cell_type": "code",
   "execution_count": 28,
   "outputs": [
    {
     "name": "stdout",
     "output_type": "stream",
     "text": [
      "50\n",
      "['Rec_RCg_PAng5', 'Ess_Dem_ECE', 'Ess_CNH_ASQ_4', 'Rec_Mat_VS_SI', 'Ess_CNH_BDI2', 'Ess_HHx_C19_aA', 'Ess_CNP_EPDS', 'Ess_CNH_SRS2_Sch_SF', 'Ess_CHB_PPA7a_ECPR', 'Ess_HSE_PFR4a_PP', 'Ess_CNP_WASI2A', 'Rec_RCh_PPAff8a_PP', 'Ess_CWB_PGHP2a_A', 'Ess_BPE_HCExp_PP', 'Ess_CNP_BSI', 'Ess_Prg_MSupp_PI', 'Ess_CNP_PHQ9', 'Ess_HSE_ACE_PR', 'Ess_BPE_HESHS_PI', 'Ess_SRP_HPAP_PR', 'Ess_HHx_C19_2_cP', 'Ess_Dem_Dem_B', 'Ess_CNH_BASC2', 'Ess_CSH_PSD4a_A', 'Ess_HHx_C19_2_aP', 'Ess_Prg_PSQI', 'Ess_CNP_ACE_aA', 'Ess_CPH_CAPE_C', 'Rec_RCh_PAnx8a_Ped', 'Ess_CNP_WEDS_S', 'Ess_Prg_PMCI', 'Ess_CNH_RIBQRvSF', 'Rec_RCh_ASA_TNS', 'Rec_RCh_Ho', 'Ess_Prg_PWtGpSR', 'Ess_Dem_Dem_C', 'Ess_CNH_BASC3', 'Ess_Prg_MSuppSF_R', 'Ess_HHx_C19_3_aP', 'Ess_CWB_PGHM2a_A', 'Ess_CNH_PSS4_A', 'Ess_CNH_NEPSY2', 'Ess_HHx_MH_EC', 'Ess_HSE_APQ_C9', 'Ess_BPE_OExp_PP', 'Rec_RCg_C19_aF', 'Ess_CHB_YRB_SB', 'Rec_RCh_SPIROv2', 'Ess_CHB_YRB_SU', 'Ess_CNH_ASQ_54']\n"
     ]
    }
   ],
   "source": [
    "batch3 = pd.read_csv('/Users/faith/Desktop/Work/Boston Childrens Hospital/birth-cohort-db/ECHO/data_dump/raw_combined_batches/combined_echo_data_batch_3.csv', low_memory=False)\n",
    "batch3_forms = get_form_names(batch3.columns.to_list())\n",
    "print(len(batch3_forms))\n",
    "print(batch3_forms)"
   ],
   "metadata": {
    "collapsed": false,
    "ExecuteTime": {
     "end_time": "2024-05-13T23:33:05.606149Z",
     "start_time": "2024-05-13T23:31:38.760014Z"
    }
   },
   "id": "73873a0831fddb0a"
  },
  {
   "cell_type": "code",
   "execution_count": 29,
   "outputs": [
    {
     "name": "stdout",
     "output_type": "stream",
     "text": [
      "50\n",
      "['Ess_CNH_SDQ_11SR', 'Rec_RCg_C19_CEE2', 'Ess_CNP_PPVT4', 'Ess_Prg_BLOCK4', 'Rec_RCh_SEco_CR', 'Ess_CNH_PSS10_SR', 'Rec_RCg_PMP8', 'Ess_Prg_MFSP', 'Ess_CWB_PGH7_Ped', 'Ess_CNP_ACEBRFSS', 'Rec_RCh_SE_3_5', 'Rec_RCh_WJ3', 'Ess_CPH_Air_Adol', 'Ess_Dem_Dem_CG', 'Ess_Prg_Life_R', 'Ess_CNH_ASQ_42', 'Ess_CSH_SHCA_PR', 'Ess_Prg_DSQ_SR', 'Ess_CNP_PSS4', 'Ess_CNP_LSC', 'Rec_RCh_CMU_PR', 'Rec_RCg_ASR', 'Ess_CNP_WAIS4', 'Ess_BPE_OExp_R', 'Ess_HHx_C19_3_cP', 'Rec_RCh_PAnx8a_PP', 'Ess_ADM_Roster', 'Ess_Dem_CFSM', 'Rec_Mat_SRB_F', 'Ess_CNP_KRIEG', 'Ess_CNH_BRIEF', 'Ess_HHx_MH_MCA', 'Rec_RCh_CKCPT', 'Rec_RCh_SESC_3_5', 'Ess_ADM_WTHD', 'Rec_RCg_EPII_A', 'Ess_Prg_MMRA2', 'Ess_Dem_IAFS_C', 'Ess_CPH_CAPE_I', 'Ess_HSE_APQ_P', 'Ess_CSH_SHCA_SR', 'Ess_CPH_MRA_CAPE', 'Rec_RCh_CMU_SR', 'Rec_RCh_HPBS', 'Ess_CNP_BDI', 'Ess_Dem_CK12E', 'Ess_HHx_C19_2_pP', 'Rec_RCh_AAB', 'Ess_Dem_LA_P', 'Ess_BPE_HESHS_R']\n"
     ]
    }
   ],
   "source": [
    "batch4 = pd.read_csv('/Users/faith/Desktop/Work/Boston Childrens Hospital/birth-cohort-db/ECHO/data_dump/raw_combined_batches/combined_echo_data_batch_4.csv', low_memory=False)\n",
    "batch4_forms = get_form_names(batch4.columns.to_list())\n",
    "print(len(batch4_forms))\n",
    "print(batch4_forms)"
   ],
   "metadata": {
    "collapsed": false,
    "ExecuteTime": {
     "end_time": "2024-05-13T23:36:22.595162Z",
     "start_time": "2024-05-13T23:34:57.514784Z"
    }
   },
   "id": "95f5da33822bc028"
  },
  {
   "cell_type": "code",
   "execution_count": 30,
   "outputs": [
    {
     "name": "stdout",
     "output_type": "stream",
     "text": [
      "50\n",
      "['Rec_RCh_ASA_Total', 'Ess_CNH_BAY3', 'Ess_CNP_CTQ', 'Ess_HSE_PFR8a_Ped', 'Ess_BPE_HCExp_R', 'Ess_CNH_PPVT3', 'Rec_RCh_CFPQ', 'Ess_CNH_WPPSI3', 'Ess_CNH_SRS2_Pr', 'Ess_CNH_DAS2', 'Rec_RCg_NE_S_C', 'Ess_CNH_PSS10_PR', 'Rec_Mat_NDSR04', 'Ess_CNP_PES4', 'Rec_RCg_PSRI4a2', 'Ess_CNH_SRS2_Pre_SF', 'Ess_BPE_HESHS_PP', 'Ess_Prg_MWtHtM', 'Ess_Prg_DHQ2', 'Ess_CNH_ASQ_60', 'Ess_CNH_ASQ_48', 'Ess_Prg_MSupp_PP', 'Ess_BPE_HCExp_PI', 'Ess_CPH_TANST', 'Ess_CPH_CAPE', 'Ess_CNP_LES', 'Ess_Prg_FTND', 'Ess_CNP_LSC12', 'Ess_BPE_HESHS_C', 'Ess_HSE_PFR8a_PP', 'Ess_CSH_PSRI4a_Ped', 'Rec_RCh_CEBQ', 'Ess_Dem_LA_C', 'Rec_RCh_SEco_INF', 'Ess_BPE_HCExp_C', 'Ess_HHx_MH2_BF', 'Rec_RCh_PAnx4a_ECPR', 'Ess_HHx_C19Vac_PR', 'Ess_Prg_PSD4', 'Ess_CNH_WPPSI4', 'Ess_HHx_C19_3_pP', 'Ess_CPH_Air_EC', 'Ess_SRP_NTPPI_PR', 'Ess_HSE_APQ_C', 'Rec_RCg_C19_CEE', 'Ess_Dem_IAFS_P', 'Ess_CNH_PPVT4', 'Ess_CPH_PAI8a_Ped', 'Ess_CNP_PDep8', 'Rec_Mat_NDSR02']\n"
     ]
    }
   ],
   "source": [
    "batch5 = pd.read_csv('/Users/faith/Desktop/Work/Boston Childrens Hospital/birth-cohort-db/ECHO/data_dump/raw_combined_batches/combined_echo_data_batch_5.csv', low_memory=False)\n",
    "batch5_forms = get_form_names(batch5.columns.to_list())\n",
    "print(len(batch5_forms))\n",
    "print(batch5_forms)"
   ],
   "metadata": {
    "collapsed": false,
    "ExecuteTime": {
     "end_time": "2024-05-13T23:39:37.462370Z",
     "start_time": "2024-05-13T23:38:32.074042Z"
    }
   },
   "id": "6065df7b905f1db6"
  },
  {
   "cell_type": "code",
   "execution_count": 31,
   "outputs": [
    {
     "name": "stdout",
     "output_type": "stream",
     "text": [
      "50\n",
      "['Ess_CPH_Air2_EC', 'Ess_CNH_SRS2_Sch', 'Ess_CNH_ASQ_9', 'Ess_Prg_MSHPrg', 'Rec_Mat_PPAQ', 'Ess_CNH_SRS2_A', 'Ess_HHx_C19_2_aA', 'Rec_RCg_CRISYS_SF', 'Ess_CHB_PPA8a_Ped', 'Ess_ADM_REVT_S', 'Ess_CNP_ACE_aP', 'Ess_CWB_PGH7_PP', 'Ess_CHB_DSQ_PR', 'Ess_CNH_ASQ_10', 'Rec_RCh_PPAff4a_ECPR', 'Ess_CNH_MSEL', 'Rec_RCh_Dent_PR', 'Ess_CNP_PInstrS4', 'Ess_CPH_Air2_Inf', 'Ess_Prg_PSRI4', 'Ess_Dem_HHC_C', 'Ess_HHx_C19_cP', 'Ess_CNH_ASQ_8', 'Ess_HHx_HIC', 'Rec_RCg_PSD4a2', 'Ess_CNH_PSS10_A', 'Ess_HHx_CBMRAaJ', 'Ess_HHx_C19_aP', 'Ess_CNH_ASQ_12', 'Ess_Prg_MSuppSF_PP', 'Ess_Prg_Life_PI', 'Ess_CSH_SHCA2_PR', 'Ess_CSH_SHAdult_A', 'Ess_CHB_IFP', 'Ess_CNH_SRS_Pr', 'Ess_HHx_C19_2_cA', 'Rec_RCh_HGSW_8_13', 'Ess_CNH_CBCL_Sch', 'Rec_RCh_CADHD_SR', 'Rec_RCh_TSR_3_5', 'Rec_RCh_PPAff8a_Ped', 'Ess_HHx_C19_4_cP', 'Ess_HHx_CBMRA', 'Ess_HHx_C19Vac', 'Ess_Dem_Occ_Adol', 'Ess_HSE_PFR4a_Ped', 'Ess_HHx_MH_I', 'Rec_RCh_C19SSD_aSR', 'Ess_CNP_PGH', 'Ess_CHB_CFH']\n"
     ]
    }
   ],
   "source": [
    "batch6 = pd.read_csv('/Users/faith/Desktop/Work/Boston Childrens Hospital/birth-cohort-db/ECHO/data_dump/raw_combined_batches/combined_echo_data_batch_6.csv', low_memory=False)\n",
    "batch6_forms = get_form_names(batch6.columns.to_list())\n",
    "print(len(batch6_forms))\n",
    "print(batch6_forms)"
   ],
   "metadata": {
    "collapsed": false,
    "ExecuteTime": {
     "end_time": "2024-05-13T23:40:49.288637Z",
     "start_time": "2024-05-13T23:39:37.477811Z"
    }
   },
   "id": "76f9048cbf4b0fac"
  },
  {
   "cell_type": "code",
   "execution_count": 32,
   "outputs": [
    {
     "name": "stdout",
     "output_type": "stream",
     "text": [
      "40\n",
      "['Rec_RCh_SE_6_12', 'Ess_SRP_PComp6a_A', 'Rec_RCg_SHAdul', 'Ess_Dem_FRS', 'Ess_HSE_PARS', 'Ess_CNH_ASQ_16', 'Rec_RCg_NE_PA_C', 'Ess_CNH_SDQ_11', 'Ess_HHx_NNNS', 'Ess_CSH_SHInf', 'Ess_CSH_PSD4a_PP', 'Ess_SRP_PPR8a_Ped', 'Ess_CNH_BRIEF_2', 'Ess_CPH_Air_Inf', 'Ess_HHx_CBMRA2', 'Ess_CNH_RCBQvSF', 'Ess_Dem_HHC_P', 'Ess_HHx_C19_cPR', 'Ess_Prg_PMCI2', 'Ess_HHx_CBI', 'Ess_CNP_WEDS', 'Ess_CPH_BIOIMP', 'Ess_CNP_WASI', 'Ess_CNH_ASQ_14', 'Rec_RCh_CPrU_SR', 'Rec_RCh_Caff_SR', 'Ess_CHB_BLOCK', 'Ess_CWB_PMP8a_A', 'Ess_CNH_CBCL_Pr', 'Ess_CNP_SF36', 'Ess_CWB_PGH_A', 'Ess_HSE_ACE_aAV_A', 'Ess_Prg_MMRAaK', 'Ess_CPH_PPBP', 'Ess_CNH_SDQ_18SR', 'Ess_HHx_C19_4_aP', 'Ess_Dem_Occ_CG', 'Ess_CNH_BRIEF_P', 'Ess_Prg_MMRA', 'Ess_Prg_TPWtGSR']\n"
     ]
    }
   ],
   "source": [
    "batch7 = pd.read_csv('/Users/faith/Desktop/Work/Boston Childrens Hospital/birth-cohort-db/ECHO/data_dump/raw_combined_batches/combined_echo_data_batch_7.csv', low_memory=False)\n",
    "batch7_forms = get_form_names(batch7.columns.to_list())\n",
    "print(len(batch7_forms))\n",
    "print(batch7_forms)"
   ],
   "metadata": {
    "collapsed": false,
    "ExecuteTime": {
     "end_time": "2024-05-13T23:41:37.243724Z",
     "start_time": "2024-05-13T23:40:49.292186Z"
    }
   },
   "id": "dc0e302ba2d3ef20"
  },
  {
   "cell_type": "code",
   "execution_count": 47,
   "outputs": [],
   "source": [
    "batch_dict = {'Batch 1':batch1_forms, 'Batch 2':batch2_forms, 'Batch 3': batch3_forms, 'Batch 4': batch4_forms, 'Batch 5': batch5_forms, 'Batch 6': batch6_forms, 'Batch 7': batch7_forms}"
   ],
   "metadata": {
    "collapsed": false,
    "ExecuteTime": {
     "end_time": "2024-05-14T13:56:19.779278Z",
     "start_time": "2024-05-14T13:56:19.756817Z"
    }
   },
   "id": "59cdb469589915da"
  },
  {
   "cell_type": "code",
   "execution_count": 49,
   "outputs": [
    {
     "data": {
      "text/plain": "               Batch 1             Batch 2              Batch 3  \\\n0        Ess_CNH_SDQ_4    Rec_RCh_PDS6a_PP        Rec_RCg_PAng5   \n1      Ess_HSE_HOME_EC  Ess_CWB_PGH8a_ECPR          Ess_Dem_ECE   \n2     Rec_RCh_TSR_6_12     Ess_Prg_MSupp_R        Ess_CNH_ASQ_4   \n3    Rec_RCh_SESC_6_12       Ess_CNH_ASQ_2        Rec_Mat_VS_SI   \n4     Ess_CWB_PGLS5a_A       Ess_CNH_WISC4         Ess_CNH_BDI2   \n5       Ess_CHB_BLOCK2       Ess_CNH_ASQ_6       Ess_HHx_C19_aA   \n6     Rec_RCh_NDSR04_C    Ess_CSH_PSRI4a_A         Ess_CNP_EPDS   \n7          Ess_CPH_PDS       Ess_CNH_SDQ_2  Ess_CNH_SRS2_Sch_SF   \n8        Ess_CNP_PPVT3    Rec_RCh_NDSR02_C   Ess_CHB_PPA7a_ECPR   \n9       Ess_CNH_ASQ_18      Rec_RCh_MCHATR     Ess_HSE_PFR4a_PP   \n10        Ess_CHB_CFSP    Ess_CPH_PAI8a_PP       Ess_CNP_WASI2A   \n11     Rec_RCh_CPrU_PR     Rec_RCh_FES_Con   Rec_RCh_PPAff8a_PP   \n12      Ess_CNH_ASQ_24      Rec_RCh_ASA_TS     Ess_CWB_PGHP2a_A   \n13      Ess_SRP_EAC_PR    Ess_HHx_C19_4_pP     Ess_BPE_HCExp_PP   \n14      Ess_CNH_ASQ_30      Ess_CNH_ASQ_36          Ess_CNP_BSI   \n15         Ess_CNH_SCQ      Ess_CNH_ASQ_22     Ess_Prg_MSupp_PI   \n16   Ess_CWB_PLS8b_Ped     Rec_RCg_NE_CE_P         Ess_CNP_PHQ9   \n17         Rec_RCg_CTS  Rec_RCh_HGSW_14_21       Ess_HSE_ACE_PR   \n18   Ess_HSE_ACE_aPV_A       Rec_RCg_PAnx8     Ess_BPE_HESHS_PI   \n19     Rec_RCh_Caff_PR   Ess_CPH_Air2_Adol      Ess_SRP_HPAP_PR   \n20        Rec_RCg_PSOC   Ess_CSH_PSD4a_Ped     Ess_HHx_C19_2_cP   \n21         Ess_CNH_SB5   Ess_CSH_PSRI4a_PP        Ess_Dem_Dem_B   \n22    Ess_CNH_RECBQvSF       Ess_CNP_PSS10        Ess_CNH_BASC2   \n23  Ess_CNH_PPSE4a_Ped    Ess_CSH_SHCA2_SR      Ess_CSH_PSD4a_A   \n24      Ess_Prg_MMRAaG       Ess_CNH_WISC3     Ess_HHx_C19_2_aP   \n25     Ess_HSE_FES_Coh         Ess_CWB_CGB         Ess_Prg_PSQI   \n26  Rec_RCh_C19SSD_cPR     Rec_RCh_SEco_PR       Ess_CNP_ACE_aA   \n27      Ess_CHB_BLOCK3      Ess_CNP_CRISYS       Ess_CPH_CAPE_C   \n28      Rec_RCg_SRS2CG    Rec_RCg_FES_Con2   Rec_RCh_PAnx8a_Ped   \n29    Ess_CHB_PPA8a_PP     Ess_CPH_Air2_MC       Ess_CNP_WEDS_S   \n30     Rec_RCh_NTES_SR   Ess_CNH_PPSE4a_PP         Ess_Prg_PMCI   \n31       Ess_CNH_WISC5       Ess_HSE_CHAOS     Ess_CNH_RIBQRvSF   \n32    Rec_RCh_CADHD_PR     Ess_Prg_Life_PP      Rec_RCh_ASA_TNS   \n33        Rec_Mat_PUQE    Ess_CWB_PLS8b_PP           Rec_RCh_Ho   \n34     Ess_SRP_HPAP_CR        Ess_CNP_ESSI      Ess_Prg_PWtGpSR   \n35     Ess_HSE_HOME_IT      Ess_CPH_Air_MC        Ess_Dem_Dem_C   \n36       Rec_RCg_PGLS5       Ess_CNP_PGHP2        Ess_CNH_BASC3   \n37       Ess_CNP_PGHM2     Ess_CHB_DSQ_SR2    Ess_Prg_MSuppSF_R   \n38       Ess_CNP_PSS14       Ess_HHx_MH_BF     Ess_HHx_C19_3_aP   \n39       Ess_CNH_WASI2   Ess_CWB_PMP8a_Ped     Ess_CWB_PGHM2a_A   \n40      Ess_CNH_ASQ_33      Ess_CNH_ASQ_20       Ess_CNH_PSS4_A   \n41      Ess_CNH_ASQ_27        Ess_CNP_CESD       Ess_CNH_NEPSY2   \n42      Ess_HSE_ACE_CR       Rec_RCh_SPIRO        Ess_HHx_MH_EC   \n43   Rec_RCh_PDS8a_Ped      Ess_HSE_APQ_P9       Ess_HSE_APQ_C9   \n44    Ess_HHx_C19Vac_A     Rec_RCh_Dent_SR      Ess_BPE_OExp_PP   \n45    Ess_HHx_C19_2_pA         Ess_CPH_DXA       Rec_RCg_C19_aF   \n46     Rec_RCg_NE_CE_C      Ess_CNP_PInfS4       Ess_CHB_YRB_SB   \n47  Rec_RCh_PDS4a_ECPR     Ess_CPH_CG_CAPE      Rec_RCh_SPIROv2   \n48               PtReg          Ess_Dem_GI       Ess_CHB_YRB_SU   \n49                 NaN                 NaN       Ess_CNH_ASQ_54   \n\n              Batch 4              Batch 5               Batch 6  \\\n0    Ess_CNH_SDQ_11SR    Rec_RCh_ASA_Total       Ess_CPH_Air2_EC   \n1    Rec_RCg_C19_CEE2         Ess_CNH_BAY3      Ess_CNH_SRS2_Sch   \n2       Ess_CNP_PPVT4          Ess_CNP_CTQ         Ess_CNH_ASQ_9   \n3      Ess_Prg_BLOCK4    Ess_HSE_PFR8a_Ped        Ess_Prg_MSHPrg   \n4     Rec_RCh_SEco_CR      Ess_BPE_HCExp_R          Rec_Mat_PPAQ   \n5    Ess_CNH_PSS10_SR        Ess_CNH_PPVT3        Ess_CNH_SRS2_A   \n6        Rec_RCg_PMP8         Rec_RCh_CFPQ      Ess_HHx_C19_2_aA   \n7        Ess_Prg_MFSP       Ess_CNH_WPPSI3     Rec_RCg_CRISYS_SF   \n8    Ess_CWB_PGH7_Ped      Ess_CNH_SRS2_Pr     Ess_CHB_PPA8a_Ped   \n9    Ess_CNP_ACEBRFSS         Ess_CNH_DAS2        Ess_ADM_REVT_S   \n10     Rec_RCh_SE_3_5       Rec_RCg_NE_S_C        Ess_CNP_ACE_aP   \n11        Rec_RCh_WJ3     Ess_CNH_PSS10_PR       Ess_CWB_PGH7_PP   \n12   Ess_CPH_Air_Adol       Rec_Mat_NDSR04        Ess_CHB_DSQ_PR   \n13     Ess_Dem_Dem_CG         Ess_CNP_PES4        Ess_CNH_ASQ_10   \n14     Ess_Prg_Life_R      Rec_RCg_PSRI4a2  Rec_RCh_PPAff4a_ECPR   \n15     Ess_CNH_ASQ_42  Ess_CNH_SRS2_Pre_SF          Ess_CNH_MSEL   \n16    Ess_CSH_SHCA_PR     Ess_BPE_HESHS_PP       Rec_RCh_Dent_PR   \n17     Ess_Prg_DSQ_SR       Ess_Prg_MWtHtM      Ess_CNP_PInstrS4   \n18       Ess_CNP_PSS4         Ess_Prg_DHQ2      Ess_CPH_Air2_Inf   \n19        Ess_CNP_LSC       Ess_CNH_ASQ_60         Ess_Prg_PSRI4   \n20     Rec_RCh_CMU_PR       Ess_CNH_ASQ_48         Ess_Dem_HHC_C   \n21        Rec_RCg_ASR     Ess_Prg_MSupp_PP        Ess_HHx_C19_cP   \n22      Ess_CNP_WAIS4     Ess_BPE_HCExp_PI         Ess_CNH_ASQ_8   \n23     Ess_BPE_OExp_R        Ess_CPH_TANST           Ess_HHx_HIC   \n24   Ess_HHx_C19_3_cP         Ess_CPH_CAPE        Rec_RCg_PSD4a2   \n25  Rec_RCh_PAnx8a_PP          Ess_CNP_LES       Ess_CNH_PSS10_A   \n26     Ess_ADM_Roster         Ess_Prg_FTND       Ess_HHx_CBMRAaJ   \n27       Ess_Dem_CFSM        Ess_CNP_LSC12        Ess_HHx_C19_aP   \n28      Rec_Mat_SRB_F      Ess_BPE_HESHS_C        Ess_CNH_ASQ_12   \n29      Ess_CNP_KRIEG     Ess_HSE_PFR8a_PP    Ess_Prg_MSuppSF_PP   \n30      Ess_CNH_BRIEF   Ess_CSH_PSRI4a_Ped       Ess_Prg_Life_PI   \n31     Ess_HHx_MH_MCA         Rec_RCh_CEBQ      Ess_CSH_SHCA2_PR   \n32      Rec_RCh_CKCPT         Ess_Dem_LA_C     Ess_CSH_SHAdult_A   \n33   Rec_RCh_SESC_3_5     Rec_RCh_SEco_INF           Ess_CHB_IFP   \n34       Ess_ADM_WTHD      Ess_BPE_HCExp_C        Ess_CNH_SRS_Pr   \n35     Rec_RCg_EPII_A       Ess_HHx_MH2_BF      Ess_HHx_C19_2_cA   \n36      Ess_Prg_MMRA2  Rec_RCh_PAnx4a_ECPR     Rec_RCh_HGSW_8_13   \n37     Ess_Dem_IAFS_C    Ess_HHx_C19Vac_PR      Ess_CNH_CBCL_Sch   \n38     Ess_CPH_CAPE_I         Ess_Prg_PSD4      Rec_RCh_CADHD_SR   \n39      Ess_HSE_APQ_P       Ess_CNH_WPPSI4       Rec_RCh_TSR_3_5   \n40    Ess_CSH_SHCA_SR     Ess_HHx_C19_3_pP   Rec_RCh_PPAff8a_Ped   \n41   Ess_CPH_MRA_CAPE       Ess_CPH_Air_EC      Ess_HHx_C19_4_cP   \n42     Rec_RCh_CMU_SR     Ess_SRP_NTPPI_PR         Ess_HHx_CBMRA   \n43       Rec_RCh_HPBS        Ess_HSE_APQ_C        Ess_HHx_C19Vac   \n44        Ess_CNP_BDI      Rec_RCg_C19_CEE      Ess_Dem_Occ_Adol   \n45      Ess_Dem_CK12E       Ess_Dem_IAFS_P     Ess_HSE_PFR4a_Ped   \n46   Ess_HHx_C19_2_pP        Ess_CNH_PPVT4          Ess_HHx_MH_I   \n47        Rec_RCh_AAB    Ess_CPH_PAI8a_Ped    Rec_RCh_C19SSD_aSR   \n48       Ess_Dem_LA_P        Ess_CNP_PDep8           Ess_CNP_PGH   \n49    Ess_BPE_HESHS_R       Rec_Mat_NDSR02           Ess_CHB_CFH   \n\n              Batch 7  \n0     Rec_RCh_SE_6_12  \n1   Ess_SRP_PComp6a_A  \n2      Rec_RCg_SHAdul  \n3         Ess_Dem_FRS  \n4        Ess_HSE_PARS  \n5      Ess_CNH_ASQ_16  \n6     Rec_RCg_NE_PA_C  \n7      Ess_CNH_SDQ_11  \n8        Ess_HHx_NNNS  \n9       Ess_CSH_SHInf  \n10   Ess_CSH_PSD4a_PP  \n11  Ess_SRP_PPR8a_Ped  \n12    Ess_CNH_BRIEF_2  \n13    Ess_CPH_Air_Inf  \n14     Ess_HHx_CBMRA2  \n15    Ess_CNH_RCBQvSF  \n16      Ess_Dem_HHC_P  \n17    Ess_HHx_C19_cPR  \n18      Ess_Prg_PMCI2  \n19        Ess_HHx_CBI  \n20       Ess_CNP_WEDS  \n21     Ess_CPH_BIOIMP  \n22       Ess_CNP_WASI  \n23     Ess_CNH_ASQ_14  \n24    Rec_RCh_CPrU_SR  \n25    Rec_RCh_Caff_SR  \n26      Ess_CHB_BLOCK  \n27    Ess_CWB_PMP8a_A  \n28    Ess_CNH_CBCL_Pr  \n29       Ess_CNP_SF36  \n30      Ess_CWB_PGH_A  \n31  Ess_HSE_ACE_aAV_A  \n32     Ess_Prg_MMRAaK  \n33       Ess_CPH_PPBP  \n34   Ess_CNH_SDQ_18SR  \n35   Ess_HHx_C19_4_aP  \n36     Ess_Dem_Occ_CG  \n37    Ess_CNH_BRIEF_P  \n38       Ess_Prg_MMRA  \n39    Ess_Prg_TPWtGSR  \n40                NaN  \n41                NaN  \n42                NaN  \n43                NaN  \n44                NaN  \n45                NaN  \n46                NaN  \n47                NaN  \n48                NaN  \n49                NaN  ",
      "text/html": "<div>\n<style scoped>\n    .dataframe tbody tr th:only-of-type {\n        vertical-align: middle;\n    }\n\n    .dataframe tbody tr th {\n        vertical-align: top;\n    }\n\n    .dataframe thead th {\n        text-align: right;\n    }\n</style>\n<table border=\"1\" class=\"dataframe\">\n  <thead>\n    <tr style=\"text-align: right;\">\n      <th></th>\n      <th>Batch 1</th>\n      <th>Batch 2</th>\n      <th>Batch 3</th>\n      <th>Batch 4</th>\n      <th>Batch 5</th>\n      <th>Batch 6</th>\n      <th>Batch 7</th>\n    </tr>\n  </thead>\n  <tbody>\n    <tr>\n      <th>0</th>\n      <td>Ess_CNH_SDQ_4</td>\n      <td>Rec_RCh_PDS6a_PP</td>\n      <td>Rec_RCg_PAng5</td>\n      <td>Ess_CNH_SDQ_11SR</td>\n      <td>Rec_RCh_ASA_Total</td>\n      <td>Ess_CPH_Air2_EC</td>\n      <td>Rec_RCh_SE_6_12</td>\n    </tr>\n    <tr>\n      <th>1</th>\n      <td>Ess_HSE_HOME_EC</td>\n      <td>Ess_CWB_PGH8a_ECPR</td>\n      <td>Ess_Dem_ECE</td>\n      <td>Rec_RCg_C19_CEE2</td>\n      <td>Ess_CNH_BAY3</td>\n      <td>Ess_CNH_SRS2_Sch</td>\n      <td>Ess_SRP_PComp6a_A</td>\n    </tr>\n    <tr>\n      <th>2</th>\n      <td>Rec_RCh_TSR_6_12</td>\n      <td>Ess_Prg_MSupp_R</td>\n      <td>Ess_CNH_ASQ_4</td>\n      <td>Ess_CNP_PPVT4</td>\n      <td>Ess_CNP_CTQ</td>\n      <td>Ess_CNH_ASQ_9</td>\n      <td>Rec_RCg_SHAdul</td>\n    </tr>\n    <tr>\n      <th>3</th>\n      <td>Rec_RCh_SESC_6_12</td>\n      <td>Ess_CNH_ASQ_2</td>\n      <td>Rec_Mat_VS_SI</td>\n      <td>Ess_Prg_BLOCK4</td>\n      <td>Ess_HSE_PFR8a_Ped</td>\n      <td>Ess_Prg_MSHPrg</td>\n      <td>Ess_Dem_FRS</td>\n    </tr>\n    <tr>\n      <th>4</th>\n      <td>Ess_CWB_PGLS5a_A</td>\n      <td>Ess_CNH_WISC4</td>\n      <td>Ess_CNH_BDI2</td>\n      <td>Rec_RCh_SEco_CR</td>\n      <td>Ess_BPE_HCExp_R</td>\n      <td>Rec_Mat_PPAQ</td>\n      <td>Ess_HSE_PARS</td>\n    </tr>\n    <tr>\n      <th>5</th>\n      <td>Ess_CHB_BLOCK2</td>\n      <td>Ess_CNH_ASQ_6</td>\n      <td>Ess_HHx_C19_aA</td>\n      <td>Ess_CNH_PSS10_SR</td>\n      <td>Ess_CNH_PPVT3</td>\n      <td>Ess_CNH_SRS2_A</td>\n      <td>Ess_CNH_ASQ_16</td>\n    </tr>\n    <tr>\n      <th>6</th>\n      <td>Rec_RCh_NDSR04_C</td>\n      <td>Ess_CSH_PSRI4a_A</td>\n      <td>Ess_CNP_EPDS</td>\n      <td>Rec_RCg_PMP8</td>\n      <td>Rec_RCh_CFPQ</td>\n      <td>Ess_HHx_C19_2_aA</td>\n      <td>Rec_RCg_NE_PA_C</td>\n    </tr>\n    <tr>\n      <th>7</th>\n      <td>Ess_CPH_PDS</td>\n      <td>Ess_CNH_SDQ_2</td>\n      <td>Ess_CNH_SRS2_Sch_SF</td>\n      <td>Ess_Prg_MFSP</td>\n      <td>Ess_CNH_WPPSI3</td>\n      <td>Rec_RCg_CRISYS_SF</td>\n      <td>Ess_CNH_SDQ_11</td>\n    </tr>\n    <tr>\n      <th>8</th>\n      <td>Ess_CNP_PPVT3</td>\n      <td>Rec_RCh_NDSR02_C</td>\n      <td>Ess_CHB_PPA7a_ECPR</td>\n      <td>Ess_CWB_PGH7_Ped</td>\n      <td>Ess_CNH_SRS2_Pr</td>\n      <td>Ess_CHB_PPA8a_Ped</td>\n      <td>Ess_HHx_NNNS</td>\n    </tr>\n    <tr>\n      <th>9</th>\n      <td>Ess_CNH_ASQ_18</td>\n      <td>Rec_RCh_MCHATR</td>\n      <td>Ess_HSE_PFR4a_PP</td>\n      <td>Ess_CNP_ACEBRFSS</td>\n      <td>Ess_CNH_DAS2</td>\n      <td>Ess_ADM_REVT_S</td>\n      <td>Ess_CSH_SHInf</td>\n    </tr>\n    <tr>\n      <th>10</th>\n      <td>Ess_CHB_CFSP</td>\n      <td>Ess_CPH_PAI8a_PP</td>\n      <td>Ess_CNP_WASI2A</td>\n      <td>Rec_RCh_SE_3_5</td>\n      <td>Rec_RCg_NE_S_C</td>\n      <td>Ess_CNP_ACE_aP</td>\n      <td>Ess_CSH_PSD4a_PP</td>\n    </tr>\n    <tr>\n      <th>11</th>\n      <td>Rec_RCh_CPrU_PR</td>\n      <td>Rec_RCh_FES_Con</td>\n      <td>Rec_RCh_PPAff8a_PP</td>\n      <td>Rec_RCh_WJ3</td>\n      <td>Ess_CNH_PSS10_PR</td>\n      <td>Ess_CWB_PGH7_PP</td>\n      <td>Ess_SRP_PPR8a_Ped</td>\n    </tr>\n    <tr>\n      <th>12</th>\n      <td>Ess_CNH_ASQ_24</td>\n      <td>Rec_RCh_ASA_TS</td>\n      <td>Ess_CWB_PGHP2a_A</td>\n      <td>Ess_CPH_Air_Adol</td>\n      <td>Rec_Mat_NDSR04</td>\n      <td>Ess_CHB_DSQ_PR</td>\n      <td>Ess_CNH_BRIEF_2</td>\n    </tr>\n    <tr>\n      <th>13</th>\n      <td>Ess_SRP_EAC_PR</td>\n      <td>Ess_HHx_C19_4_pP</td>\n      <td>Ess_BPE_HCExp_PP</td>\n      <td>Ess_Dem_Dem_CG</td>\n      <td>Ess_CNP_PES4</td>\n      <td>Ess_CNH_ASQ_10</td>\n      <td>Ess_CPH_Air_Inf</td>\n    </tr>\n    <tr>\n      <th>14</th>\n      <td>Ess_CNH_ASQ_30</td>\n      <td>Ess_CNH_ASQ_36</td>\n      <td>Ess_CNP_BSI</td>\n      <td>Ess_Prg_Life_R</td>\n      <td>Rec_RCg_PSRI4a2</td>\n      <td>Rec_RCh_PPAff4a_ECPR</td>\n      <td>Ess_HHx_CBMRA2</td>\n    </tr>\n    <tr>\n      <th>15</th>\n      <td>Ess_CNH_SCQ</td>\n      <td>Ess_CNH_ASQ_22</td>\n      <td>Ess_Prg_MSupp_PI</td>\n      <td>Ess_CNH_ASQ_42</td>\n      <td>Ess_CNH_SRS2_Pre_SF</td>\n      <td>Ess_CNH_MSEL</td>\n      <td>Ess_CNH_RCBQvSF</td>\n    </tr>\n    <tr>\n      <th>16</th>\n      <td>Ess_CWB_PLS8b_Ped</td>\n      <td>Rec_RCg_NE_CE_P</td>\n      <td>Ess_CNP_PHQ9</td>\n      <td>Ess_CSH_SHCA_PR</td>\n      <td>Ess_BPE_HESHS_PP</td>\n      <td>Rec_RCh_Dent_PR</td>\n      <td>Ess_Dem_HHC_P</td>\n    </tr>\n    <tr>\n      <th>17</th>\n      <td>Rec_RCg_CTS</td>\n      <td>Rec_RCh_HGSW_14_21</td>\n      <td>Ess_HSE_ACE_PR</td>\n      <td>Ess_Prg_DSQ_SR</td>\n      <td>Ess_Prg_MWtHtM</td>\n      <td>Ess_CNP_PInstrS4</td>\n      <td>Ess_HHx_C19_cPR</td>\n    </tr>\n    <tr>\n      <th>18</th>\n      <td>Ess_HSE_ACE_aPV_A</td>\n      <td>Rec_RCg_PAnx8</td>\n      <td>Ess_BPE_HESHS_PI</td>\n      <td>Ess_CNP_PSS4</td>\n      <td>Ess_Prg_DHQ2</td>\n      <td>Ess_CPH_Air2_Inf</td>\n      <td>Ess_Prg_PMCI2</td>\n    </tr>\n    <tr>\n      <th>19</th>\n      <td>Rec_RCh_Caff_PR</td>\n      <td>Ess_CPH_Air2_Adol</td>\n      <td>Ess_SRP_HPAP_PR</td>\n      <td>Ess_CNP_LSC</td>\n      <td>Ess_CNH_ASQ_60</td>\n      <td>Ess_Prg_PSRI4</td>\n      <td>Ess_HHx_CBI</td>\n    </tr>\n    <tr>\n      <th>20</th>\n      <td>Rec_RCg_PSOC</td>\n      <td>Ess_CSH_PSD4a_Ped</td>\n      <td>Ess_HHx_C19_2_cP</td>\n      <td>Rec_RCh_CMU_PR</td>\n      <td>Ess_CNH_ASQ_48</td>\n      <td>Ess_Dem_HHC_C</td>\n      <td>Ess_CNP_WEDS</td>\n    </tr>\n    <tr>\n      <th>21</th>\n      <td>Ess_CNH_SB5</td>\n      <td>Ess_CSH_PSRI4a_PP</td>\n      <td>Ess_Dem_Dem_B</td>\n      <td>Rec_RCg_ASR</td>\n      <td>Ess_Prg_MSupp_PP</td>\n      <td>Ess_HHx_C19_cP</td>\n      <td>Ess_CPH_BIOIMP</td>\n    </tr>\n    <tr>\n      <th>22</th>\n      <td>Ess_CNH_RECBQvSF</td>\n      <td>Ess_CNP_PSS10</td>\n      <td>Ess_CNH_BASC2</td>\n      <td>Ess_CNP_WAIS4</td>\n      <td>Ess_BPE_HCExp_PI</td>\n      <td>Ess_CNH_ASQ_8</td>\n      <td>Ess_CNP_WASI</td>\n    </tr>\n    <tr>\n      <th>23</th>\n      <td>Ess_CNH_PPSE4a_Ped</td>\n      <td>Ess_CSH_SHCA2_SR</td>\n      <td>Ess_CSH_PSD4a_A</td>\n      <td>Ess_BPE_OExp_R</td>\n      <td>Ess_CPH_TANST</td>\n      <td>Ess_HHx_HIC</td>\n      <td>Ess_CNH_ASQ_14</td>\n    </tr>\n    <tr>\n      <th>24</th>\n      <td>Ess_Prg_MMRAaG</td>\n      <td>Ess_CNH_WISC3</td>\n      <td>Ess_HHx_C19_2_aP</td>\n      <td>Ess_HHx_C19_3_cP</td>\n      <td>Ess_CPH_CAPE</td>\n      <td>Rec_RCg_PSD4a2</td>\n      <td>Rec_RCh_CPrU_SR</td>\n    </tr>\n    <tr>\n      <th>25</th>\n      <td>Ess_HSE_FES_Coh</td>\n      <td>Ess_CWB_CGB</td>\n      <td>Ess_Prg_PSQI</td>\n      <td>Rec_RCh_PAnx8a_PP</td>\n      <td>Ess_CNP_LES</td>\n      <td>Ess_CNH_PSS10_A</td>\n      <td>Rec_RCh_Caff_SR</td>\n    </tr>\n    <tr>\n      <th>26</th>\n      <td>Rec_RCh_C19SSD_cPR</td>\n      <td>Rec_RCh_SEco_PR</td>\n      <td>Ess_CNP_ACE_aA</td>\n      <td>Ess_ADM_Roster</td>\n      <td>Ess_Prg_FTND</td>\n      <td>Ess_HHx_CBMRAaJ</td>\n      <td>Ess_CHB_BLOCK</td>\n    </tr>\n    <tr>\n      <th>27</th>\n      <td>Ess_CHB_BLOCK3</td>\n      <td>Ess_CNP_CRISYS</td>\n      <td>Ess_CPH_CAPE_C</td>\n      <td>Ess_Dem_CFSM</td>\n      <td>Ess_CNP_LSC12</td>\n      <td>Ess_HHx_C19_aP</td>\n      <td>Ess_CWB_PMP8a_A</td>\n    </tr>\n    <tr>\n      <th>28</th>\n      <td>Rec_RCg_SRS2CG</td>\n      <td>Rec_RCg_FES_Con2</td>\n      <td>Rec_RCh_PAnx8a_Ped</td>\n      <td>Rec_Mat_SRB_F</td>\n      <td>Ess_BPE_HESHS_C</td>\n      <td>Ess_CNH_ASQ_12</td>\n      <td>Ess_CNH_CBCL_Pr</td>\n    </tr>\n    <tr>\n      <th>29</th>\n      <td>Ess_CHB_PPA8a_PP</td>\n      <td>Ess_CPH_Air2_MC</td>\n      <td>Ess_CNP_WEDS_S</td>\n      <td>Ess_CNP_KRIEG</td>\n      <td>Ess_HSE_PFR8a_PP</td>\n      <td>Ess_Prg_MSuppSF_PP</td>\n      <td>Ess_CNP_SF36</td>\n    </tr>\n    <tr>\n      <th>30</th>\n      <td>Rec_RCh_NTES_SR</td>\n      <td>Ess_CNH_PPSE4a_PP</td>\n      <td>Ess_Prg_PMCI</td>\n      <td>Ess_CNH_BRIEF</td>\n      <td>Ess_CSH_PSRI4a_Ped</td>\n      <td>Ess_Prg_Life_PI</td>\n      <td>Ess_CWB_PGH_A</td>\n    </tr>\n    <tr>\n      <th>31</th>\n      <td>Ess_CNH_WISC5</td>\n      <td>Ess_HSE_CHAOS</td>\n      <td>Ess_CNH_RIBQRvSF</td>\n      <td>Ess_HHx_MH_MCA</td>\n      <td>Rec_RCh_CEBQ</td>\n      <td>Ess_CSH_SHCA2_PR</td>\n      <td>Ess_HSE_ACE_aAV_A</td>\n    </tr>\n    <tr>\n      <th>32</th>\n      <td>Rec_RCh_CADHD_PR</td>\n      <td>Ess_Prg_Life_PP</td>\n      <td>Rec_RCh_ASA_TNS</td>\n      <td>Rec_RCh_CKCPT</td>\n      <td>Ess_Dem_LA_C</td>\n      <td>Ess_CSH_SHAdult_A</td>\n      <td>Ess_Prg_MMRAaK</td>\n    </tr>\n    <tr>\n      <th>33</th>\n      <td>Rec_Mat_PUQE</td>\n      <td>Ess_CWB_PLS8b_PP</td>\n      <td>Rec_RCh_Ho</td>\n      <td>Rec_RCh_SESC_3_5</td>\n      <td>Rec_RCh_SEco_INF</td>\n      <td>Ess_CHB_IFP</td>\n      <td>Ess_CPH_PPBP</td>\n    </tr>\n    <tr>\n      <th>34</th>\n      <td>Ess_SRP_HPAP_CR</td>\n      <td>Ess_CNP_ESSI</td>\n      <td>Ess_Prg_PWtGpSR</td>\n      <td>Ess_ADM_WTHD</td>\n      <td>Ess_BPE_HCExp_C</td>\n      <td>Ess_CNH_SRS_Pr</td>\n      <td>Ess_CNH_SDQ_18SR</td>\n    </tr>\n    <tr>\n      <th>35</th>\n      <td>Ess_HSE_HOME_IT</td>\n      <td>Ess_CPH_Air_MC</td>\n      <td>Ess_Dem_Dem_C</td>\n      <td>Rec_RCg_EPII_A</td>\n      <td>Ess_HHx_MH2_BF</td>\n      <td>Ess_HHx_C19_2_cA</td>\n      <td>Ess_HHx_C19_4_aP</td>\n    </tr>\n    <tr>\n      <th>36</th>\n      <td>Rec_RCg_PGLS5</td>\n      <td>Ess_CNP_PGHP2</td>\n      <td>Ess_CNH_BASC3</td>\n      <td>Ess_Prg_MMRA2</td>\n      <td>Rec_RCh_PAnx4a_ECPR</td>\n      <td>Rec_RCh_HGSW_8_13</td>\n      <td>Ess_Dem_Occ_CG</td>\n    </tr>\n    <tr>\n      <th>37</th>\n      <td>Ess_CNP_PGHM2</td>\n      <td>Ess_CHB_DSQ_SR2</td>\n      <td>Ess_Prg_MSuppSF_R</td>\n      <td>Ess_Dem_IAFS_C</td>\n      <td>Ess_HHx_C19Vac_PR</td>\n      <td>Ess_CNH_CBCL_Sch</td>\n      <td>Ess_CNH_BRIEF_P</td>\n    </tr>\n    <tr>\n      <th>38</th>\n      <td>Ess_CNP_PSS14</td>\n      <td>Ess_HHx_MH_BF</td>\n      <td>Ess_HHx_C19_3_aP</td>\n      <td>Ess_CPH_CAPE_I</td>\n      <td>Ess_Prg_PSD4</td>\n      <td>Rec_RCh_CADHD_SR</td>\n      <td>Ess_Prg_MMRA</td>\n    </tr>\n    <tr>\n      <th>39</th>\n      <td>Ess_CNH_WASI2</td>\n      <td>Ess_CWB_PMP8a_Ped</td>\n      <td>Ess_CWB_PGHM2a_A</td>\n      <td>Ess_HSE_APQ_P</td>\n      <td>Ess_CNH_WPPSI4</td>\n      <td>Rec_RCh_TSR_3_5</td>\n      <td>Ess_Prg_TPWtGSR</td>\n    </tr>\n    <tr>\n      <th>40</th>\n      <td>Ess_CNH_ASQ_33</td>\n      <td>Ess_CNH_ASQ_20</td>\n      <td>Ess_CNH_PSS4_A</td>\n      <td>Ess_CSH_SHCA_SR</td>\n      <td>Ess_HHx_C19_3_pP</td>\n      <td>Rec_RCh_PPAff8a_Ped</td>\n      <td>NaN</td>\n    </tr>\n    <tr>\n      <th>41</th>\n      <td>Ess_CNH_ASQ_27</td>\n      <td>Ess_CNP_CESD</td>\n      <td>Ess_CNH_NEPSY2</td>\n      <td>Ess_CPH_MRA_CAPE</td>\n      <td>Ess_CPH_Air_EC</td>\n      <td>Ess_HHx_C19_4_cP</td>\n      <td>NaN</td>\n    </tr>\n    <tr>\n      <th>42</th>\n      <td>Ess_HSE_ACE_CR</td>\n      <td>Rec_RCh_SPIRO</td>\n      <td>Ess_HHx_MH_EC</td>\n      <td>Rec_RCh_CMU_SR</td>\n      <td>Ess_SRP_NTPPI_PR</td>\n      <td>Ess_HHx_CBMRA</td>\n      <td>NaN</td>\n    </tr>\n    <tr>\n      <th>43</th>\n      <td>Rec_RCh_PDS8a_Ped</td>\n      <td>Ess_HSE_APQ_P9</td>\n      <td>Ess_HSE_APQ_C9</td>\n      <td>Rec_RCh_HPBS</td>\n      <td>Ess_HSE_APQ_C</td>\n      <td>Ess_HHx_C19Vac</td>\n      <td>NaN</td>\n    </tr>\n    <tr>\n      <th>44</th>\n      <td>Ess_HHx_C19Vac_A</td>\n      <td>Rec_RCh_Dent_SR</td>\n      <td>Ess_BPE_OExp_PP</td>\n      <td>Ess_CNP_BDI</td>\n      <td>Rec_RCg_C19_CEE</td>\n      <td>Ess_Dem_Occ_Adol</td>\n      <td>NaN</td>\n    </tr>\n    <tr>\n      <th>45</th>\n      <td>Ess_HHx_C19_2_pA</td>\n      <td>Ess_CPH_DXA</td>\n      <td>Rec_RCg_C19_aF</td>\n      <td>Ess_Dem_CK12E</td>\n      <td>Ess_Dem_IAFS_P</td>\n      <td>Ess_HSE_PFR4a_Ped</td>\n      <td>NaN</td>\n    </tr>\n    <tr>\n      <th>46</th>\n      <td>Rec_RCg_NE_CE_C</td>\n      <td>Ess_CNP_PInfS4</td>\n      <td>Ess_CHB_YRB_SB</td>\n      <td>Ess_HHx_C19_2_pP</td>\n      <td>Ess_CNH_PPVT4</td>\n      <td>Ess_HHx_MH_I</td>\n      <td>NaN</td>\n    </tr>\n    <tr>\n      <th>47</th>\n      <td>Rec_RCh_PDS4a_ECPR</td>\n      <td>Ess_CPH_CG_CAPE</td>\n      <td>Rec_RCh_SPIROv2</td>\n      <td>Rec_RCh_AAB</td>\n      <td>Ess_CPH_PAI8a_Ped</td>\n      <td>Rec_RCh_C19SSD_aSR</td>\n      <td>NaN</td>\n    </tr>\n    <tr>\n      <th>48</th>\n      <td>PtReg</td>\n      <td>Ess_Dem_GI</td>\n      <td>Ess_CHB_YRB_SU</td>\n      <td>Ess_Dem_LA_P</td>\n      <td>Ess_CNP_PDep8</td>\n      <td>Ess_CNP_PGH</td>\n      <td>NaN</td>\n    </tr>\n    <tr>\n      <th>49</th>\n      <td>NaN</td>\n      <td>NaN</td>\n      <td>Ess_CNH_ASQ_54</td>\n      <td>Ess_BPE_HESHS_R</td>\n      <td>Rec_Mat_NDSR02</td>\n      <td>Ess_CHB_CFH</td>\n      <td>NaN</td>\n    </tr>\n  </tbody>\n</table>\n</div>"
     },
     "execution_count": 49,
     "metadata": {},
     "output_type": "execute_result"
    }
   ],
   "source": [
    "batches_df = pd.DataFrame(dict([(k, pd.Series(v)) for k, v in batch_dict.items()]))\n",
    "batches_df"
   ],
   "metadata": {
    "collapsed": false,
    "ExecuteTime": {
     "end_time": "2024-05-14T13:59:16.076974Z",
     "start_time": "2024-05-14T13:59:15.732152Z"
    }
   },
   "id": "f293175042d148b1"
  },
  {
   "cell_type": "markdown",
   "source": [
    "# Data from Maternal and Nutrition Paper\n",
    "https://www.sciencedirect.com/science/article/pii/S2475299123266032?via%3Dihub#kwrds0015"
   ],
   "metadata": {
    "collapsed": false
   },
   "id": "482226782668e408"
  },
  {
   "cell_type": "code",
   "execution_count": 22,
   "outputs": [],
   "source": [
    "forms_list = ['Rec_RCh_ASA_TNS', 'Rec_RCh_ASA_Totals', 'Rec_RCh_ASA_TS', 'Ess_Prg_DHQ3', 'Ess_CHB_BLOCK', 'Ess_CHB_BLOCK2','Ess_CHB_BLOCK3', 'Ess_Prg_DSQ_SR', 'Ess_CHB_DSQ_SR2', 'Ess_CHB_DSQ_PR', 'Ess_Prg_MFSP', 'Ess_CHB_CFSP', 'Ess_CHB_IFP', 'Ess_CHB_CFH', 'Ess_Prg_MMRA', 'Ess_Prg_MMRA2', 'Ess_Prg_MMRAaG', 'Ess_Prg_MSupp_PP', 'Ess_Prg_MSupp_PI', 'Ess_Prg_MSupp_R', 'Ess_Prg_MSuppSF_PP', 'Ess_Prg_MSuppSF_PI', 'Ess_Prg_MSuppSF_R']"
   ],
   "metadata": {
    "collapsed": false,
    "ExecuteTime": {
     "end_time": "2024-05-19T22:20:25.903366Z",
     "start_time": "2024-05-19T22:20:25.886243Z"
    }
   },
   "id": "20db4d04c19d8fd8"
  },
  {
   "cell_type": "code",
   "execution_count": 23,
   "outputs": [
    {
     "name": "stdout",
     "output_type": "stream",
     "text": [
      "23\n"
     ]
    }
   ],
   "source": [
    "print(len(forms_list))"
   ],
   "metadata": {
    "collapsed": false,
    "ExecuteTime": {
     "end_time": "2024-05-19T22:20:38.089201Z",
     "start_time": "2024-05-19T22:20:38.067301Z"
    }
   },
   "id": "f69ec4e7bc674cbe"
  },
  {
   "cell_type": "code",
   "execution_count": 24,
   "outputs": [
    {
     "name": "stdout",
     "output_type": "stream",
     "text": [
      "['Rec_RCh_ASA_TNS.csv', 'Rec_RCh_ASA_Totals.csv', 'Rec_RCh_ASA_TS.csv', 'Ess_Prg_DHQ3.csv', 'Ess_CHB_BLOCK.csv', 'Ess_CHB_BLOCK2.csv', 'Ess_CHB_BLOCK3.csv', 'Ess_Prg_DSQ_SR.csv', 'Ess_CHB_DSQ_SR2.csv', 'Ess_CHB_DSQ_PR.csv', 'Ess_Prg_MFSP.csv', 'Ess_CHB_CFSP.csv', 'Ess_CHB_IFP.csv', 'Ess_CHB_CFH.csv', 'Ess_Prg_MMRA.csv', 'Ess_Prg_MMRA2.csv', 'Ess_Prg_MMRAaG.csv', 'Ess_Prg_MSupp_PP.csv', 'Ess_Prg_MSupp_PI.csv', 'Ess_Prg_MSupp_R.csv', 'Ess_Prg_MSuppSF_PP.csv', 'Ess_Prg_MSuppSF_PI.csv', 'Ess_Prg_MSuppSF_R.csv']\n"
     ]
    }
   ],
   "source": [
    "# Get a list of form csv files\n",
    "specific_form_files = [form + '.csv' for form in forms_list]\n",
    "print(specific_form_files)"
   ],
   "metadata": {
    "collapsed": false,
    "ExecuteTime": {
     "end_time": "2024-05-19T22:21:23.058354Z",
     "start_time": "2024-05-19T22:21:23.043214Z"
    }
   },
   "id": "ad4600bd6f4503d8"
  },
  {
   "cell_type": "code",
   "execution_count": 39,
   "outputs": [],
   "source": [
    "# Set directories with the forms \n",
    "forms_directory = '/Users/faith/Desktop/Work/Boston Childrens Hospital/birth-cohort-db/ECHO/data_dump/Data_CSVDownloaded/02_forms'\n",
    "PtReg ='/Users/faith/Desktop/Work/Boston Childrens Hospital/birth-cohort-db/ECHO/data_dump/Data_CSVDownloaded/01_research/ptReg.csv'"
   ],
   "metadata": {
    "collapsed": false,
    "ExecuteTime": {
     "end_time": "2024-05-20T00:09:50.540144Z",
     "start_time": "2024-05-20T00:09:50.522472Z"
    }
   },
   "id": "eb9108f20643e024"
  },
  {
   "cell_type": "code",
   "execution_count": 40,
   "outputs": [
    {
     "data": {
      "text/plain": "21"
     },
     "execution_count": 40,
     "metadata": {},
     "output_type": "execute_result"
    }
   ],
   "source": [
    "specific_form_file_paths = [os.path.join(forms_directory, file) for file in os.listdir(forms_directory) if file.endswith('.csv') and file in specific_form_files]\n",
    "len(specific_form_file_paths)"
   ],
   "metadata": {
    "collapsed": false,
    "ExecuteTime": {
     "end_time": "2024-05-20T00:09:53.639232Z",
     "start_time": "2024-05-20T00:09:53.623114Z"
    }
   },
   "id": "3b1888b5398df2"
  },
  {
   "cell_type": "code",
   "execution_count": 41,
   "outputs": [
    {
     "data": {
      "text/plain": "22"
     },
     "execution_count": 41,
     "metadata": {},
     "output_type": "execute_result"
    }
   ],
   "source": [
    "# Add pt_reg file to specific forms files as first file\n",
    "specific_form_file_paths.insert(0, PtReg)\n",
    "len(specific_form_file_paths)"
   ],
   "metadata": {
    "collapsed": false,
    "ExecuteTime": {
     "end_time": "2024-05-20T00:10:04.796033Z",
     "start_time": "2024-05-20T00:10:04.771467Z"
    }
   },
   "id": "ec5eb376a9e5deef"
  },
  {
   "cell_type": "code",
   "execution_count": 42,
   "outputs": [
    {
     "name": "stderr",
     "output_type": "stream",
     "text": [
      "2024-05-19 20:10:13,253 - Reading /Users/faith/Desktop/Work/Boston Childrens Hospital/birth-cohort-db/ECHO/data_dump/Data_CSVDownloaded/01_research/ptReg.csv - ('_/Ess_Prg_MMRA', '_/Users/faith/Desktop/Work/Boston Childrens Hospital/birth-cohort-db/ECHO/data_dump/Data_CSVDownloaded/01_research/ptReg')\n",
      "2024-05-19 20:10:13,254 - Files processed: 1\n",
      "2024-05-19 20:10:13,377 - Reading /Users/faith/Desktop/Work/Boston Childrens Hospital/birth-cohort-db/ECHO/data_dump/Data_CSVDownloaded/02_forms/Ess_CHB_BLOCK2.csv - ('_/Users/faith/Desktop/Work/Boston Childrens Hospital/birth-cohort-db/ECHO/data_dump/Data_CSVDownloaded/01_research/ptReg', '_/Ess_CHB_BLOCK2')\n",
      "2024-05-19 20:10:47,261 - Files processed: 2\n",
      "2024-05-19 20:10:47,371 - Reading /Users/faith/Desktop/Work/Boston Childrens Hospital/birth-cohort-db/ECHO/data_dump/Data_CSVDownloaded/02_forms/Ess_CHB_CFSP.csv - ('_/Ess_CHB_BLOCK2', '_/Ess_CHB_CFSP')\n",
      "2024-05-19 20:12:01,980 - Files processed: 3\n",
      "2024-05-19 20:12:02,001 - Reading /Users/faith/Desktop/Work/Boston Childrens Hospital/birth-cohort-db/ECHO/data_dump/Data_CSVDownloaded/02_forms/Ess_Prg_MMRAaG.csv - ('_/Ess_CHB_CFSP', '_/Ess_Prg_MMRAaG')\n",
      "2024-05-19 20:12:03,295 - Files processed: 4\n",
      "2024-05-19 20:12:03,322 - Reading /Users/faith/Desktop/Work/Boston Childrens Hospital/birth-cohort-db/ECHO/data_dump/Data_CSVDownloaded/02_forms/Ess_CHB_BLOCK3.csv - ('_/Ess_Prg_MMRAaG', '_/Ess_CHB_BLOCK3')\n",
      "2024-05-19 20:12:09,021 - Files processed: 5\n",
      "2024-05-19 20:12:09,352 - Reading /Users/faith/Desktop/Work/Boston Childrens Hospital/birth-cohort-db/ECHO/data_dump/Data_CSVDownloaded/02_forms/Ess_Prg_MSupp_R.csv - ('_/Ess_CHB_BLOCK3', '_/Ess_Prg_MSupp_R')\n",
      "2024-05-19 20:15:45,748 - Files processed: 6\n",
      "2024-05-19 20:15:45,810 - Reading /Users/faith/Desktop/Work/Boston Childrens Hospital/birth-cohort-db/ECHO/data_dump/Data_CSVDownloaded/02_forms/Rec_RCh_ASA_TS.csv - ('_/Ess_Prg_MSupp_R', '_/Rec_RCh_ASA_TS')\n",
      "2024-05-19 20:15:55,390 - Files processed: 7\n",
      "2024-05-19 20:15:55,410 - Reading /Users/faith/Desktop/Work/Boston Childrens Hospital/birth-cohort-db/ECHO/data_dump/Data_CSVDownloaded/02_forms/Ess_CHB_DSQ_SR2.csv - ('_/Rec_RCh_ASA_TS', '_/Ess_CHB_DSQ_SR2')\n",
      "2024-05-19 20:16:02,587 - Files processed: 8\n",
      "2024-05-19 20:16:02,638 - Reading /Users/faith/Desktop/Work/Boston Childrens Hospital/birth-cohort-db/ECHO/data_dump/Data_CSVDownloaded/02_forms/Ess_Prg_MSupp_PI.csv - ('_/Ess_CHB_DSQ_SR2', '_/Ess_Prg_MSupp_PI')\n",
      "2024-05-19 20:16:31,976 - Files processed: 9\n",
      "2024-05-19 20:16:32,046 - Reading /Users/faith/Desktop/Work/Boston Childrens Hospital/birth-cohort-db/ECHO/data_dump/Data_CSVDownloaded/02_forms/Rec_RCh_ASA_TNS.csv - ('_/Ess_Prg_MSupp_PI', '_/Rec_RCh_ASA_TNS')\n",
      "2024-05-19 20:16:48,872 - Files processed: 10\n",
      "2024-05-19 20:16:48,899 - Reading /Users/faith/Desktop/Work/Boston Childrens Hospital/birth-cohort-db/ECHO/data_dump/Data_CSVDownloaded/02_forms/Ess_Prg_MSuppSF_R.csv - ('_/Rec_RCh_ASA_TNS', '_/Ess_Prg_MSuppSF_R')\n",
      "2024-05-19 20:17:11,667 - Files processed: 11\n",
      "2024-05-19 20:17:11,724 - Reading /Users/faith/Desktop/Work/Boston Childrens Hospital/birth-cohort-db/ECHO/data_dump/Data_CSVDownloaded/02_forms/Ess_Prg_MFSP.csv - ('_/Ess_Prg_MSuppSF_R', '_/Ess_Prg_MFSP')\n",
      "2024-05-19 20:17:33,840 - Files processed: 12\n",
      "2024-05-19 20:17:33,871 - Reading /Users/faith/Desktop/Work/Boston Childrens Hospital/birth-cohort-db/ECHO/data_dump/Data_CSVDownloaded/02_forms/Ess_Prg_DSQ_SR.csv - ('_/Ess_Prg_MFSP', '_/Ess_Prg_DSQ_SR')\n",
      "2024-05-19 20:17:50,348 - Files processed: 13\n",
      "2024-05-19 20:17:51,804 - Reading /Users/faith/Desktop/Work/Boston Childrens Hospital/birth-cohort-db/ECHO/data_dump/Data_CSVDownloaded/02_forms/Ess_Prg_MMRA2.csv - ('_/Ess_Prg_DSQ_SR', '_/Ess_Prg_MMRA2')\n",
      "2024-05-19 20:37:59,999 - Files processed: 14\n",
      "2024-05-19 20:38:00,321 - Reading /Users/faith/Desktop/Work/Boston Childrens Hospital/birth-cohort-db/ECHO/data_dump/Data_CSVDownloaded/02_forms/Rec_RCh_ASA_Totals.csv - ('_/Ess_Prg_MMRA2', '_/Rec_RCh_ASA_Totals')\n",
      "2024-05-19 20:38:26,613 - Files processed: 15\n",
      "2024-05-19 20:38:26,802 - Reading /Users/faith/Desktop/Work/Boston Childrens Hospital/birth-cohort-db/ECHO/data_dump/Data_CSVDownloaded/02_forms/Ess_Prg_MSupp_PP.csv - ('_/Rec_RCh_ASA_Totals', '_/Ess_Prg_MSupp_PP')\n",
      "2024-05-19 20:40:38,442 - Files processed: 16\n",
      "2024-05-19 20:40:38,494 - Reading /Users/faith/Desktop/Work/Boston Childrens Hospital/birth-cohort-db/ECHO/data_dump/Data_CSVDownloaded/02_forms/Ess_CHB_DSQ_PR.csv - ('_/Ess_Prg_MSupp_PP', '_/Ess_CHB_DSQ_PR')\n",
      "2024-05-19 20:40:54,973 - Files processed: 17\n",
      "2024-05-19 20:40:54,985 - Reading /Users/faith/Desktop/Work/Boston Childrens Hospital/birth-cohort-db/ECHO/data_dump/Data_CSVDownloaded/02_forms/Ess_Prg_MSuppSF_PP.csv - ('_/Ess_CHB_DSQ_PR', '_/Ess_Prg_MSuppSF_PP')\n",
      "2024-05-19 20:40:58,116 - Files processed: 18\n",
      "2024-05-19 20:40:58,402 - Reading /Users/faith/Desktop/Work/Boston Childrens Hospital/birth-cohort-db/ECHO/data_dump/Data_CSVDownloaded/02_forms/Ess_CHB_IFP.csv - ('_/Ess_Prg_MSuppSF_PP', '_/Ess_CHB_IFP')\n",
      "2024-05-19 20:43:36,540 - Files processed: 19\n",
      "2024-05-19 20:43:36,811 - Reading /Users/faith/Desktop/Work/Boston Childrens Hospital/birth-cohort-db/ECHO/data_dump/Data_CSVDownloaded/02_forms/Ess_CHB_CFH.csv - ('_/Ess_CHB_IFP', '_/Ess_CHB_CFH')\n",
      "2024-05-19 20:45:39,273 - Files processed: 20\n",
      "2024-05-19 20:45:39,483 - Reading /Users/faith/Desktop/Work/Boston Childrens Hospital/birth-cohort-db/ECHO/data_dump/Data_CSVDownloaded/02_forms/Ess_CHB_BLOCK.csv - ('_/Ess_CHB_CFH', '_/Ess_CHB_BLOCK')\n",
      "2024-05-19 20:46:42,174 - Files processed: 21\n",
      "2024-05-19 20:46:43,549 - Reading /Users/faith/Desktop/Work/Boston Childrens Hospital/birth-cohort-db/ECHO/data_dump/Data_CSVDownloaded/02_forms/Ess_Prg_MMRA.csv - ('_/Ess_CHB_BLOCK', '_/Ess_Prg_MMRA')\n",
      "2024-05-19 21:08:30,560 - Files processed: 22\n"
     ]
    }
   ],
   "source": [
    "combined_df, merged_files, files_count= combine_echo_files(specific_form_file_paths)"
   ],
   "metadata": {
    "collapsed": false,
    "ExecuteTime": {
     "end_time": "2024-05-20T01:08:36.872004Z",
     "start_time": "2024-05-20T00:10:12.694385Z"
    }
   },
   "id": "5d708315b48afb49"
  },
  {
   "cell_type": "code",
   "execution_count": 44,
   "outputs": [],
   "source": [
    "# Export to csv\n",
    "combined_df.to_csv('/Users/faith/Desktop/Work/Boston Childrens Hospital/birth-cohort-db/ECHO/data_dump/raw_combined_batches/maternal_child_nutrition')"
   ],
   "metadata": {
    "collapsed": false,
    "ExecuteTime": {
     "end_time": "2024-05-20T01:20:12.525667Z",
     "start_time": "2024-05-20T01:16:06.852531Z"
    }
   },
   "id": "38b63cf67727d131"
  },
  {
   "cell_type": "code",
   "execution_count": 47,
   "outputs": [
    {
     "data": {
      "text/plain": "  xParticipantID xOthPtID1 ProtocolID xCohortID  xSiteID xCohortID_UH3  \\\n0    A10002-01-0       NaN   EWCP_New     AAX06      NaN         AAX06   \n1    A10670-01-0       NaN   EWCP_New     AAX06      NaN         AAX06   \n\n   ExplicitRegistration ParticipantType  ParticipationLevel  PregnancyNumber  \\\n0                     0               P                   2                1   \n1                     0               P                   2                1   \n\n   ... mmra_f3h6_c  mmra_f3h7_c  mmra_f3h8_c  mmra_f3h9_c  \\\n0  ...         NaN          NaN          NaN          NaN   \n1  ...         NaN          NaN          NaN          NaN   \n\n  mmra_sectionf_complete___1  mmra_setting mmra_mode  mmra_version  \\\n0                        NaN           NaN       NaN           NaN   \n1                        NaN           NaN       NaN           NaN   \n\n  mmra_language  MMRA_EmanifestSource  \n0           NaN                   NaN  \n1           NaN                   NaN  \n\n[2 rows x 5016 columns]",
      "text/html": "<div>\n<style scoped>\n    .dataframe tbody tr th:only-of-type {\n        vertical-align: middle;\n    }\n\n    .dataframe tbody tr th {\n        vertical-align: top;\n    }\n\n    .dataframe thead th {\n        text-align: right;\n    }\n</style>\n<table border=\"1\" class=\"dataframe\">\n  <thead>\n    <tr style=\"text-align: right;\">\n      <th></th>\n      <th>xParticipantID</th>\n      <th>xOthPtID1</th>\n      <th>ProtocolID</th>\n      <th>xCohortID</th>\n      <th>xSiteID</th>\n      <th>xCohortID_UH3</th>\n      <th>ExplicitRegistration</th>\n      <th>ParticipantType</th>\n      <th>ParticipationLevel</th>\n      <th>PregnancyNumber</th>\n      <th>...</th>\n      <th>mmra_f3h6_c</th>\n      <th>mmra_f3h7_c</th>\n      <th>mmra_f3h8_c</th>\n      <th>mmra_f3h9_c</th>\n      <th>mmra_sectionf_complete___1</th>\n      <th>mmra_setting</th>\n      <th>mmra_mode</th>\n      <th>mmra_version</th>\n      <th>mmra_language</th>\n      <th>MMRA_EmanifestSource</th>\n    </tr>\n  </thead>\n  <tbody>\n    <tr>\n      <th>0</th>\n      <td>A10002-01-0</td>\n      <td>NaN</td>\n      <td>EWCP_New</td>\n      <td>AAX06</td>\n      <td>NaN</td>\n      <td>AAX06</td>\n      <td>0</td>\n      <td>P</td>\n      <td>2</td>\n      <td>1</td>\n      <td>...</td>\n      <td>NaN</td>\n      <td>NaN</td>\n      <td>NaN</td>\n      <td>NaN</td>\n      <td>NaN</td>\n      <td>NaN</td>\n      <td>NaN</td>\n      <td>NaN</td>\n      <td>NaN</td>\n      <td>NaN</td>\n    </tr>\n    <tr>\n      <th>1</th>\n      <td>A10670-01-0</td>\n      <td>NaN</td>\n      <td>EWCP_New</td>\n      <td>AAX06</td>\n      <td>NaN</td>\n      <td>AAX06</td>\n      <td>0</td>\n      <td>P</td>\n      <td>2</td>\n      <td>1</td>\n      <td>...</td>\n      <td>NaN</td>\n      <td>NaN</td>\n      <td>NaN</td>\n      <td>NaN</td>\n      <td>NaN</td>\n      <td>NaN</td>\n      <td>NaN</td>\n      <td>NaN</td>\n      <td>NaN</td>\n      <td>NaN</td>\n    </tr>\n  </tbody>\n</table>\n<p>2 rows × 5016 columns</p>\n</div>"
     },
     "execution_count": 47,
     "metadata": {},
     "output_type": "execute_result"
    }
   ],
   "source": [
    "combined_df.head(2)"
   ],
   "metadata": {
    "collapsed": false,
    "ExecuteTime": {
     "end_time": "2024-05-20T02:47:56.494573Z",
     "start_time": "2024-05-20T02:47:56.493510Z"
    }
   },
   "id": "1f7a42f10ecec6f9"
  },
  {
   "cell_type": "code",
   "execution_count": 48,
   "outputs": [
    {
     "data": {
      "text/plain": "(63215, 5016)"
     },
     "execution_count": 48,
     "metadata": {},
     "output_type": "execute_result"
    }
   ],
   "source": [
    "combined_df.shape"
   ],
   "metadata": {
    "collapsed": false,
    "ExecuteTime": {
     "end_time": "2024-05-20T02:48:44.042493Z",
     "start_time": "2024-05-20T02:48:44.016578Z"
    }
   },
   "id": "74c68d5f9aff6a81"
  },
  {
   "cell_type": "code",
   "execution_count": null,
   "outputs": [],
   "source": [],
   "metadata": {
    "collapsed": false
   },
   "id": "dfc445abd4e3b328"
  },
  {
   "cell_type": "code",
   "execution_count": null,
   "outputs": [],
   "source": [],
   "metadata": {
    "collapsed": false
   },
   "id": "66ffdd8adb54ee40"
  }
 ],
 "metadata": {
  "kernelspec": {
   "display_name": "Python 3",
   "language": "python",
   "name": "python3"
  },
  "language_info": {
   "codemirror_mode": {
    "name": "ipython",
    "version": 2
   },
   "file_extension": ".py",
   "mimetype": "text/x-python",
   "name": "python",
   "nbconvert_exporter": "python",
   "pygments_lexer": "ipython2",
   "version": "2.7.6"
  }
 },
 "nbformat": 4,
 "nbformat_minor": 5
}
