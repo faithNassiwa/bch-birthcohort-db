{
 "cells": [
  {
   "cell_type": "code",
   "execution_count": 241,
   "id": "initial_id",
   "metadata": {
    "collapsed": true,
    "ExecuteTime": {
     "end_time": "2024-04-19T12:47:55.828199Z",
     "start_time": "2024-04-19T12:47:55.816591Z"
    }
   },
   "outputs": [],
   "source": [
    "import pandas as pd\n",
    "import os\n",
    "import logging\n",
    "import numpy as np"
   ]
  },
  {
   "cell_type": "code",
   "execution_count": 242,
   "outputs": [],
   "source": [
    "# Logging events \n",
    "logging.basicConfig(format='%(asctime)s - %(message)s', level=logging.INFO)"
   ],
   "metadata": {
    "collapsed": false,
    "ExecuteTime": {
     "end_time": "2024-04-19T12:47:57.327689Z",
     "start_time": "2024-04-19T12:47:57.313932Z"
    }
   },
   "id": "eb7f629d0cf2f33"
  },
  {
   "cell_type": "code",
   "execution_count": 243,
   "outputs": [],
   "source": [
    "# Set directory to files to get list of file_paths excluding subdirectories\n",
    "directory = '/Users/faith/Desktop/ECHO/raw_downloaded/csv_files/'\n",
    "file_paths = [os.path.join(directory, file) for file in os.listdir(directory) if os.path.isfile(os.path.join(directory, file))]"
   ],
   "metadata": {
    "collapsed": false,
    "ExecuteTime": {
     "end_time": "2024-04-19T12:47:58.722854Z",
     "start_time": "2024-04-19T12:47:58.699146Z"
    }
   },
   "id": "64f960af74f7335f"
  },
  {
   "cell_type": "code",
   "execution_count": 244,
   "outputs": [
    {
     "data": {
      "text/plain": "340"
     },
     "execution_count": 244,
     "metadata": {},
     "output_type": "execute_result"
    }
   ],
   "source": [
    "# Make PtReg file the first item in the list since we shall need it to be set as the base with all the participant registrations\n",
    "PtReg = os.path.join(directory, 'PtReg.csv')\n",
    "file_paths.insert(0, file_paths.pop(file_paths.index(PtReg)))\n",
    "len(file_paths)"
   ],
   "metadata": {
    "collapsed": false,
    "ExecuteTime": {
     "end_time": "2024-04-19T12:48:06.028399Z",
     "start_time": "2024-04-19T12:48:06.002412Z"
    }
   },
   "id": "bd2a6d01f8e44841"
  },
  {
   "cell_type": "code",
   "execution_count": 237,
   "outputs": [],
   "source": [
    "# Define the aggregation functions\n",
    "def custom_agg(series):\n",
    "    # Filter out NaN values before joining\n",
    "    return ', '.join(series.dropna().astype(str))\n",
    "\n",
    "def list_agg(series):\n",
    "    return list(series.dropna())\n",
    "\n",
    "# Specify the columns you want to group by\n",
    "group_columns = ['xCohortID', 'xParticipantID']\n",
    "drop_columns = ['ProtocolID', 'xSiteID']\n",
    "\n",
    "def aggregate_data(grouping_columns, grouping_df): \n",
    "    # Create an empty aggregation dictionary\n",
    "    agg_dict = {}\n",
    "    \n",
    "    # Dynamically add columns to the dictionary with the appropriate function\n",
    "    for col in grouping_df.columns:\n",
    "        if col in grouping_columns:\n",
    "            continue  # Skip group by columns\n",
    "        #if df[col].dtype == 'float64' or df[col].dtype == 'int64':\n",
    "        #agg_dict[col] = ['mean', 'max']  # Apply both mean and max\n",
    "        elif grouping_df[col].dtype in [np.float64, np.int64]:\n",
    "            agg_dict[col] = list_agg  # Use list aggregation for numeric columns\n",
    "    \n",
    "        else:\n",
    "            agg_dict[col] = custom_agg  # Apply custom concatenation\n",
    "    \n",
    "    # Apply the aggregation to the DataFrame\n",
    "    grouped_df = grouping_df.groupby(group_columns).agg(agg_dict)\n",
    "\n",
    "    # Flatten the multi-level columns if necessary\n",
    "    grouped_df.columns = ['_'.join(col) if isinstance(col, tuple) else col for col in grouped_df.columns.values]\n",
    "\n",
    "    grouped_df.reset_index(inplace=True)\n",
    "    return grouped_df\n",
    "    \n",
    "def combine_echo_files(files):\n",
    "    # Initialize an empty DataFrame and trackers\n",
    "    base_df = pd.DataFrame()\n",
    "    file_count = 0\n",
    "    merged_files = []\n",
    "    # Process each file\n",
    "    for index, file in enumerate(files):\n",
    "        if file.endswith('.csv'):\n",
    "            # Read the current file into a DataFrame\n",
    "            temp_df = pd.read_csv(file, low_memory=False)\n",
    "\n",
    "            # Dynamic suffixes based on the file names\n",
    "            base_file = files[index-1].replace(directory, '')\n",
    "            base_form_name = os.path.splitext(base_file)[0]\n",
    "            temp_file = file.replace(directory, '')\n",
    "            temp_form_name = os.path.splitext(temp_file)[0]\n",
    "            suffixes = (f'_{base_form_name }', f'_{temp_form_name}')\n",
    "            \n",
    "            logging.info('Reading %s - %s', file, suffixes)\n",
    "        \n",
    "            # Add the first file(PtReg)\n",
    "            if base_df.empty:\n",
    "                base_df = temp_df\n",
    "            else:\n",
    "               # Remove columns that are repeated and/or not relevant \n",
    "                temp_df = temp_df.drop(columns=[col for col in drop_columns if col in temp_df.columns])\n",
    "               \n",
    "                # Aggregate the data in the form to combine with the PtReg \n",
    "                temp_df = aggregate_data(group_columns, temp_df)\n",
    "            \n",
    "                # Merge the new DataFrame with the base DataFrame on the join key\n",
    "                base_df = pd.merge(base_df, temp_df, on=['xCohortID', 'xParticipantID'], how='left', suffixes=suffixes)\n",
    "        file_count += 1\n",
    "        merged_files.append(file)\n",
    "        logging.info('Files processed: %s', file_count)\n",
    "    # Remove PtReg file from merged files so that it can be used as base in next batch\n",
    "    merged_files.remove(PtReg)\n",
    "    return base_df, merged_files, file_count"
   ],
   "metadata": {
    "collapsed": false,
    "ExecuteTime": {
     "end_time": "2024-04-19T02:04:56.019406Z",
     "start_time": "2024-04-19T02:04:56.013741Z"
    }
   },
   "id": "74ee184932f6b9fd"
  },
  {
   "cell_type": "code",
   "execution_count": 238,
   "outputs": [
    {
     "name": "stderr",
     "output_type": "stream",
     "text": [
      "2024-04-18 22:04:57,436 - Reading /Users/faith/Desktop/ECHO/raw_downloaded/csv_files/PtReg.csv - ('_Ess_HSE_HOME_EC', '_PtReg')\n",
      "2024-04-18 22:04:57,437 - Files processed: 1\n",
      "2024-04-18 22:04:57,481 - Reading /Users/faith/Desktop/ECHO/raw_downloaded/csv_files/Ess_CNH_SDQ_4.csv - ('_PtReg', '_Ess_CNH_SDQ_4')\n",
      "2024-04-18 22:05:11,794 - Files processed: 2\n",
      "2024-04-18 22:05:11,812 - Reading /Users/faith/Desktop/ECHO/raw_downloaded/csv_files/Ess_HSE_HOME_EC.csv - ('_Ess_CNH_SDQ_4', '_Ess_HSE_HOME_EC')\n",
      "2024-04-18 22:05:17,047 - Files processed: 3\n"
     ]
    }
   ],
   "source": [
    "combined_df, merged_files, files_count= combine_echo_files(file_paths[0:3]) "
   ],
   "metadata": {
    "collapsed": false,
    "ExecuteTime": {
     "end_time": "2024-04-19T02:05:17.107561Z",
     "start_time": "2024-04-19T02:04:57.203245Z"
    }
   },
   "id": "86122d73eec97b25"
  },
  {
   "cell_type": "code",
   "execution_count": 240,
   "outputs": [],
   "source": [
    "combined_df.to_csv('combined_echo_data_3.csv', index=False)"
   ],
   "metadata": {
    "collapsed": false,
    "ExecuteTime": {
     "end_time": "2024-04-19T04:15:12.449234Z",
     "start_time": "2024-04-19T04:15:07.898318Z"
    }
   },
   "id": "c06fca54391a30b1"
  },
  {
   "cell_type": "code",
   "execution_count": 221,
   "outputs": [
    {
     "data": {
      "text/plain": "(63215, 159)"
     },
     "execution_count": 221,
     "metadata": {},
     "output_type": "execute_result"
    }
   ],
   "source": [
    "combined_df.shape"
   ],
   "metadata": {
    "collapsed": false,
    "ExecuteTime": {
     "end_time": "2024-04-19T01:38:14.302735Z",
     "start_time": "2024-04-19T01:38:14.296532Z"
    }
   },
   "id": "28e48805723c7028"
  },
  {
   "cell_type": "code",
   "execution_count": 192,
   "outputs": [],
   "source": [
    "merged_files_30 = merged_files"
   ],
   "metadata": {
    "collapsed": false,
    "ExecuteTime": {
     "end_time": "2024-04-19T01:06:35.894310Z",
     "start_time": "2024-04-19T01:06:35.878539Z"
    }
   },
   "id": "11acc2cd86a0656f"
  },
  {
   "cell_type": "code",
   "execution_count": 194,
   "outputs": [
    {
     "data": {
      "text/plain": "['/Users/faith/Desktop/ECHO/raw_downloaded/csv_files/Ess_CNH_SDQ_4.csv',\n '/Users/faith/Desktop/ECHO/raw_downloaded/csv_files/Ess_HSE_HOME_EC.csv',\n '/Users/faith/Desktop/ECHO/raw_downloaded/csv_files/Rec_RCh_TSR_6_12.csv',\n '/Users/faith/Desktop/ECHO/raw_downloaded/csv_files/Rec_RCh_SESC_6_12.csv',\n '/Users/faith/Desktop/ECHO/raw_downloaded/csv_files/Ess_CWB_PGLS5a_A.csv',\n '/Users/faith/Desktop/ECHO/raw_downloaded/csv_files/Ess_CHB_BLOCK2.csv',\n '/Users/faith/Desktop/ECHO/raw_downloaded/csv_files/Rec_RCh_NDSR04_C.csv',\n '/Users/faith/Desktop/ECHO/raw_downloaded/csv_files/Ess_CPH_PDS.csv',\n '/Users/faith/Desktop/ECHO/raw_downloaded/csv_files/Ess_CNP_PPVT3a.csv',\n '/Users/faith/Desktop/ECHO/raw_downloaded/csv_files/Ess_CNH_ASQ_18.csv',\n '/Users/faith/Desktop/ECHO/raw_downloaded/csv_files/Ess_CHB_CFSP.csv',\n '/Users/faith/Desktop/ECHO/raw_downloaded/csv_files/Rec_RCh_CPrU_PR.csv',\n '/Users/faith/Desktop/ECHO/raw_downloaded/csv_files/Ess_CNH_ASQ_24.csv',\n '/Users/faith/Desktop/ECHO/raw_downloaded/csv_files/Ess_SRP_EAC_PR.csv',\n '/Users/faith/Desktop/ECHO/raw_downloaded/csv_files/Ess_CNH_ASQ_30.csv',\n '/Users/faith/Desktop/ECHO/raw_downloaded/csv_files/Ess_CNH_SCQ.csv',\n '/Users/faith/Desktop/ECHO/raw_downloaded/csv_files/Ess_CWB_PLS8b_Ped.csv',\n '/Users/faith/Desktop/ECHO/raw_downloaded/csv_files/Rec_RCg_CTS.csv',\n '/Users/faith/Desktop/ECHO/raw_downloaded/csv_files/Ess_HSE_ACE_aPV_A.csv',\n '/Users/faith/Desktop/ECHO/raw_downloaded/csv_files/Rec_RCh_Caff_PR.csv',\n '/Users/faith/Desktop/ECHO/raw_downloaded/csv_files/Rec_RCg_PSOC.csv',\n '/Users/faith/Desktop/ECHO/raw_downloaded/csv_files/Ess_CNH_SB5.csv',\n '/Users/faith/Desktop/ECHO/raw_downloaded/csv_files/Ess_CNH_RECBQvSF.csv',\n '/Users/faith/Desktop/ECHO/raw_downloaded/csv_files/Ess_CNH_PPSE4a_Ped.csv',\n '/Users/faith/Desktop/ECHO/raw_downloaded/csv_files/Ess_Prg_MMRAaG.csv',\n '/Users/faith/Desktop/ECHO/raw_downloaded/csv_files/import.py',\n '/Users/faith/Desktop/ECHO/raw_downloaded/csv_files/Ess_HSE_FES_Coh.csv',\n '/Users/faith/Desktop/ECHO/raw_downloaded/csv_files/Rec_RCh_C19SSD_cPR.csv',\n '/Users/faith/Desktop/ECHO/raw_downloaded/csv_files/Ess_CHB_BLOCK3.csv']"
     },
     "execution_count": 194,
     "metadata": {},
     "output_type": "execute_result"
    }
   ],
   "source": [
    "merged_files_30"
   ],
   "metadata": {
    "collapsed": false,
    "ExecuteTime": {
     "end_time": "2024-04-19T01:06:53.079082Z",
     "start_time": "2024-04-19T01:06:53.071482Z"
    }
   },
   "id": "384a7748e70c2236"
  },
  {
   "cell_type": "code",
   "execution_count": 246,
   "outputs": [
    {
     "data": {
      "text/plain": "98"
     },
     "execution_count": 246,
     "metadata": {},
     "output_type": "execute_result"
    }
   ],
   "source": [
    "file_paths.index('/Users/faith/Desktop/ECHO/raw_downloaded/csv_files/Ess_CPH_CG_CAPE.csv')"
   ],
   "metadata": {
    "collapsed": false,
    "ExecuteTime": {
     "end_time": "2024-04-19T12:53:30.302090Z",
     "start_time": "2024-04-19T12:53:30.281747Z"
    }
   },
   "id": "ee5207b38e1d2e34"
  },
  {
   "cell_type": "code",
   "execution_count": 248,
   "outputs": [
    {
     "data": {
      "text/plain": "'/Users/faith/Desktop/ECHO/raw_downloaded/csv_files/Ess_Dem_GI.csv'"
     },
     "execution_count": 248,
     "metadata": {},
     "output_type": "execute_result"
    }
   ],
   "source": [
    "file_paths[99]"
   ],
   "metadata": {
    "collapsed": false,
    "ExecuteTime": {
     "end_time": "2024-04-19T12:54:27.149162Z",
     "start_time": "2024-04-19T12:54:27.140111Z"
    }
   },
   "id": "91b90e144984ae52"
  },
  {
   "cell_type": "code",
   "execution_count": 251,
   "outputs": [
    {
     "data": {
      "text/plain": "'/Users/faith/Desktop/ECHO/raw_downloaded/csv_files/Ess_CNH_ASQ_54.csv'"
     },
     "execution_count": 251,
     "metadata": {},
     "output_type": "execute_result"
    }
   ],
   "source": [
    "file_paths[149]"
   ],
   "metadata": {
    "collapsed": false,
    "ExecuteTime": {
     "end_time": "2024-04-19T15:39:28.037803Z",
     "start_time": "2024-04-19T15:39:28.026625Z"
    }
   },
   "id": "c370d49918ce838b"
  },
  {
   "cell_type": "markdown",
   "source": [
    "Notes:  file Rec_RCh_NDSR02_C.csv is large file number 54 and takes a while to execute ... over an hour on local computer resources "
   ],
   "metadata": {
    "collapsed": false
   },
   "id": "d9a6ba1126bac68"
  },
  {
   "cell_type": "raw",
   "source": [],
   "metadata": {
    "collapsed": false
   },
   "id": "1e5a0cfab52cfa27"
  }
 ],
 "metadata": {
  "kernelspec": {
   "display_name": "Python 3",
   "language": "python",
   "name": "python3"
  },
  "language_info": {
   "codemirror_mode": {
    "name": "ipython",
    "version": 2
   },
   "file_extension": ".py",
   "mimetype": "text/x-python",
   "name": "python",
   "nbconvert_exporter": "python",
   "pygments_lexer": "ipython2",
   "version": "2.7.6"
  }
 },
 "nbformat": 4,
 "nbformat_minor": 5
}
